{
 "cells": [
  {
   "cell_type": "markdown",
   "metadata": {},
   "source": [
    "# core\n",
    "\n",
    "> Fill in a module description here"
   ]
  },
  {
   "cell_type": "code",
   "execution_count": 1,
   "metadata": {},
   "outputs": [],
   "source": [
    "#| default_exp core"
   ]
  },
  {
   "cell_type": "code",
   "execution_count": 27,
   "metadata": {},
   "outputs": [],
   "source": [
    "from pathlib import Path\n",
    "import pickle,gzip, math, os, time, shutil, matplotlib as mpl\n",
    "import matplotlib.pyplot as plt\n"
   ]
  },
  {
   "cell_type": "markdown",
   "metadata": {},
   "source": [
    "Get Data"
   ]
  },
  {
   "cell_type": "code",
   "execution_count": 28,
   "metadata": {},
   "outputs": [],
   "source": [
    "# find MNIST dataset url\n",
    "MNIST_URL = \"https://github.com/mnielsen/neural-networks-and-deep-learning/raw/master/data/mnist.pkl.gz\"\n",
    "path_data = Path(\"data\")\n",
    "path_data.mkdir(exist_ok=True)\n",
    "path_gz = path_data / \"mnist.pkl.gz\"\n",
    "\n"
   ]
  },
  {
   "cell_type": "code",
   "execution_count": 29,
   "metadata": {},
   "outputs": [],
   "source": [
    "# download MNIST dataset\n",
    "import requests\n",
    "if not path_gz.exists():\n",
    "    content = requests.get(MNIST_URL).content\n",
    "    path_gz.open(\"wb\").write(content)"
   ]
  },
  {
   "cell_type": "code",
   "execution_count": 30,
   "metadata": {},
   "outputs": [],
   "source": [
    "# load MNIST dataset\n",
    "with gzip.open(path_gz, \"rb\") as f:\n",
    "    ((x_train, y_train), (x_valid, y_valid), _) = pickle.load(f, encoding=\"latin-1\")"
   ]
  },
  {
   "cell_type": "code",
   "execution_count": 31,
   "metadata": {},
   "outputs": [
    {
     "data": {
      "text/plain": [
       "[0.0,\n",
       " 0.0,\n",
       " 0.0,\n",
       " 0.19140625,\n",
       " 0.9296875,\n",
       " 0.98828125,\n",
       " 0.98828125,\n",
       " 0.98828125,\n",
       " 0.98828125,\n",
       " 0.98828125]"
      ]
     },
     "execution_count": 31,
     "metadata": {},
     "output_type": "execute_result"
    }
   ],
   "source": [
    "lst1 = list(x_train[0])\n",
    "vals = lst1[200:210]\n",
    "vals"
   ]
  },
  {
   "cell_type": "code",
   "execution_count": 32,
   "metadata": {},
   "outputs": [
    {
     "data": {
      "text/plain": [
       "28"
      ]
     },
     "execution_count": 32,
     "metadata": {},
     "output_type": "execute_result"
    }
   ],
   "source": [
    "# convert list to chunked list\n",
    "def chunked_list(lst, chunk_size):\n",
    "    return [lst[i:i+chunk_size] for i in range(0, len(lst), chunk_size)]\n",
    "\n",
    "def chunks(lst, chunk_size):\n",
    "    for i in range(0, len(lst), chunk_size):\n",
    "        yield lst[i:i+chunk_size]\n",
    "        \n",
    "chuncked = chunked_list(lst1, 28)\n",
    "len(chuncked)"
   ]
  },
  {
   "cell_type": "code",
   "execution_count": 33,
   "metadata": {},
   "outputs": [
    {
     "data": {
      "text/plain": [
       "<matplotlib.image.AxesImage at 0x7fe692a9a2f0>"
      ]
     },
     "execution_count": 33,
     "metadata": {},
     "output_type": "execute_result"
    },
    {
     "data": {
      "image/png": "[encoded data removed]",
      "text/plain": [
       "<Figure size 640x480 with 1 Axes>"
      ]
     },
     "metadata": {},
     "output_type": "display_data"
    }
   ],
   "source": [
    "# plot the chunked item\n",
    "plt.imshow(list(chunks(lst1, 28)), cmap='gray')"
   ]
  },
  {
   "cell_type": "code",
   "execution_count": 34,
   "metadata": {},
   "outputs": [],
   "source": [
    "from itertools import islice"
   ]
  },
  {
   "cell_type": "code",
   "execution_count": 50,
   "metadata": {},
   "outputs": [
    {
     "name": "stdout",
     "output_type": "stream",
     "text": [
      "\u001b[0;31mDocstring:\u001b[0m\n",
      "iter(iterable) -> iterator\n",
      "iter(callable, sentinel) -> iterator\n",
      "\n",
      "Get an iterator from an object.  In the first form, the argument must\n",
      "supply its own iterator, or be a sequence.\n",
      "In the second form, the callable is called until it returns the sentinel.\n",
      "\u001b[0;31mType:\u001b[0m      builtin_function_or_method\n"
     ]
    }
   ],
   "source": [
    "iter??"
   ]
  },
  {
   "cell_type": "code",
   "execution_count": 51,
   "metadata": {},
   "outputs": [],
   "source": [
    "it = iter(vals)"
   ]
  },
  {
   "cell_type": "code",
   "execution_count": 52,
   "metadata": {},
   "outputs": [
    {
     "data": {
      "text/plain": [
       "0.0"
      ]
     },
     "execution_count": 52,
     "metadata": {},
     "output_type": "execute_result"
    }
   ],
   "source": [
    "next(it)"
   ]
  },
  {
   "cell_type": "code",
   "execution_count": 46,
   "metadata": {},
   "outputs": [
    {
     "data": {
      "text/plain": [
       "([0.0, 0.0, 0.0, 0.19140625, 0.9296875],\n",
       " [0.98828125, 0.98828125, 0.98828125, 0.98828125, 0.98828125],\n",
       " [])"
      ]
     },
     "execution_count": 46,
     "metadata": {},
     "output_type": "execute_result"
    }
   ],
   "source": [
    "list(islice(it,5)),list(islice(it,5)),list(islice(it,5))"
   ]
  },
  {
   "cell_type": "code",
   "execution_count": 58,
   "metadata": {},
   "outputs": [],
   "source": [
    "it = iter(lst1)\n",
    "img = list(iter(lambda: list(islice(it,28)), []))"
   ]
  },
  {
   "cell_type": "code",
   "execution_count": 59,
   "metadata": {},
   "outputs": [
    {
     "data": {
      "text/plain": [
       "<matplotlib.image.AxesImage at 0x7fe6930f3d60>"
      ]
     },
     "execution_count": 59,
     "metadata": {},
     "output_type": "execute_result"
    },
    {
     "data": {
      "image/png": "[encoded data removed]",
      "text/plain": [
       "<Figure size 640x480 with 1 Axes>"
      ]
     },
     "metadata": {},
     "output_type": "display_data"
    }
   ],
   "source": [
    "plt.imshow(img, cmap='gray')"
   ]
  },
  {
   "cell_type": "code",
   "execution_count": 61,
   "metadata": {},
   "outputs": [
    {
     "data": {
      "text/plain": [
       "0.0"
      ]
     },
     "execution_count": 61,
     "metadata": {},
     "output_type": "execute_result"
    }
   ],
   "source": [
    "# it = iter(lst1)\n",
    "img[20][20]"
   ]
  },
  {
   "cell_type": "code",
   "execution_count": 70,
   "metadata": {},
   "outputs": [],
   "source": [
    "class Matrix:\n",
    "    def __init__(self, matrix):\n",
    "        self.matrix = matrix\n",
    "        self.rows = len(matrix)\n",
    "        self.cols = len(matrix[0])\n",
    "    def __getitem__(self, idx):\n",
    "        return self.matrix[idx[0]][idx[1]]"
   ]
  },
  {
   "cell_type": "markdown",
   "metadata": {},
   "source": []
  },
  {
   "cell_type": "code",
   "execution_count": 71,
   "metadata": {},
   "outputs": [
    {
     "data": {
      "text/plain": [
       "<__main__.Matrix at 0x7fe6a2acedd0>"
      ]
     },
     "execution_count": 71,
     "metadata": {},
     "output_type": "execute_result"
    }
   ],
   "source": [
    "m = Matrix(img)\n",
    "m"
   ]
  },
  {
   "cell_type": "code",
   "execution_count": 73,
   "metadata": {},
   "outputs": [
    {
     "data": {
      "text/plain": [
       "0.98828125"
      ]
     },
     "execution_count": 73,
     "metadata": {},
     "output_type": "execute_result"
    }
   ],
   "source": [
    "m[20,15]"
   ]
  },
  {
   "cell_type": "code",
   "execution_count": 75,
   "metadata": {},
   "outputs": [],
   "source": [
    "import torch\n",
    "from torch import tensor"
   ]
  },
  {
   "cell_type": "code",
   "execution_count": 76,
   "metadata": {},
   "outputs": [
    {
     "data": {
      "text/plain": [
       "tensor([[0.0000, 0.0000, 0.0000, 0.0000, 0.0000, 0.0000, 0.0000, 0.0000, 0.0000,\n",
       "         0.0000, 0.0000, 0.0000, 0.0000, 0.0000, 0.0000, 0.0000, 0.0000, 0.0000,\n",
       "         0.0000, 0.0000, 0.0000, 0.0000, 0.0000, 0.0000, 0.0000, 0.0000, 0.0000,\n",
       "         0.0000],\n",
       "        [0.0000, 0.0000, 0.0000, 0.0000, 0.0000, 0.0000, 0.0000, 0.0000, 0.0000,\n",
       "         0.0000, 0.0000, 0.0000, 0.0000, 0.0000, 0.0000, 0.0000, 0.0000, 0.0000,\n",
       "         0.0000, 0.0000, 0.0000, 0.0000, 0.0000, 0.0000, 0.0000, 0.0000, 0.0000,\n",
       "         0.0000],\n",
       "        [0.0000, 0.0000, 0.0000, 0.0000, 0.0000, 0.0000, 0.0000, 0.0000, 0.0000,\n",
       "         0.0000, 0.0000, 0.0000, 0.0000, 0.0000, 0.0000, 0.0000, 0.0000, 0.0000,\n",
       "         0.0000, 0.0000, 0.0000, 0.0000, 0.0000, 0.0000, 0.0000, 0.0000, 0.0000,\n",
       "         0.0000],\n",
       "        [0.0000, 0.0000, 0.0000, 0.0000, 0.0000, 0.0000, 0.0000, 0.0000, 0.0000,\n",
       "         0.0000, 0.0000, 0.0000, 0.0000, 0.0000, 0.0000, 0.0000, 0.0000, 0.0000,\n",
       "         0.0000, 0.0000, 0.0000, 0.0000, 0.0000, 0.0000, 0.0000, 0.0000, 0.0000,\n",
       "         0.0000],\n",
       "        [0.0000, 0.0000, 0.0000, 0.0000, 0.0000, 0.0000, 0.0000, 0.0000, 0.0000,\n",
       "         0.0000, 0.0000, 0.0000, 0.0000, 0.0000, 0.0000, 0.0000, 0.0000, 0.0000,\n",
       "         0.0000, 0.0000, 0.0000, 0.0000, 0.0000, 0.0000, 0.0000, 0.0000, 0.0000,\n",
       "         0.0000],\n",
       "        [0.0000, 0.0000, 0.0000, 0.0000, 0.0000, 0.0000, 0.0000, 0.0000, 0.0000,\n",
       "         0.0000, 0.0000, 0.0000, 0.0117, 0.0703, 0.0703, 0.0703, 0.4922, 0.5312,\n",
       "         0.6836, 0.1016, 0.6484, 0.9961, 0.9648, 0.4961, 0.0000, 0.0000, 0.0000,\n",
       "         0.0000],\n",
       "        [0.0000, 0.0000, 0.0000, 0.0000, 0.0000, 0.0000, 0.0000, 0.0000, 0.1172,\n",
       "         0.1406, 0.3672, 0.6016, 0.6641, 0.9883, 0.9883, 0.9883, 0.9883, 0.9883,\n",
       "         0.8789, 0.6719, 0.9883, 0.9453, 0.7617, 0.2500, 0.0000, 0.0000, 0.0000,\n",
       "         0.0000],\n",
       "        [0.0000, 0.0000, 0.0000, 0.0000, 0.0000, 0.0000, 0.0000, 0.1914, 0.9297,\n",
       "         0.9883, 0.9883, 0.9883, 0.9883, 0.9883, 0.9883, 0.9883, 0.9883, 0.9805,\n",
       "         0.3633, 0.3203, 0.3203, 0.2188, 0.1523, 0.0000, 0.0000, 0.0000, 0.0000,\n",
       "         0.0000],\n",
       "        [0.0000, 0.0000, 0.0000, 0.0000, 0.0000, 0.0000, 0.0000, 0.0703, 0.8555,\n",
       "         0.9883, 0.9883, 0.9883, 0.9883, 0.9883, 0.7734, 0.7109, 0.9648, 0.9414,\n",
       "         0.0000, 0.0000, 0.0000, 0.0000, 0.0000, 0.0000, 0.0000, 0.0000, 0.0000,\n",
       "         0.0000],\n",
       "        [0.0000, 0.0000, 0.0000, 0.0000, 0.0000, 0.0000, 0.0000, 0.0000, 0.3125,\n",
       "         0.6094, 0.4180, 0.9883, 0.9883, 0.8008, 0.0430, 0.0000, 0.1680, 0.6016,\n",
       "         0.0000, 0.0000, 0.0000, 0.0000, 0.0000, 0.0000, 0.0000, 0.0000, 0.0000,\n",
       "         0.0000],\n",
       "        [0.0000, 0.0000, 0.0000, 0.0000, 0.0000, 0.0000, 0.0000, 0.0000, 0.0000,\n",
       "         0.0547, 0.0039, 0.6016, 0.9883, 0.3516, 0.0000, 0.0000, 0.0000, 0.0000,\n",
       "         0.0000, 0.0000, 0.0000, 0.0000, 0.0000, 0.0000, 0.0000, 0.0000, 0.0000,\n",
       "         0.0000],\n",
       "        [0.0000, 0.0000, 0.0000, 0.0000, 0.0000, 0.0000, 0.0000, 0.0000, 0.0000,\n",
       "         0.0000, 0.0000, 0.5430, 0.9883, 0.7422, 0.0078, 0.0000, 0.0000, 0.0000,\n",
       "         0.0000, 0.0000, 0.0000, 0.0000, 0.0000, 0.0000, 0.0000, 0.0000, 0.0000,\n",
       "         0.0000],\n",
       "        [0.0000, 0.0000, 0.0000, 0.0000, 0.0000, 0.0000, 0.0000, 0.0000, 0.0000,\n",
       "         0.0000, 0.0000, 0.0430, 0.7422, 0.9883, 0.2734, 0.0000, 0.0000, 0.0000,\n",
       "         0.0000, 0.0000, 0.0000, 0.0000, 0.0000, 0.0000, 0.0000, 0.0000, 0.0000,\n",
       "         0.0000],\n",
       "        [0.0000, 0.0000, 0.0000, 0.0000, 0.0000, 0.0000, 0.0000, 0.0000, 0.0000,\n",
       "         0.0000, 0.0000, 0.0000, 0.1367, 0.9414, 0.8789, 0.6250, 0.4219, 0.0039,\n",
       "         0.0000, 0.0000, 0.0000, 0.0000, 0.0000, 0.0000, 0.0000, 0.0000, 0.0000,\n",
       "         0.0000],\n",
       "        [0.0000, 0.0000, 0.0000, 0.0000, 0.0000, 0.0000, 0.0000, 0.0000, 0.0000,\n",
       "         0.0000, 0.0000, 0.0000, 0.0000, 0.3164, 0.9375, 0.9883, 0.9883, 0.4648,\n",
       "         0.0977, 0.0000, 0.0000, 0.0000, 0.0000, 0.0000, 0.0000, 0.0000, 0.0000,\n",
       "         0.0000],\n",
       "        [0.0000, 0.0000, 0.0000, 0.0000, 0.0000, 0.0000, 0.0000, 0.0000, 0.0000,\n",
       "         0.0000, 0.0000, 0.0000, 0.0000, 0.0000, 0.1758, 0.7266, 0.9883, 0.9883,\n",
       "         0.5859, 0.1055, 0.0000, 0.0000, 0.0000, 0.0000, 0.0000, 0.0000, 0.0000,\n",
       "         0.0000],\n",
       "        [0.0000, 0.0000, 0.0000, 0.0000, 0.0000, 0.0000, 0.0000, 0.0000, 0.0000,\n",
       "         0.0000, 0.0000, 0.0000, 0.0000, 0.0000, 0.0000, 0.0625, 0.3633, 0.9844,\n",
       "         0.9883, 0.7305, 0.0000, 0.0000, 0.0000, 0.0000, 0.0000, 0.0000, 0.0000,\n",
       "         0.0000],\n",
       "        [0.0000, 0.0000, 0.0000, 0.0000, 0.0000, 0.0000, 0.0000, 0.0000, 0.0000,\n",
       "         0.0000, 0.0000, 0.0000, 0.0000, 0.0000, 0.0000, 0.0000, 0.0000, 0.9727,\n",
       "         0.9883, 0.9727, 0.2500, 0.0000, 0.0000, 0.0000, 0.0000, 0.0000, 0.0000,\n",
       "         0.0000],\n",
       "        [0.0000, 0.0000, 0.0000, 0.0000, 0.0000, 0.0000, 0.0000, 0.0000, 0.0000,\n",
       "         0.0000, 0.0000, 0.0000, 0.0000, 0.0000, 0.1797, 0.5078, 0.7148, 0.9883,\n",
       "         0.9883, 0.8086, 0.0078, 0.0000, 0.0000, 0.0000, 0.0000, 0.0000, 0.0000,\n",
       "         0.0000],\n",
       "        [0.0000, 0.0000, 0.0000, 0.0000, 0.0000, 0.0000, 0.0000, 0.0000, 0.0000,\n",
       "         0.0000, 0.0000, 0.0000, 0.1523, 0.5781, 0.8945, 0.9883, 0.9883, 0.9883,\n",
       "         0.9766, 0.7109, 0.0000, 0.0000, 0.0000, 0.0000, 0.0000, 0.0000, 0.0000,\n",
       "         0.0000],\n",
       "        [0.0000, 0.0000, 0.0000, 0.0000, 0.0000, 0.0000, 0.0000, 0.0000, 0.0000,\n",
       "         0.0000, 0.0938, 0.4453, 0.8633, 0.9883, 0.9883, 0.9883, 0.9883, 0.7852,\n",
       "         0.3047, 0.0000, 0.0000, 0.0000, 0.0000, 0.0000, 0.0000, 0.0000, 0.0000,\n",
       "         0.0000],\n",
       "        [0.0000, 0.0000, 0.0000, 0.0000, 0.0000, 0.0000, 0.0000, 0.0000, 0.0898,\n",
       "         0.2578, 0.8320, 0.9883, 0.9883, 0.9883, 0.9883, 0.7734, 0.3164, 0.0078,\n",
       "         0.0000, 0.0000, 0.0000, 0.0000, 0.0000, 0.0000, 0.0000, 0.0000, 0.0000,\n",
       "         0.0000],\n",
       "        [0.0000, 0.0000, 0.0000, 0.0000, 0.0000, 0.0000, 0.0703, 0.6680, 0.8555,\n",
       "         0.9883, 0.9883, 0.9883, 0.9883, 0.7617, 0.3125, 0.0352, 0.0000, 0.0000,\n",
       "         0.0000, 0.0000, 0.0000, 0.0000, 0.0000, 0.0000, 0.0000, 0.0000, 0.0000,\n",
       "         0.0000],\n",
       "        [0.0000, 0.0000, 0.0000, 0.0000, 0.2148, 0.6719, 0.8828, 0.9883, 0.9883,\n",
       "         0.9883, 0.9883, 0.9531, 0.5195, 0.0430, 0.0000, 0.0000, 0.0000, 0.0000,\n",
       "         0.0000, 0.0000, 0.0000, 0.0000, 0.0000, 0.0000, 0.0000, 0.0000, 0.0000,\n",
       "         0.0000],\n",
       "        [0.0000, 0.0000, 0.0000, 0.0000, 0.5312, 0.9883, 0.9883, 0.9883, 0.8281,\n",
       "         0.5273, 0.5156, 0.0625, 0.0000, 0.0000, 0.0000, 0.0000, 0.0000, 0.0000,\n",
       "         0.0000, 0.0000, 0.0000, 0.0000, 0.0000, 0.0000, 0.0000, 0.0000, 0.0000,\n",
       "         0.0000],\n",
       "        [0.0000, 0.0000, 0.0000, 0.0000, 0.0000, 0.0000, 0.0000, 0.0000, 0.0000,\n",
       "         0.0000, 0.0000, 0.0000, 0.0000, 0.0000, 0.0000, 0.0000, 0.0000, 0.0000,\n",
       "         0.0000, 0.0000, 0.0000, 0.0000, 0.0000, 0.0000, 0.0000, 0.0000, 0.0000,\n",
       "         0.0000],\n",
       "        [0.0000, 0.0000, 0.0000, 0.0000, 0.0000, 0.0000, 0.0000, 0.0000, 0.0000,\n",
       "         0.0000, 0.0000, 0.0000, 0.0000, 0.0000, 0.0000, 0.0000, 0.0000, 0.0000,\n",
       "         0.0000, 0.0000, 0.0000, 0.0000, 0.0000, 0.0000, 0.0000, 0.0000, 0.0000,\n",
       "         0.0000],\n",
       "        [0.0000, 0.0000, 0.0000, 0.0000, 0.0000, 0.0000, 0.0000, 0.0000, 0.0000,\n",
       "         0.0000, 0.0000, 0.0000, 0.0000, 0.0000, 0.0000, 0.0000, 0.0000, 0.0000,\n",
       "         0.0000, 0.0000, 0.0000, 0.0000, 0.0000, 0.0000, 0.0000, 0.0000, 0.0000,\n",
       "         0.0000]])"
      ]
     },
     "execution_count": 76,
     "metadata": {},
     "output_type": "execute_result"
    }
   ],
   "source": [
    "tensor(img)"
   ]
  },
  {
   "cell_type": "code",
   "execution_count": 77,
   "metadata": {},
   "outputs": [],
   "source": [
    "x_train, y_train, x_valid, y_valid = map(tensor, (x_train, y_train, x_valid, y_valid))"
   ]
  },
  {
   "cell_type": "code",
   "execution_count": 83,
   "metadata": {},
   "outputs": [
    {
     "data": {
      "text/plain": [
       "<matplotlib.image.AxesImage at 0x7fe6929fda80>"
      ]
     },
     "execution_count": 83,
     "metadata": {},
     "output_type": "execute_result"
    },
    {
     "data": {
      "image/png": "[encoded data removed]",
      "text/plain": [
       "<Figure size 640x480 with 1 Axes>"
      ]
     },
     "metadata": {},
     "output_type": "display_data"
    }
   ],
   "source": [
    "# plot the first matrix from x_train as image\n",
    "plt.imshow(x_train[0].view(28,28), cmap='gray')"
   ]
  },
  {
   "cell_type": "code",
   "execution_count": 85,
   "metadata": {},
   "outputs": [],
   "source": [
    "imgs = x_train.reshape((-1,28,28))"
   ]
  },
  {
   "cell_type": "code",
   "execution_count": 90,
   "metadata": {},
   "outputs": [
    {
     "data": {
      "text/plain": [
       "tensor([5, 0, 4,  ..., 8, 4, 8])"
      ]
     },
     "execution_count": 90,
     "metadata": {},
     "output_type": "execute_result"
    }
   ],
   "source": [
    "y_train"
   ]
  },
  {
   "cell_type": "markdown",
   "metadata": {},
   "source": [
    "## Matrix Multiplication"
   ]
  },
  {
   "cell_type": "code",
   "execution_count": 93,
   "metadata": {},
   "outputs": [],
   "source": [
    "torch.manual_seed(1)\n",
    "weights = torch.randn(784,10)\n",
    "bias = torch.zeros(10)"
   ]
  },
  {
   "cell_type": "code",
   "execution_count": 95,
   "metadata": {},
   "outputs": [],
   "source": [
    "m1 = x_train[:5]\n",
    "m2 = weights"
   ]
  },
  {
   "cell_type": "code",
   "execution_count": 96,
   "metadata": {},
   "outputs": [
    {
     "data": {
      "text/plain": [
       "(torch.Size([5, 784]), torch.Size([784, 10]))"
      ]
     },
     "execution_count": 96,
     "metadata": {},
     "output_type": "execute_result"
    }
   ],
   "source": [
    "m1.shape, m2.shape"
   ]
  },
  {
   "cell_type": "code",
   "execution_count": 97,
   "metadata": {},
   "outputs": [],
   "source": [
    "ar , ac = m1.shape\n",
    "br , bc = m2.shape\n",
    "assert ac == br, \"Matrix multiplication is not possible\"\n"
   ]
  },
  {
   "cell_type": "code",
   "execution_count": 98,
   "metadata": {},
   "outputs": [
    {
     "data": {
      "text/plain": [
       "((5, 784), (784, 10))"
      ]
     },
     "execution_count": 98,
     "metadata": {},
     "output_type": "execute_result"
    }
   ],
   "source": [
    "(ar, ac), (br, bc)"
   ]
  },
  {
   "cell_type": "code",
   "execution_count": 101,
   "metadata": {},
   "outputs": [
    {
     "data": {
      "text/plain": [
       "torch.Size([5, 10])"
      ]
     },
     "execution_count": 101,
     "metadata": {},
     "output_type": "execute_result"
    }
   ],
   "source": [
    "t1 = torch.zeros([ar, bc])\n",
    "t1.shape"
   ]
  },
  {
   "cell_type": "code",
   "execution_count": 102,
   "metadata": {},
   "outputs": [],
   "source": [
    "for i in range(ar):\n",
    "    for j in range(bc):\n",
    "        for k in range(ac):\n",
    "            t1[i,j] += m1[i,k] * m2[k,j]"
   ]
  },
  {
   "cell_type": "code",
   "execution_count": 104,
   "metadata": {},
   "outputs": [],
   "source": [
    "torch.set_printoptions(edgeitems=2, linewidth=140)"
   ]
  },
  {
   "cell_type": "code",
   "execution_count": 105,
   "metadata": {},
   "outputs": [
    {
     "data": {
      "text/plain": [
       "tensor([[  0.9577,  -2.9557,  -2.1148,   0.2679,   1.2794,  -5.2002, -10.3146, -15.0880, -17.6923,   0.6007],\n",
       "        [  6.8906,  -0.3425,   0.7923, -14.7387,   6.9035,  -3.0802, -15.0396, -17.1321, -25.3572,  16.2312],\n",
       "        [-10.1834,   7.3808,   4.1311,   3.2661,  13.8806,  -5.1509,  -7.1424,  -6.7345,  -6.7882,  -1.5788],\n",
       "        [  0.9694,   2.3867, -15.2159,   7.7303,  -8.1857, -12.3311,  -5.9767,  -1.1720,   7.0489,  -1.4185],\n",
       "        [  6.8513,  14.0698, -11.9205,   2.3367,   4.6249,  -3.3725,  -5.4689,  -0.6507, -30.5564,   7.8773]])"
      ]
     },
     "execution_count": 105,
     "metadata": {},
     "output_type": "execute_result"
    }
   ],
   "source": [
    "t1"
   ]
  },
  {
   "cell_type": "code",
   "execution_count": null,
   "metadata": {},
   "outputs": [],
   "source": []
  },
  {
   "cell_type": "code",
   "execution_count": 107,
   "metadata": {},
   "outputs": [],
   "source": [
    "def matmul(a,b):\n",
    "    ar , ac = a.shape\n",
    "    br , bc = b.shape\n",
    "    assert ac == br, \"Matrix multiplication is not possible\"\n",
    "    t = torch.zeros([ar, bc])\n",
    "    for i in range(ar):\n",
    "        for j in range(bc):\n",
    "            for k in range(ac):\n",
    "                t[i,j] += a[i,k] * b[k,j]\n",
    "    return t"
   ]
  },
  {
   "cell_type": "code",
   "execution_count": 108,
   "metadata": {},
   "outputs": [
    {
     "data": {
      "text/plain": [
       "tensor([[  0.9577,  -2.9557,  -2.1148,   0.2679,   1.2794,  -5.2002, -10.3146, -15.0880, -17.6923,   0.6007],\n",
       "        [  6.8906,  -0.3425,   0.7923, -14.7387,   6.9035,  -3.0802, -15.0396, -17.1321, -25.3572,  16.2312],\n",
       "        [-10.1834,   7.3808,   4.1311,   3.2661,  13.8806,  -5.1509,  -7.1424,  -6.7345,  -6.7882,  -1.5788],\n",
       "        [  0.9694,   2.3867, -15.2159,   7.7303,  -8.1857, -12.3311,  -5.9767,  -1.1720,   7.0489,  -1.4185],\n",
       "        [  6.8513,  14.0698, -11.9205,   2.3367,   4.6249,  -3.3725,  -5.4689,  -0.6507, -30.5564,   7.8773]])"
      ]
     },
     "execution_count": 108,
     "metadata": {},
     "output_type": "execute_result"
    }
   ],
   "source": [
    "matmul(m1, m2)"
   ]
  },
  {
   "cell_type": "code",
   "execution_count": null,
   "metadata": {},
   "outputs": [],
   "source": [
    "torch.set_printoptions(edgeitems=2, linewidth=140)"
   ]
  },
  {
   "cell_type": "markdown",
   "metadata": {},
   "source": [
    "## Element Wise Multiplication"
   ]
  },
  {
   "cell_type": "code",
   "execution_count": 109,
   "metadata": {},
   "outputs": [
    {
     "data": {
      "text/plain": [
       "(tensor([10.,  6., -4.]), tensor([2., 8., 7.]))"
      ]
     },
     "execution_count": 109,
     "metadata": {},
     "output_type": "execute_result"
    }
   ],
   "source": [
    "a  = tensor([10., 6, -4])\n",
    "b  = tensor([2., 8, 7])\n",
    "a,b"
   ]
  },
  {
   "cell_type": "code",
   "execution_count": 110,
   "metadata": {},
   "outputs": [
    {
     "data": {
      "text/plain": [
       "tensor([12., 14.,  3.])"
      ]
     },
     "execution_count": 110,
     "metadata": {},
     "output_type": "execute_result"
    }
   ],
   "source": [
    "a+b"
   ]
  },
  {
   "cell_type": "code",
   "execution_count": 112,
   "metadata": {},
   "outputs": [
    {
     "data": {
      "text/plain": [
       "tensor(0.6667)"
      ]
     },
     "execution_count": 112,
     "metadata": {},
     "output_type": "execute_result"
    }
   ],
   "source": [
    "(a < b).float().mean()"
   ]
  },
  {
   "cell_type": "code",
   "execution_count": 113,
   "metadata": {},
   "outputs": [
    {
     "data": {
      "text/plain": [
       "tensor([[1., 2., 3.],\n",
       "        [4., 5., 6.],\n",
       "        [7., 8., 9.]])"
      ]
     },
     "execution_count": 113,
     "metadata": {},
     "output_type": "execute_result"
    }
   ],
   "source": [
    "m = tensor([[1.,2,3], [4,5,6],[7.,8,9]]); m"
   ]
  },
  {
   "cell_type": "code",
   "execution_count": 114,
   "metadata": {},
   "outputs": [
    {
     "data": {
      "text/plain": [
       "tensor(16.8819)"
      ]
     },
     "execution_count": 114,
     "metadata": {},
     "output_type": "execute_result"
    }
   ],
   "source": [
    "(m*m).sum().sqrt()"
   ]
  },
  {
   "cell_type": "code",
   "execution_count": 115,
   "metadata": {},
   "outputs": [],
   "source": [
    "def matmul(a,b):\n",
    "    ar , ac = a.shape\n",
    "    br , bc = b.shape\n",
    "    t = torch.zeros([ar, bc])\n",
    "    for i in range(ar):\n",
    "        for j in range(bc):\n",
    "            t[i,j] = (a[i,:] * b[:,j]).sum()\n",
    "    return t"
   ]
  },
  {
   "cell_type": "code",
   "execution_count": 116,
   "metadata": {},
   "outputs": [],
   "source": [
    "from fastcore.test import test_close\n",
    "test_close(matmul(m1, m2), t1)"
   ]
  },
  {
   "cell_type": "code",
   "execution_count": 117,
   "metadata": {},
   "outputs": [
    {
     "data": {
      "text/plain": [
       "tensor([10., 20., 30.])"
      ]
     },
     "execution_count": 117,
     "metadata": {},
     "output_type": "execute_result"
    }
   ],
   "source": [
    "c = tensor([10.,20,30]); c"
   ]
  },
  {
   "cell_type": "code",
   "execution_count": 122,
   "metadata": {},
   "outputs": [
    {
     "data": {
      "text/plain": [
       "(tensor([[10., 20., 30.]]),\n",
       " tensor([[10.],\n",
       "         [20.],\n",
       "         [30.]]))"
      ]
     },
     "execution_count": 122,
     "metadata": {},
     "output_type": "execute_result"
    }
   ],
   "source": [
    "c[None,:],c[:,None]"
   ]
  },
  {
   "cell_type": "code",
   "execution_count": 123,
   "metadata": {},
   "outputs": [
    {
     "data": {
      "text/plain": [
       "(tensor([[10., 20., 30.]]),\n",
       " tensor([[10.],\n",
       "         [20.],\n",
       "         [30.]]))"
      ]
     },
     "execution_count": 123,
     "metadata": {},
     "output_type": "execute_result"
    }
   ],
   "source": [
    "c[None],c[...,None]"
   ]
  },
  {
   "cell_type": "markdown",
   "metadata": {},
   "source": [
    "## Einstein Summation"
   ]
  },
  {
   "cell_type": "code",
   "execution_count": 125,
   "metadata": {},
   "outputs": [
    {
     "ename": "RuntimeError",
     "evalue": "einsum(): operands do not broadcast with remapped shapes [original->remapped]: [5, 784]->[5, 784] [3]->[1, 3]",
     "output_type": "error",
     "traceback": [
      "\u001b[0;31m---------------------------------------------------------------------------\u001b[0m",
      "\u001b[0;31mRuntimeError\u001b[0m                              Traceback (most recent call last)",
      "Cell \u001b[0;32mIn [125], line 1\u001b[0m\n\u001b[0;32m----> 1\u001b[0m torch\u001b[39m.\u001b[39;49meinsum(\u001b[39m\"\u001b[39;49m\u001b[39mik,k->i\u001b[39;49m\u001b[39m\"\u001b[39;49m, m1, c)\n",
      "File \u001b[0;32m~/.local/lib/python3.10/site-packages/torch/functional.py:360\u001b[0m, in \u001b[0;36meinsum\u001b[0;34m(*args)\u001b[0m\n\u001b[1;32m    356\u001b[0m     \u001b[39m# recurse incase operands contains value that has torch function\u001b[39;00m\n\u001b[1;32m    357\u001b[0m     \u001b[39m# in the original implementation this line is omitted\u001b[39;00m\n\u001b[1;32m    358\u001b[0m     \u001b[39mreturn\u001b[39;00m einsum(equation, \u001b[39m*\u001b[39m_operands)\n\u001b[0;32m--> 360\u001b[0m \u001b[39mreturn\u001b[39;00m _VF\u001b[39m.\u001b[39;49meinsum(equation, operands)\n",
      "\u001b[0;31mRuntimeError\u001b[0m: einsum(): operands do not broadcast with remapped shapes [original->remapped]: [5, 784]->[5, 784] [3]->[1, 3]"
     ]
    }
   ],
   "source": [
    "torch.einsum(\"ik,k->i\", m1, c)"
   ]
  },
  {
   "cell_type": "markdown",
   "metadata": {},
   "source": [
    "# Clustering"
   ]
  },
  {
   "cell_type": "code",
   "execution_count": 1,
   "metadata": {},
   "outputs": [],
   "source": [
    "import math, matplotlib.pyplot as plt, operator, torch\n",
    "from functools import partial"
   ]
  },
  {
   "cell_type": "code",
   "execution_count": 85,
   "metadata": {},
   "outputs": [
    {
     "data": {
      "text/plain": [
       "<torch._C.Generator at 0x7f75181ff570>"
      ]
     },
     "execution_count": 85,
     "metadata": {},
     "output_type": "execute_result"
    }
   ],
   "source": [
    "torch.set_printoptions(edgeitems=2, linewidth=140)\n",
    "torch.manual_seed(42)"
   ]
  },
  {
   "cell_type": "code",
   "execution_count": 86,
   "metadata": {},
   "outputs": [],
   "source": [
    "n_clusters = 6\n",
    "n_samples = 250"
   ]
  },
  {
   "cell_type": "code",
   "execution_count": 87,
   "metadata": {},
   "outputs": [
    {
     "data": {
      "text/plain": [
       "tensor([[ -11.4317,  -25.9833],\n",
       "        [ -18.5876,  -18.8767],\n",
       "        [-113.5999,  -48.0430],\n",
       "        [ 119.5741,  -79.6598],\n",
       "        [  -2.6840,  -16.2854],\n",
       "        [   2.4433,   21.6550]])"
      ]
     },
     "execution_count": 87,
     "metadata": {},
     "output_type": "execute_result"
    }
   ],
   "source": [
    "# create random data for each cluster centered around a random point x,y\n",
    "centroids = torch.randn(n_clusters, 2)*70-35\n",
    "centroids"
   ]
  },
  {
   "cell_type": "code",
   "execution_count": 88,
   "metadata": {},
   "outputs": [
    {
     "data": {
      "text/plain": [
       "<matplotlib.collections.PathCollection at 0x7f74be86a590>"
      ]
     },
     "execution_count": 88,
     "metadata": {},
     "output_type": "execute_result"
    },
    {
     "data": {
      "image/png": "[encoded data removed]",
      "text/plain": [
       "<Figure size 640x480 with 1 Axes>"
      ]
     },
     "metadata": {},
     "output_type": "display_data"
    }
   ],
   "source": [
    "# plot the centroids\n",
    "plt.scatter(centroids[:,0], centroids[:,1])"
   ]
  },
  {
   "cell_type": "code",
   "execution_count": 89,
   "metadata": {},
   "outputs": [],
   "source": [
    "from torch.distributions.multivariate_normal import MultivariateNormal\n",
    "from torch import tensor"
   ]
  },
  {
   "cell_type": "code",
   "execution_count": 90,
   "metadata": {},
   "outputs": [],
   "source": [
    "# create a multivariate normal distribution for each centroid\n",
    "def sample(m): return MultivariateNormal(m, torch.eye(2)*5).sample((n_samples,))"
   ]
  },
  {
   "cell_type": "code",
   "execution_count": 91,
   "metadata": {},
   "outputs": [
    {
     "data": {
      "text/plain": [
       "torch.Size([1500, 2])"
      ]
     },
     "execution_count": 91,
     "metadata": {},
     "output_type": "execute_result"
    }
   ],
   "source": [
    "slices = [sample(m) for m in centroids]\n",
    "data = torch.cat(slices)\n",
    "data.shape"
   ]
  },
  {
   "cell_type": "code",
   "execution_count": 92,
   "metadata": {},
   "outputs": [],
   "source": [
    "def plot_data(centroids, data, n_samples, ax=None):\n",
    "    if ax is None: _,ax = plt.subplots()\n",
    "    for i, centroid in enumerate(centroids):\n",
    "        ax.scatter(data[i*n_samples:(i+1)*n_samples,0], data[i*n_samples:(i+1)*n_samples,1])\n",
    "        ax.scatter(*centroid, color='red', marker='x', s=100)\n",
    "    # plt.scatter(data[i*n_samples:(i+1)*n_samples,0], data[i*n_samples:(i+1)*n_samples,1])\n",
    "    # # plot the cluster centroids\n",
    "    # plt.scatter(centroids[:,0], centroids[:,1], marker='X', color='black',s=30)\n",
    "    # plt.scatter(centroids[:,0], centroids[:,1], marker='X', color='red',s=10)\n"
   ]
  },
  {
   "cell_type": "code",
   "execution_count": 93,
   "metadata": {},
   "outputs": [
    {
     "data": {
      "image/png": "[encoded data removed]",
      "text/plain": [
       "<Figure size 640x480 with 1 Axes>"
      ]
     },
     "metadata": {},
     "output_type": "display_data"
    }
   ],
   "source": [
    "plot_data(centroids, data, n_samples)"
   ]
  },
  {
   "cell_type": "code",
   "execution_count": 94,
   "metadata": {},
   "outputs": [
    {
     "data": {
      "text/plain": [
       "tensor([ -4.0099, -27.8452])"
      ]
     },
     "execution_count": 94,
     "metadata": {},
     "output_type": "execute_result"
    }
   ],
   "source": [
    "data.mean(0)"
   ]
  },
  {
   "cell_type": "code",
   "execution_count": 95,
   "metadata": {},
   "outputs": [],
   "source": [
    "def gaussian(d, bw): return torch.exp(-.5*((d/bw))**2)/ (bw*math.sqrt(2*math.pi))"
   ]
  },
  {
   "cell_type": "code",
   "execution_count": 96,
   "metadata": {},
   "outputs": [
    {
     "data": {
      "image/png": "[encoded data removed]",
      "text/plain": [
       "<Figure size 640x480 with 1 Axes>"
      ]
     },
     "metadata": {},
     "output_type": "display_data"
    }
   ],
   "source": [
    "def plot_function(f, x, ax=None):\n",
    "    if ax is None: ax=plt.subplots()[1]\n",
    "    ax.plot(x, f(x))\n",
    "\n",
    "plot_function(partial(gaussian, bw=2.5), torch.linspace(0,10,100))\n"
   ]
  },
  {
   "cell_type": "code",
   "execution_count": 97,
   "metadata": {},
   "outputs": [],
   "source": [
    "def tri(d, bw): return torch.clamp((1-(d/bw)), min=0)"
   ]
  },
  {
   "cell_type": "code",
   "execution_count": 98,
   "metadata": {},
   "outputs": [
    {
     "data": {
      "image/png": "[encoded data removed]",
      "text/plain": [
       "<Figure size 640x480 with 1 Axes>"
      ]
     },
     "metadata": {},
     "output_type": "display_data"
    }
   ],
   "source": [
    "plot_function(partial(tri, bw=8), torch.linspace(0,10,100))\n"
   ]
  },
  {
   "cell_type": "code",
   "execution_count": 99,
   "metadata": {},
   "outputs": [
    {
     "data": {
      "text/plain": [
       "tensor([-10.6359, -27.5187])"
      ]
     },
     "execution_count": 99,
     "metadata": {},
     "output_type": "execute_result"
    }
   ],
   "source": [
    "X= data.clone()\n",
    "x = data[0]\n",
    "x"
   ]
  },
  {
   "cell_type": "code",
   "execution_count": 100,
   "metadata": {},
   "outputs": [
    {
     "data": {
      "text/plain": [
       "(torch.Size([2]), torch.Size([1500, 2]), torch.Size([1, 2]))"
      ]
     },
     "execution_count": 100,
     "metadata": {},
     "output_type": "execute_result"
    }
   ],
   "source": [
    "x.shape, X.shape, x[None].shape"
   ]
  },
  {
   "cell_type": "code",
   "execution_count": 101,
   "metadata": {},
   "outputs": [
    {
     "data": {
      "text/plain": [
       "tensor([[ 0.0000,  0.0000],\n",
       "        [ 1.8989, -2.0753],\n",
       "        [ 3.2798, -1.7400],\n",
       "        [ 5.9765, -1.0505],\n",
       "        [ 1.4883, -0.6505]])"
      ]
     },
     "execution_count": 101,
     "metadata": {},
     "output_type": "execute_result"
    }
   ],
   "source": [
    "(x-X)[:5]"
   ]
  },
  {
   "cell_type": "code",
   "execution_count": 102,
   "metadata": {},
   "outputs": [
    {
     "data": {
      "text/plain": [
       "tensor([0.0000, 2.8130, 3.7128, 6.0682, 1.6242])"
      ]
     },
     "execution_count": 102,
     "metadata": {},
     "output_type": "execute_result"
    }
   ],
   "source": [
    "dist = ((x-X)**2).sum(1).sqrt()\n",
    "dist[:5]"
   ]
  },
  {
   "cell_type": "code",
   "execution_count": 103,
   "metadata": {},
   "outputs": [
    {
     "data": {
      "text/plain": [
       "tensor([0.0000, 2.8130, 3.7128, 6.0682, 1.6242])"
      ]
     },
     "execution_count": 103,
     "metadata": {},
     "output_type": "execute_result"
    }
   ],
   "source": [
    "(torch.einsum(\"ij,ij->i\", (x-X), (x-X))).sqrt()[:5]"
   ]
  },
  {
   "cell_type": "code",
   "execution_count": 104,
   "metadata": {},
   "outputs": [
    {
     "data": {
      "text/plain": [
       "tensor([0.1596, 0.0847,  ..., 0.0000, 0.0000])"
      ]
     },
     "execution_count": 104,
     "metadata": {},
     "output_type": "execute_result"
    }
   ],
   "source": [
    "weight = gaussian(dist, 2.5)\n",
    "weight"
   ]
  },
  {
   "cell_type": "code",
   "execution_count": 105,
   "metadata": {},
   "outputs": [
    {
     "data": {
      "text/plain": [
       "(torch.Size([1500]), torch.Size([1500, 2]))"
      ]
     },
     "execution_count": 105,
     "metadata": {},
     "output_type": "execute_result"
    }
   ],
   "source": [
    "weight.shape, X.shape"
   ]
  },
  {
   "cell_type": "code",
   "execution_count": 106,
   "metadata": {},
   "outputs": [
    {
     "data": {
      "text/plain": [
       "tensor([[-1.6973, -4.3913],\n",
       "        [-1.0621, -2.1559],\n",
       "        ...,\n",
       "        [ 0.0000,  0.0000],\n",
       "        [ 0.0000,  0.0000]])"
      ]
     },
     "execution_count": 106,
     "metadata": {},
     "output_type": "execute_result"
    }
   ],
   "source": [
    "weight[:,None]*X"
   ]
  },
  {
   "cell_type": "code",
   "execution_count": 113,
   "metadata": {},
   "outputs": [],
   "source": [
    "def one_update(X):\n",
    "    for i,x in enumerate(X):\n",
    "        dist = ((x-X)**2).sum(1).sqrt()\n",
    "        weight = gaussian(dist, 1)\n",
    "        X[i] = (weight[:,None]*X).sum(0)/weight.sum()"
   ]
  },
  {
   "cell_type": "code",
   "execution_count": 114,
   "metadata": {},
   "outputs": [],
   "source": [
    "def meanshift(X, n_iter=10):\n",
    "    for i in range(n_iter): one_update(X)\n",
    "    return X\n",
    "\n",
    "X = meanshift(X, 5)"
   ]
  },
  {
   "cell_type": "code",
   "execution_count": 115,
   "metadata": {},
   "outputs": [
    {
     "data": {
      "image/png": "[encoded data removed]",
      "text/plain": [
       "<Figure size 640x480 with 1 Axes>"
      ]
     },
     "metadata": {},
     "output_type": "display_data"
    }
   ],
   "source": [
    "plot_data(centroids+2, X, n_samples)"
   ]
  },
  {
   "cell_type": "code",
   "execution_count": 110,
   "metadata": {},
   "outputs": [],
   "source": [
    "from matplotlib.animation import FuncAnimation\n",
    "from IPython.display import HTML"
   ]
  },
  {
   "cell_type": "code",
   "execution_count": 111,
   "metadata": {},
   "outputs": [],
   "source": [
    "def do_one(d):\n",
    "    one_update(X)\n",
    "    ax.clear()\n",
    "    plot_data(centroids+2,X,n_samples, ax=ax)"
   ]
  },
  {
   "cell_type": "code",
   "execution_count": 112,
   "metadata": {},
   "outputs": [
    {
     "data": {
      "text/html": [
       "\n",
       "<link rel=\"stylesheet\"\n",
       "href=\"https://maxcdn.bootstrapcdn.com/font-awesome/4.4.0/css/font-awesome.min.css\">\n",
       "<script language=\"javascript\">\n",
       "  function isInternetExplorer() {\n",
       "    ua = navigator.userAgent;\n",
       "    /* MSIE used to detect old browsers and Trident used to newer ones*/\n",
       "    return ua.indexOf(\"MSIE \") > -1 || ua.indexOf(\"Trident/\") > -1;\n",
       "  }\n",
       "\n",
       "  /* Define the Animation class */\n",
       "  function Animation(frames, img_id, slider_id, interval, loop_select_id){\n",
       "    this.img_id = img_id;\n",
       "    this.slider_id = slider_id;\n",
       "    this.loop_select_id = loop_select_id;\n",
       "    this.interval = interval;\n",
       "    this.current_frame = 0;\n",
       "    this.direction = 0;\n",
       "    this.timer = null;\n",
       "    this.frames = new Array(frames.length);\n",
       "\n",
       "    for (var i=0; i<frames.length; i++)\n",
       "    {\n",
       "     this.frames[i] = new Image();\n",
       "     this.frames[i].src = frames[i];\n",
       "    }\n",
       "    var slider = document.getElementById(this.slider_id);\n",
       "    slider.max = this.frames.length - 1;\n",
       "    if (isInternetExplorer()) {\n",
       "        // switch from oninput to onchange because IE <= 11 does not conform\n",
       "        // with W3C specification. It ignores oninput and onchange behaves\n",
       "        // like oninput. In contrast, Microsoft Edge behaves correctly.\n",
       "        slider.setAttribute('onchange', slider.getAttribute('oninput'));\n",
       "        slider.setAttribute('oninput', null);\n",
       "    }\n",
       "    this.set_frame(this.current_frame);\n",
       "  }\n",
       "\n",
       "  Animation.prototype.get_loop_state = function(){\n",
       "    var button_group = document[this.loop_select_id].state;\n",
       "    for (var i = 0; i < button_group.length; i++) {\n",
       "        var button = button_group[i];\n",
       "        if (button.checked) {\n",
       "            return button.value;\n",
       "        }\n",
       "    }\n",
       "    return undefined;\n",
       "  }\n",
       "\n",
       "  Animation.prototype.set_frame = function(frame){\n",
       "    this.current_frame = frame;\n",
       "    document.getElementById(this.img_id).src =\n",
       "            this.frames[this.current_frame].src;\n",
       "    document.getElementById(this.slider_id).value = this.current_frame;\n",
       "  }\n",
       "\n",
       "  Animation.prototype.next_frame = function()\n",
       "  {\n",
       "    this.set_frame(Math.min(this.frames.length - 1, this.current_frame + 1));\n",
       "  }\n",
       "\n",
       "  Animation.prototype.previous_frame = function()\n",
       "  {\n",
       "    this.set_frame(Math.max(0, this.current_frame - 1));\n",
       "  }\n",
       "\n",
       "  Animation.prototype.first_frame = function()\n",
       "  {\n",
       "    this.set_frame(0);\n",
       "  }\n",
       "\n",
       "  Animation.prototype.last_frame = function()\n",
       "  {\n",
       "    this.set_frame(this.frames.length - 1);\n",
       "  }\n",
       "\n",
       "  Animation.prototype.slower = function()\n",
       "  {\n",
       "    this.interval /= 0.7;\n",
       "    if(this.direction > 0){this.play_animation();}\n",
       "    else if(this.direction < 0){this.reverse_animation();}\n",
       "  }\n",
       "\n",
       "  Animation.prototype.faster = function()\n",
       "  {\n",
       "    this.interval *= 0.7;\n",
       "    if(this.direction > 0){this.play_animation();}\n",
       "    else if(this.direction < 0){this.reverse_animation();}\n",
       "  }\n",
       "\n",
       "  Animation.prototype.anim_step_forward = function()\n",
       "  {\n",
       "    this.current_frame += 1;\n",
       "    if(this.current_frame < this.frames.length){\n",
       "      this.set_frame(this.current_frame);\n",
       "    }else{\n",
       "      var loop_state = this.get_loop_state();\n",
       "      if(loop_state == \"loop\"){\n",
       "        this.first_frame();\n",
       "      }else if(loop_state == \"reflect\"){\n",
       "        this.last_frame();\n",
       "        this.reverse_animation();\n",
       "      }else{\n",
       "        this.pause_animation();\n",
       "        this.last_frame();\n",
       "      }\n",
       "    }\n",
       "  }\n",
       "\n",
       "  Animation.prototype.anim_step_reverse = function()\n",
       "  {\n",
       "    this.current_frame -= 1;\n",
       "    if(this.current_frame >= 0){\n",
       "      this.set_frame(this.current_frame);\n",
       "    }else{\n",
       "      var loop_state = this.get_loop_state();\n",
       "      if(loop_state == \"loop\"){\n",
       "        this.last_frame();\n",
       "      }else if(loop_state == \"reflect\"){\n",
       "        this.first_frame();\n",
       "        this.play_animation();\n",
       "      }else{\n",
       "        this.pause_animation();\n",
       "        this.first_frame();\n",
       "      }\n",
       "    }\n",
       "  }\n",
       "\n",
       "  Animation.prototype.pause_animation = function()\n",
       "  {\n",
       "    this.direction = 0;\n",
       "    if (this.timer){\n",
       "      clearInterval(this.timer);\n",
       "      this.timer = null;\n",
       "    }\n",
       "  }\n",
       "\n",
       "  Animation.prototype.play_animation = function()\n",
       "  {\n",
       "    this.pause_animation();\n",
       "    this.direction = 1;\n",
       "    var t = this;\n",
       "    if (!this.timer) this.timer = setInterval(function() {\n",
       "        t.anim_step_forward();\n",
       "    }, this.interval);\n",
       "  }\n",
       "\n",
       "  Animation.prototype.reverse_animation = function()\n",
       "  {\n",
       "    this.pause_animation();\n",
       "    this.direction = -1;\n",
       "    var t = this;\n",
       "    if (!this.timer) this.timer = setInterval(function() {\n",
       "        t.anim_step_reverse();\n",
       "    }, this.interval);\n",
       "  }\n",
       "</script>\n",
       "\n",
       "<style>\n",
       ".animation {\n",
       "    display: inline-block;\n",
       "    text-align: center;\n",
       "}\n",
       "input[type=range].anim-slider {\n",
       "    width: 374px;\n",
       "    margin-left: auto;\n",
       "    margin-right: auto;\n",
       "}\n",
       ".anim-buttons {\n",
       "    margin: 8px 0px;\n",
       "}\n",
       ".anim-buttons button {\n",
       "    padding: 0;\n",
       "    width: 36px;\n",
       "}\n",
       ".anim-state label {\n",
       "    margin-right: 8px;\n",
       "}\n",
       ".anim-state input {\n",
       "    margin: 0;\n",
       "    vertical-align: middle;\n",
       "}\n",
       "</style>\n",
       "\n",
       "<div class=\"animation\">\n",
       "  <img id=\"_anim_img28fee7579ab64644bf487f8ebe764632\">\n",
       "  <div class=\"anim-controls\">\n",
       "    <input id=\"_anim_slider28fee7579ab64644bf487f8ebe764632\" type=\"range\" class=\"anim-slider\"\n",
       "           name=\"points\" min=\"0\" max=\"1\" step=\"1\" value=\"0\"\n",
       "           oninput=\"anim28fee7579ab64644bf487f8ebe764632.set_frame(parseInt(this.value));\">\n",
       "    <div class=\"anim-buttons\">\n",
       "      <button title=\"Decrease speed\" aria-label=\"Decrease speed\" onclick=\"anim28fee7579ab64644bf487f8ebe764632.slower()\">\n",
       "          <i class=\"fa fa-minus\"></i></button>\n",
       "      <button title=\"First frame\" aria-label=\"First frame\" onclick=\"anim28fee7579ab64644bf487f8ebe764632.first_frame()\">\n",
       "        <i class=\"fa fa-fast-backward\"></i></button>\n",
       "      <button title=\"Previous frame\" aria-label=\"Previous frame\" onclick=\"anim28fee7579ab64644bf487f8ebe764632.previous_frame()\">\n",
       "          <i class=\"fa fa-step-backward\"></i></button>\n",
       "      <button title=\"Play backwards\" aria-label=\"Play backwards\" onclick=\"anim28fee7579ab64644bf487f8ebe764632.reverse_animation()\">\n",
       "          <i class=\"fa fa-play fa-flip-horizontal\"></i></button>\n",
       "      <button title=\"Pause\" aria-label=\"Pause\" onclick=\"anim28fee7579ab64644bf487f8ebe764632.pause_animation()\">\n",
       "          <i class=\"fa fa-pause\"></i></button>\n",
       "      <button title=\"Play\" aria-label=\"Play\" onclick=\"anim28fee7579ab64644bf487f8ebe764632.play_animation()\">\n",
       "          <i class=\"fa fa-play\"></i></button>\n",
       "      <button title=\"Next frame\" aria-label=\"Next frame\" onclick=\"anim28fee7579ab64644bf487f8ebe764632.next_frame()\">\n",
       "          <i class=\"fa fa-step-forward\"></i></button>\n",
       "      <button title=\"Last frame\" aria-label=\"Last frame\" onclick=\"anim28fee7579ab64644bf487f8ebe764632.last_frame()\">\n",
       "          <i class=\"fa fa-fast-forward\"></i></button>\n",
       "      <button title=\"Increase speed\" aria-label=\"Increase speed\" onclick=\"anim28fee7579ab64644bf487f8ebe764632.faster()\">\n",
       "          <i class=\"fa fa-plus\"></i></button>\n",
       "    </div>\n",
       "    <form title=\"Repetition mode\" aria-label=\"Repetition mode\" action=\"#n\" name=\"_anim_loop_select28fee7579ab64644bf487f8ebe764632\"\n",
       "          class=\"anim-state\">\n",
       "      <input type=\"radio\" name=\"state\" value=\"once\" id=\"_anim_radio1_28fee7579ab64644bf487f8ebe764632\"\n",
       "             >\n",
       "      <label for=\"_anim_radio1_28fee7579ab64644bf487f8ebe764632\">Once</label>\n",
       "      <input type=\"radio\" name=\"state\" value=\"loop\" id=\"_anim_radio2_28fee7579ab64644bf487f8ebe764632\"\n",
       "             checked>\n",
       "      <label for=\"_anim_radio2_28fee7579ab64644bf487f8ebe764632\">Loop</label>\n",
       "      <input type=\"radio\" name=\"state\" value=\"reflect\" id=\"_anim_radio3_28fee7579ab64644bf487f8ebe764632\"\n",
       "             >\n",
       "      <label for=\"_anim_radio3_28fee7579ab64644bf487f8ebe764632\">Reflect</label>\n",
       "    </form>\n",
       "  </div>\n",
       "</div>\n",
       "\n",
       "\n",
       "<script language=\"javascript\">\n",
       "  /* Instantiate the Animation class. */\n",
       "  /* The IDs given should match those used in the template above. */\n",
       "  (function() {\n",
       "    var img_id = \"_anim_img28fee7579ab64644bf487f8ebe764632\";\n",
       "    var slider_id = \"_anim_slider28fee7579ab64644bf487f8ebe764632\";\n",
       "    var loop_select_id = \"_anim_loop_select28fee7579ab64644bf487f8ebe764632\";\n",
       "    var frames = new Array(5);\n",
       "    \n",
       "  frames[0] = \"data:image/png;base64,iVBORw0KGgoAAAANSUhEUgAAAoAAAAHgCAYAAAA10dzkAAAAOXRFWHRTb2Z0d2FyZQBNYXRwbG90\\\n",
       "bGliIHZlcnNpb24zLjYuMCwgaHR0cHM6Ly9tYXRwbG90bGliLm9yZy89olMNAAAACXBIWXMAAA9h\\\n",
       "AAAPYQGoP6dpAAArdUlEQVR4nO3df3TT9aH/8VdS2kCFpAX6AyQgFUVQAa2zq4gXWUf1gpPplDO5\\\n",
       "FRyD6YqbwgVhOEDPVRjsytSropyv4Nh0jnmmkw20Uoo6quyCyEBgdgXpBVJQoKlY+yvv7x9do4FS\\\n",
       "qjRJk/fzcU6OzSfvhHfSnvbp55PPOw5jjBEAAACs4Yz2BAAAABBZBCAAAIBlCEAAAADLEIAAAACW\\\n",
       "IQABAAAsQwACAABYhgAEAACwDAEIAABgGQIQAADAMgQgAACAZQhAAAAAyxCAAAAAliEAAQAALEMA\\\n",
       "AgAAWIYABAAAsAwBCAAAYBkCEAAAwDIEIAAAgGUIQAAAAMsQgAAAAJYhAAEAACxDAAIAAFiGAAQA\\\n",
       "ALAMAQgAAGAZAhAAAMAyBCAAAIBlCEAAAADLEIAAAACWIQABAAAsQwACAABYhgAEAACwDAEIAABg\\\n",
       "GQIQAADAMgQgAACAZQhAAAAAyxCAAAAAliEAAQAALEMAAgAAWIYABAAAsAwBCAAAYBkCEAAAwDIE\\\n",
       "IAAAgGUIQAAAAMsQgAAAAJYhAAEAACxDAAIAAFiGAAQAALAMAQgAAGAZAhAAAMAyBCAAAIBlCEAA\\\n",
       "AADLEIAAAACWIQABAAAsQwACAABYhgAEAACwDAEIAABgmU7RnkAsCwQCOnjwoLp16yaHwxHt6QAA\\\n",
       "gDYwxqi6ulq9e/eW02nnvjAC8CwcPHhQXq832tMAAABfQ0VFhfr06RPtaUQFAXgWunXrJqnpB8jt\\\n",
       "dkd5NgAAoC38fr+8Xm/w77iNCMCz0HzY1+12E4AAAMQYm9++ZeeBbwAAAIsRgAAAAJYhAAEAACxD\\\n",
       "AAIAAFiGAAQAALAMAQgAklRTE97xANCBEIAAsHy5NGSIVFHRtvEVFU3jly8P77wAIEwIQAB2q6mR\\\n",
       "Fi+WysqkkSPPHIEVFU3jysqa7seeQAAxiAAEYLcuXaTiYikrSyovbz0Cm+OvvLxpfHFx0/0BIMYQ\\\n",
       "gADg9UolJa1H4MnxV1LSdD8AiEEEIABIrUcg8QcgzhCAANCspQjctIn4AxB3OkV7AgDQoTRHYHP0\\\n",
       "DR/etJ34AxBH2AMIACfzeqVVq0K3rVpF/AGIG+wBBABJPt//6YXphQo0Nsr9eZ3ueH9P6C/IggL2\\\n",
       "AAKIGwQgAOv99/ixwa+7fVajWza8o04nPtPxc5KV8npRU/w1vyeQCAQQBzgEDMBqJ8ffrRveUcq/\\\n",
       "4u/3135T//3ow2deIgYAYgwBCMBaPt//Bb9uKf6qk5sWefYlOohAAHGFAARgrd/+9E5JrcdfcFxb\\\n",
       "FosGgBhBAAKwUiDQKEnq1NCoW0pOH38hTo7AUaP4LGAAMYkABGClA7t2SpIaOiXobwPP17GuZ4i/\\\n",
       "Zs0ROGCANGsWnwUMICbFbQAuXLhQ3/jGN9StWzelp6dr3Lhx2rNnT8iYzz//XIWFherRo4e6du2q\\\n",
       "m2++WZWVlVGaMYBI+vT4seDXfz+/r349+pozx18zr1favl2aMiVMswOA8IrbANy4caMKCwv1zjvv\\\n",
       "qKioSPX19Ro9erROnDgRHHPvvffq1Vdf1erVq7Vx40YdPHhQN910UxRnDSBSuqakhlxv6JTw1R6A\\\n",
       "PX8AYpjDGGOiPYlIOHLkiNLT07Vx40Zdc801qqqqUlpamp5//nl973vfkyTt3r1bgwYNUmlpqb75\\\n",
       "zW+e8TH9fr88Ho+qqqrkdrvD/RQAtKNAoFHLCyfr06Mfn3HsjBfXRGBGACKFv99xvAfwZFVVVZKk\\\n",
       "7t27S5K2bNmi+vp65eXlBcdcdNFF6tu3r0pLS1t8jNraWvn9/pALgNjkdCZo1KSpZxxH/AGIR1YE\\\n",
       "YCAQ0D333KPhw4frkksukST5fD4lJSUpJSUlZGxGRoZ8Pl+Lj7Nw4UJ5PJ7gxcunAQAx7YKcq/Sd\\\n",
       "6T9T1+49W7yd+AMQr6z4KLjCwkLt2LFDb7/99lk9zpw5czR9+vTgdb/fTwQCMe6CnKt0/jdydGDX\\\n",
       "Tn16/Ji6pqTq3EEXy+n8iu8JBIAYEvcBOG3aNK1Zs0Zvvvmm+vTpE9yemZmpuro6HT9+PGQvYGVl\\\n",
       "pTIzM1t8LJfLJZfLFe4pA4gwpzNB3ouHRHsaABAxcXsI2BijadOm6Y9//KOKi4vVv3//kNuzs7OV\\\n",
       "mJio9evXB7ft2bNH+/fvV25ubqSnCwAAEDFxuwewsLBQzz//vF555RV169Yt+L4+j8ejLl26yOPx\\\n",
       "aPLkyZo+fbq6d+8ut9utu+++W7m5uW06AxgAACBWxe0yMA6Ho8XtK1as0KRJkyQ1LQQ9Y8YMvfDC\\\n",
       "C6qtrVV+fr6efPLJ0x4CPhmnkQMAEHv4+x3HARgJ/AABABB7+Psdx+8BBAAAQMsIQAAAAMsQgAAA\\\n",
       "AJYhAAEAACxDAAIAAFiGAAQAALAMAQgAAGAZAhAAAMAyBCAAAIBlCEAAAADLEIAAAACWIQABAAAs\\\n",
       "QwACAABYhgAEAACwDAEIAABgGQIQAADAMgQgAACAZQhAAAAAyxCAAAAAliEAAQAALEMAAgAAWIYA\\\n",
       "BAAAsAwBCAAAYBkCEAAAwDIEIAAAgGUIQAAAAMsQgAAAAJYhAAEAACxDAAIAAFiGAAQAALAMAQgA\\\n",
       "AGAZAhAAAMAyBCAAAIBlCEAAAADLEIAAAACWIQABAAAsQwACAABYhgAEAACwDAEIAABgGQIQAADA\\\n",
       "MgQgAACAZQhAAAAAyxCAAAAAliEAAQAALEMAAgAAWIYABAAAsAwBCAAAYBkCEAAAwDIEIAAAgGUI\\\n",
       "QAAAAMsQgAAAAJYhAAEAACxDAAIAAFiGAAQAALCM9QH4xBNP6LzzzlPnzp2Vk5OjzZs3R3tKAAAA\\\n",
       "YWV1AL744ouaPn265s+fr61bt2ro0KHKz8/X4cOHoz01AACAsLE6AB955BFNmTJFd9xxhwYPHqxl\\\n",
       "y5YpOTlZzz77bLSnBgAAEDbWBmBdXZ22bNmivLy84Dan06m8vDyVlpa2eJ/a2lr5/f6QCwAAQKyx\\\n",
       "NgA//vhjNTY2KiMjI2R7RkaGfD5fi/dZuHChPB5P8OL1eiMxVQAAgHZlbQB+HXPmzFFVVVXwUlFR\\\n",
       "Ee0pAQAAfGWdoj2BaOnZs6cSEhJUWVkZsr2yslKZmZkt3sflcsnlckViegAAAGFj7R7ApKQkZWdn\\\n",
       "a/369cFtgUBA69evV25ubhRnBgAAEF7W7gGUpOnTp2vixIm64oordOWVV+pXv/qVTpw4oTvuuCPa\\\n",
       "UwMAAAgbqwNw/PjxOnLkiObNmyefz6dhw4Zp3bp1p5wYAgAAEE8cxhgT7UnEKr/fL4/Ho6qqKrnd\\\n",
       "7mhPBwAAtAF/vy1+DyAAAICtCEAAAADLEIAAAACWIQABAAAsQwACAABYhgAEAACwDAEIAABgGQIQ\\\n",
       "AADAMgQgAACAZQhAAAAAyxCAAAAAliEAAQAALEMAAgAAWIYABAAAsAwBCAAAYBkCEAAAwDIEIAAA\\\n",
       "gGUIQAAAAMsQgAAAAJYhAAEAACxDAAIAAFiGAAQAALAMAQgAAGAZAhAAAMAyBCAAAIBlCEAAAADL\\\n",
       "EIAAAACWIQABAAAsQwACAABYhgAEAACwDAEIAABgGQIQAADAMgQggPhWUxPe8QAQgwhAAPFr+XJp\\\n",
       "yBCpoqJt4ysqmsYvXx7eeQFAlBGAAOJTTY20eLFUViaNHHnmCKyoaBpXVtZ0P/YEAohjBCCA+NSl\\\n",
       "i1RcLGVlSeXlrUdgc/yVlzeNLy5uuj8AxCkCEED88nqlkpLWI/Dk+CspabofAMQxAhBAfGstAok/\\\n",
       "AJYiAAHEv5YicNMm4g+AtTpFewIAEBHNEdgcfcOHN20n/gBYiD2AACKjI6zH5/VKq1aFblu1ivgD\\\n",
       "YB0CEED4RXE9vqNHa/TMvRv15F3F+u0PV6txwn+EDigoaPu8ACBOEIAAwiuK6/E9NW2DXvhZqepr\\\n",
       "GnVO9WGNXf1TJezbqyp3L+mvf23bEjEAEIcIQADhFaX1+J6atkGBBiNJ6vrpYY17dbo8/kOqcvfS\\\n",
       "yzc8oqeerz3zEjEAEKcIQADhF+H1+I4erWk1/j7tmq5Ag9HRc3oSgQCsRAACiIwIrsf3ws9KJZ0+\\\n",
       "/kLGtSVOASDOEIAAIieC6/ElNNTqxlf/87Tx1+q8Ro3is4ABxDUCEEBknRxbw4eHZTHmxk4uvTds\\\n",
       "vI67z209/k6e14AB0qxZfBYwgLjGQtAAIq95Pb7mxZilsKzH98GgMdpzQZ4aO7naPq/t24k/AHGP\\\n",
       "AAQQGYFG6aNN0qeVkl/S7feF3l5Q0K57AI2aTgJpKf6ab3PIceodiT8AFuAQMIDw++BP0oPdpefG\\\n",
       "Ss/eId1wa9Nh33PTwrIe351PXqvAv75ujj2ddD3wr3EAYCMCEEB4ffAn6fcFTV9XBaTnTkjHjJTq\\\n",
       "kG6pkYpuaPezcBOcDl04bbACwQwMFVBAF04brARnC3sAAcACBCCA8Ak0nj7+Jp4jeZySaZBWXN7u\\\n",
       "EXjdJb104bRL9AdJjWpUQAE1qlF/kHThtEt03SW9zvLJAUDs4j2AAMKnaEHTf08Xf80CddI5zqYI\\\n",
       "bF4SZuTIs35P4HWX9NK3n8zU5r1Hdbj6c6V366zC/t3Z8wfAenG5B3Dfvn2aPHmy+vfvry5duuj8\\\n",
       "88/X/PnzVVdXFzJu+/btGjFihDp37iyv16vFixdHacZAnCp9TKo30q8/O338NXtscFjW40twOpR7\\\n",
       "fg/dOOxc5Z7fg/gDAMXpHsDdu3crEAjo6aef1oABA7Rjxw5NmTJFJ06c0C9/+UtJkt/v1+jRo5WX\\\n",
       "l6dly5bp73//u37wgx8oJSVFU6dOjfIzAOJIokO6KknaVCfdntxy/KnppAyn9EUEjhrFenwAECYO\\\n",
       "Y4w587DYt2TJEj311FMqLy+XJD311FOaO3eufD6fkpKSJEmzZ8/Wyy+/rN27d7fpMf1+vzwej6qq\\\n",
       "quR2u8M2dyBmLfB88XW9aYrB0zBGernfbH33B3OaNtTUEH8AwoK/33F6CLglVVVV6t69e/B6aWmp\\\n",
       "rrnmmmD8SVJ+fr727NmjY8eOtfgYtbW18vv9IRcArfnSGnytxJ8kORzSdz5apLq6+qYNxB8AhI0V\\\n",
       "AVhWVqbHH39cP/rRj4LbfD6fMjIyQsY1X/f5fC0+zsKFC+XxeIIXbzt/agEQd37y3lcanuCQ/v7C\\\n",
       "z8M0GQBAs5gKwNmzZ8vhcLR6Ofnw7YEDB3Tdddfplltu0ZQpU87q358zZ46qqqqCl4p2WLAWiGvd\\\n",
       "z5Va+rSNVlz40W+alo8BAIRNTJ0EMmPGDE2aNKnVMVlZWcGvDx48qGuvvVZXXXWVnnnmmZBxmZmZ\\\n",
       "qqysDNnWfD0zM7PFx3a5XHK52viZogCaLDge+l7AM+gWqNbmkld15ahxYZsSANgupgIwLS1NaWlp\\\n",
       "bRp74MABXXvttcrOztaKFSvkdIbu7MzNzdXcuXNVX1+vxMRESVJRUZEGDhyo1NTUdp87YLV5R2Ue\\\n",
       "7C6Zpvf6ncmf/7pV2SNvZMkWAAiTmDoE3FYHDhzQyJEj1bdvX/3yl7/UkSNH5PP5Qt7bd9tttykp\\\n",
       "KUmTJ0/Wzp079eKLL+rRRx/V9OnTozhzIE45E+S4dVWbjwbf3fCsyjY+H945AYDFYmoPYFsVFRWp\\\n",
       "rKxMZWVl6tOnT8htzaveeDwevf766yosLFR2drZ69uypefPmsQYgEC6DvyPHLc8psHqSnGp99anu\\\n",
       "qlaPjYVSRjep/7e/2hnBLB8DAGdkzTqA4cA6QsBXt6d4lS7YOE2S1NoR3oCkBnVT0vOdpfUb2vaR\\\n",
       "cBUVXywgfZYnfQGIX/z9jtNDwAA6rgEj/0M/S5ylY+rW6jinpCRVS70qmj4X+Exn3Vf8a1xZmbR4\\\n",
       "8Vl/hBwAxDMCEEBEJTgdGjnuB3qwvqBN483IzlL/A61HYHP8lZc3fY5wcTGHgQGgFQQggIi77pJe\\\n",
       "mpCX0+bxZrhLcu1vOQJPjr+SkrYdLgYAixGAAKLiypE36LPOGQqc4V3IDkfTpfHGZGlveWgEEn8A\\\n",
       "8LUQgACiw5mgipz5bR6e4JJqr+jdFHsjR0qbNhF/APA1EYAAombAv92mpxy3tnn8/psuaYq98nJp\\\n",
       "+HDiDwC+JgIQQNQkOB1qHD5D1aZzm8YPqHlHJd+7IHTjqlXEHwB8RQQggKgq/NZAPRsY0+bx/9a5\\\n",
       "VBr0pTXsCwrOvEQMACAEAQggqhKcDpkR/6lPTWedaVn65hNCAjcm63sTfvHF4eC2rBMIAAgiAAFE\\\n",
       "3d15g/Qz8+M2j3e6pMS+Ru8+/QciEAC+BgIQQNQlOB3691un6pGG77X5PrnODzT+jYNNJ4AQgQDw\\\n",
       "lRCAADqE6y7ppbcyCtp8QoiaDxd7vUQgAHxFBCCADuM3U6/W8oZ/b9PYUjP4iysnR+CoUXwWMAC0\\\n",
       "ggAE0GF07dxJ/9N4k6pbOSHEGOmo6ap3A4NDb2iOwAEDpFmz+CxgAGgFAQigQ3n9nmv1n/V3ykin\\\n",
       "RKAxTUd+59T/UAE55Tr5zl6vtH27NGVKZCYLADGKAATQoQzI7KrXA1fqrvp7dEipIbcdUnfdVX+P\\\n",
       "XgtcKUnas6iF9QPZ8wcAZ9TpzEMAILL2Lhqj/rOlotordKVzt9J1XIeVos2BixT41/+37msp/gAA\\\n",
       "bUIAAuiQ9i4aozLfp8r7VeiBCpdOs+cPANBmBCCADmtAZlf29AFAGPAeQAAAAMsQgAAAAJYhAAEA\\\n",
       "ACxDAAIAAFiGAAQAALAMAQgAAGAZAhAAAMAyBCAAAIBlCEAAAADLEIAAAACWIQABAAAsQwACAABY\\\n",
       "hgAEAACwDAEIAABgGQIQAADAMgQgAACAZQhAAAAAyxCAAAAAliEAAQAALEMAAgAAWIYABAAAsAwB\\\n",
       "CAAAYBkCEAAAwDIEIAAAgGUIQAAAAMsQgAAAAJYhAAEAACxDAAIAAFiGAAQAALAMAQgAAGAZAhAA\\\n",
       "AMAyBCAAAIBlCEAAAADLEIAAAACWIQABAAAsE/cBWFtbq2HDhsnhcGjbtm0ht23fvl0jRoxQ586d\\\n",
       "5fV6tXjx4uhMEgAAIILiPgBnzZql3r17n7Ld7/dr9OjR6tevn7Zs2aIlS5ZowYIFeuaZZ6IwSwAA\\\n",
       "gMjpFO0JhNPatWv1+uuv66WXXtLatWtDbvvtb3+ruro6Pfvss0pKStLFF1+sbdu26ZFHHtHUqVOj\\\n",
       "NGMAAIDwi9s9gJWVlZoyZYpWrVql5OTkU24vLS3VNddco6SkpOC2/Px87dmzR8eOHYvkVAEAACIq\\\n",
       "LgPQGKNJkybpzjvv1BVXXNHiGJ/Pp4yMjJBtzdd9Pl+L96mtrZXf7w+5AAAAxJqYCsDZs2fL4XC0\\\n",
       "etm9e7cef/xxVVdXa86cOe367y9cuFAejyd48Xq97fr4AAAAkeAwxphoT6Ktjhw5ok8++aTVMVlZ\\\n",
       "Wbr11lv16quvyuFwBLc3NjYqISFBEyZM0HPPPafbb79dfr9fL7/8cnDMhg0bNGrUKB09elSpqamn\\\n",
       "PHZtba1qa2uD1/1+v7xer6qqquR2u8/+CQIAgLDz+/3yeDxW//2OqZNA0tLSlJaWdsZxjz32mP7r\\\n",
       "v/4reP3gwYPKz8/Xiy++qJycHElSbm6u5s6dq/r6eiUmJkqSioqKNHDgwBbjT5JcLpdcLlc7PBMA\\\n",
       "AIDoiakAbKu+ffuGXO/atask6fzzz1efPn0kSbfddpseeOABTZ48Wffdd5927NihRx99VEuXLo34\\\n",
       "fAEAACIpLgOwLTwej15//XUVFhYqOztbPXv21Lx581gCBgAAxL2Yeg9gR8N7CAAAiD38/Y6xs4AB\\\n",
       "AABw9ghAAAAAyxCAAAAAliEAAQAALEMAAgAAWIYA7IhqasI7HgAAWI0A7GiWL5eGDJEqKto2vqKi\\\n",
       "afzy5eGdFwAAiBsEYEdSUyMtXiyVlUkjR545AisqmsaVlTXdjz2BAACgDQjAjqRLF6m4WMrKksrL\\\n",
       "W4/A5vgrL28aX1zcdH8AAIAzIAA7Gq9XKilpPQJPjr+Skqb7AQAAtAEB2BG1FoHEHwAAOEsEYEfV\\\n",
       "UgRu2kT8AQCAs9Yp2hNAK5ojsDn6hg9v2k78AQCAs8AewI7O65VWrQrdtmoV8QcAAL429gB2QI2B\\\n",
       "Rm09vFVHPjuic48FNKTgp3J8eUBBAXsAAQDA10YAdjBvfPSG7i25V5KU8UmdVizaK8eRen3Wt5eS\\\n",
       "X/hDU/w1vyeQCAQAAF8Dh4A7kJbiz3ukXhVpifrOT7vpjXM/O/MSMQAAAGdAAHYQjYHG08bfHbP7\\\n",
       "q7JHku4tuVeN5/YmAgEAwFkhADuIYauGSTp9/IWMa8ti0QAAAKdBAHYgrrqA/t/ifaeNvxAnR+Co\\\n",
       "UXwWMAAAaBMCsAOpTXJqxfU99VFGUuvx16w5AgcMkGbN4rOAAQBAm3AWcAfz0sjuWnNVimqT2tjm\\\n",
       "Xq+0fTvxBwAA2ow9gB1Qm+OvGfEHAAC+AgKwg9hWsK1dxwEAAJwOAdhBJDgTtHTk0lbHLB25VAnO\\\n",
       "hAjNCAAAxCsCsAPJ65d32ghcOnKp8vrlRXhGAAAgHnESSAeT1y9P2wq2BT8LOC05TZenX86ePwAA\\\n",
       "0G4IwA4owZmgb2R+I9rTAAAAcYpDwAAAAJYhAAEAACxDAAIAAFiGAAQAALAMAQgAAGAZAhAAAMAy\\\n",
       "BCAAAIBlCEAAAADLEIAAAACWIQABAAAsQwACAABYhgAEAACwDAEIAABgGQIQAADAMgQgAACAZQhA\\\n",
       "AAAAyxCAAAAAliEAAQAALEMAAgAAWIYABAAAsAwBCAAAYBkCEAAAwDIEIAAAgGUIQAAAAMsQgAAA\\\n",
       "AJYhAAEAACwTtwH45z//WTk5OerSpYtSU1M1bty4kNv379+vMWPGKDk5Wenp6Zo5c6YaGhqiM1kA\\\n",
       "AIAI6hTtCYTDSy+9pClTpujhhx/WqFGj1NDQoB07dgRvb2xs1JgxY5SZmalNmzbp0KFDuv3225WY\\\n",
       "mKiHH344ijMHAAAIP4cxxkR7Eu2poaFB5513nh544AFNnjy5xTFr167V2LFjdfDgQWVkZEiSli1b\\\n",
       "pvvuu09HjhxRUlJSm/4tv98vj8ejqqoqud3udnsOAAAgfPj7HYeHgLdu3aoDBw7I6XTqsssuU69e\\\n",
       "vXT99deH7AEsLS3VpZdeGow/ScrPz5ff79fOnTujMW0AAICIibsALC8vlyQtWLBA999/v9asWaPU\\\n",
       "1FSNHDlSR48elST5fL6Q+JMUvO7z+U772LW1tfL7/SEXAACAWBMzATh79mw5HI5WL7t371YgEJAk\\\n",
       "zZ07VzfffLOys7O1YsUKORwOrV69+qzmsHDhQnk8nuDF6/W2x1MDAACIqJg5CWTGjBmaNGlSq2Oy\\\n",
       "srJ06NAhSdLgwYOD210ul7KysrR//35JUmZmpjZv3hxy38rKyuBtpzNnzhxNnz49eN3v9xOBAAAg\\\n",
       "5sRMAKalpSktLe2M47Kzs+VyubRnzx5dffXVkqT6+nrt27dP/fr1kyTl5ubqoYce0uHDh5Weni5J\\\n",
       "KioqktvtDgnHk7lcLrlcrnZ4NgAAANETMwHYVm63W3feeafmz58vr9erfv36acmSJZKkW265RZI0\\\n",
       "evRoDR48WAUFBVq8eLF8Pp/uv/9+FRYWEngAACDuxV0AStKSJUvUqVMnFRQUqKamRjk5OSouLlZq\\\n",
       "aqokKSEhQWvWrNFdd92l3NxcnXPOOZo4caIefPDBKM8cAAAg/OJuHcBIYh0hAABiD3+/Y+gsYAAA\\\n",
       "ALQPAhAAAMAyBCAAAIBlCEAAAADLEIAAAACWIQABAAAsQwACAABYhgAEAACwDAEIAABgGQIQAADA\\\n",
       "MgQgAACAZQhAAAAAyxCAAAAAliEAAQAALEMAAgAAWIYABAAAsAwBCAAAYBkCEAAAwDIEIAAAgGUI\\\n",
       "QAAAAMsQgAAAAJYhAAEAACxDAAIAAFiGAAQAALAMAQgAAGAZAhAAAMAyBCAAAIBlCEAAAADLEIAA\\\n",
       "AACWIQABAAAsQwACAABYhgAEAACwDAEIAABgGQIQAADAMgQgAACAZQhAAAAAyxCAAAAAliEAAQAA\\\n",
       "LEMAAgAAWIYABAAAsAwBCAAAYBkCEAAAwDIEIAAAgGUIQAAAEF01NeEdj1MQgAAAIHqWL5eGDJEq\\\n",
       "Kto2vqKiafzy5eGdV5wjAAEAQHTU1EiLF0tlZdLIkWeOwIqKpnFlZU33Y0/g10YAAgCA6OjSRSou\\\n",
       "lrKypPLy1iOwOf7Ky5vGFxc33R9fCwEIAACix+uVSkpaj8CT46+kpOl++NoIQAAAEF2tRSDxFxYE\\\n",
       "IAAAiL6WInDTJuIvTDpFewIAAACSvojA5ugbPrxpO/HX7tgDCAAAOg6vV1q1KnTbqlXEXztjDyAA\\\n",
       "AIi6XRcNkiR1qq9Xv4r9SvryjQUF7AFsZ+wBBAAAUXVK/NXXqy4xUfv69m3bEjH4yuIyAP/xj3/o\\\n",
       "xhtvVM+ePeV2u3X11Vdrw4YNIWP279+vMWPGKDk5Wenp6Zo5c6YaGhqiNGMAAOx0uvj7yNtXNV2S\\\n",
       "9aEcRGAYxGUAjh07Vg0NDSouLtaWLVs0dOhQjR07Vj6fT5LU2NioMWPGqK6uTps2bdJzzz2nlStX\\\n",
       "at68eVGeOQAA9mgt/hoSEyVJDYmJRGAYOIwxJtqTaE8ff/yx0tLS9Oabb2rEiBGSpOrqarndbhUV\\\n",
       "FSkvL09r167V2LFjdfDgQWVkZEiSli1bpvvuu09HjhxRUlJSa/9EkN/vl8fjUVVVldxud9ieEwAA\\\n",
       "8WjXRYNajb8vG1T0erstCcPf7zjcA9ijRw8NHDhQv/71r3XixAk1NDTo6aefVnp6urKzsyVJpaWl\\\n",
       "uvTSS4PxJ0n5+fny+/3auXNntKYOAIBVHIFAm+JP0qnrBI4axWcBn4W4OwvY4XDojTfe0Lhx49St\\\n",
       "Wzc5nU6lp6dr3bp1Sk1NlST5fL6Q+JMUvN58mLgltbW1qq2tDV73+/1heAYAANjBOJ36pHsP9Tj6\\\n",
       "Sevx16w5AkeNkmbN4rOAz0LM7AGcPXu2HA5Hq5fdu3fLGKPCwkKlp6frrbfe0ubNmzVu3DjdcMMN\\\n",
       "OnTo0FnNYeHChfJ4PMGLl9PRAQA4K8dTUlR+Xv8zx18zr1favl2aMiW8E4tzMfMewCNHjuiTTz5p\\\n",
       "dUxWVpbeeustjR49WseOHQs5rn/BBRdo8uTJmj17tubNm6c//elP2rZtW/D2vXv3KisrS1u3btVl\\\n",
       "l13W4uO3tAfQ6/Va/R4CAADORvOJIK0ZtHtXu/6bvAcwhg4Bp6WlKS0t7YzjPvvsM0mS0xm6c9Pp\\\n",
       "dCoQCEiScnNz9dBDD+nw4cNKT0+XJBUVFcntdmvw4MGnfWyXyyWXy/V1nwIAADjJoN27Wo3A9o4/\\\n",
       "NImZQ8BtlZubq9TUVE2cOFHvv/++/vGPf2jmzJnau3evxowZI0kaPXq0Bg8erIKCAr3//vt67bXX\\\n",
       "dP/996uwsJDAAwAgwk4XecRf+MTMHsC26tmzp9atW6e5c+dq1KhRqq+v18UXX6xXXnlFQ4cOlSQl\\\n",
       "JCRozZo1uuuuu5Sbm6tzzjlHEydO1IMPPhjl2QMAYCdiL7Ji5j2AHRHvIQAAIPbw9zsODwEDAACg\\\n",
       "dQQgAACAZQhAAAAAyxCAAAAAliEAAQAALEMAAgAAWIYABAAAsAwBCAAAYJm4+ySQSGpeQ9vv90d5\\\n",
       "JgAAoK2a/27b/FkYBOBZqK6uliR5vd4ozwQAAHxV1dXV8ng80Z5GVPBRcGchEAjo4MGD6tatmxwO\\\n",
       "R7Sn87X4/X55vV5VVFRY+3E40cTrH128/tHDax9dtr/+xhhVV1erd+/ecjrtfDccewDPgtPpVJ8+\\\n",
       "faI9jXbhdrut/CXQUfD6Rxevf/Tw2keXza+/rXv+mtmZvQAAABYjAAEAACxDAFrO5XJp/vz5crlc\\\n",
       "0Z6KlXj9o4vXP3p47aOL1x+cBAIAAGAZ9gACAABYhgAEAACwDAEIAABgGQIQAADAMgSgRR566CFd\\\n",
       "ddVVSk5OVkpKSotj9u/frzFjxig5OVnp6emaOXOmGhoaQsaUlJTo8ssvl8vl0oABA7Ry5crwTz4O\\\n",
       "nXfeeXI4HCGXRYsWhYzZvn27RowYoc6dO8vr9Wrx4sVRmm38eeKJJ3Teeeepc+fOysnJ0ebNm6M9\\\n",
       "pbi0YMGCU37OL7roouDtn3/+uQoLC9WjRw917dpVN998syorK6M449j25ptv6oYbblDv3r3lcDj0\\\n",
       "8ssvh9xujNG8efPUq1cvdenSRXl5efrwww9Dxhw9elQTJkyQ2+1WSkqKJk+erE8//TSCzwKRQABa\\\n",
       "pK6uTrfccovuuuuuFm9vbGzUmDFjVFdXp02bNum5557TypUrNW/evOCYvXv3asyYMbr22mu1bds2\\\n",
       "3XPPPfrhD3+o1157LVJPI648+OCDOnToUPBy9913B2/z+/0aPXq0+vXrpy1btmjJkiVasGCBnnnm\\\n",
       "mSjOOD68+OKLmj59uubPn6+tW7dq6NChys/P1+HDh6M9tbh08cUXh/ycv/3228Hb7r33Xr366qta\\\n",
       "vXq1Nm7cqIMHD+qmm26K4mxj24kTJzR06FA98cQTLd6+ePFiPfbYY1q2bJneffddnXPOOcrPz9fn\\\n",
       "n38eHDNhwgTt3LlTRUVFWrNmjd58801NnTo1Uk8BkWJgnRUrVhiPx3PK9r/85S/G6XQan88X3PbU\\\n",
       "U08Zt9ttamtrjTHGzJo1y1x88cUh9xs/frzJz88P65zjUb9+/czSpUtPe/uTTz5pUlNTg6+9Mcbc\\\n",
       "d999ZuDAgRGYXXy78sorTWFhYfB6Y2Oj6d27t1m4cGEUZxWf5s+fb4YOHdribcePHzeJiYlm9erV\\\n",
       "wW27du0ykkxpaWmEZhi/JJk//vGPweuBQMBkZmaaJUuWBLcdP37cuFwu88ILLxhjjPnggw+MJPO3\\\n",
       "v/0tOGbt2rXG4XCYAwcORGzuCD/2ACKotLRUl156qTIyMoLb8vPz5ff7tXPnzuCYvLy8kPvl5+er\\\n",
       "tLQ0onONF4sWLVKPHj102WWXacmSJSGH20tLS3XNNdcoKSkpuC0/P1979uzRsWPHojHduFBXV6ct\\\n",
       "W7aE/Bw7nU7l5eXxcxwmH374oXr37q2srCxNmDBB+/fvlyRt2bJF9fX1Id+Liy66SH379uV7EQZ7\\\n",
       "9+6Vz+cLeb09Ho9ycnKCr3dpaalSUlJ0xRVXBMfk5eXJ6XTq3XffjficET6doj0BdBw+ny8k/iQF\\\n",
       "r/t8vlbH+P1+1dTUqEuXLpGZbBz4yU9+ossvv1zdu3fXpk2bNGfOHB06dEiPPPKIpKbXun///iH3\\\n",
       "+fL3IzU1NeJzjgcff/yxGhsbW/w53r17d5RmFb9ycnK0cuVKDRw4UIcOHdIDDzygESNGaMeOHfL5\\\n",
       "fEpKSjrlPckZGRnB3zloP82vaUs/+1/+HZ+enh5ye6dOndS9e3e+J3GGAIxxs2fP1i9+8YtWx+za\\\n",
       "tSvkTdcIn6/y/Zg+fXpw25AhQ5SUlKQf/ehHWrhwIR/PhLhx/fXXB78eMmSIcnJy1K9fP/3+97/n\\\n",
       "fxiBKCIAY9yMGTM0adKkVsdkZWW16bEyMzNPOROy+Wy8zMzM4H9PPkOvsrJSbrebX+Y6u+9HTk6O\\\n",
       "GhoatG/fPg0cOPC0r7X0xfcDX13Pnj2VkJDQ4mvL6xp+KSkpuvDCC1VWVqZvf/vbqqur0/Hjx0P2\\\n",
       "AvK9CI/m17SyslK9evUKbq+srNSwYcOCY04+GaqhoUFHjx7lexJnCMAYl5aWprS0tHZ5rNzcXD30\\\n",
       "0EM6fPhw8BBAUVGR3G63Bg8eHBzzl7/8JeR+RUVFys3NbZc5xLqz+X5s27ZNTqcz+Nrn5uZq7ty5\\\n",
       "qq+vV2JioqSm13rgwIEc/j0LSUlJys7O1vr16zVu3DhJUiAQ0Pr16zVt2rToTs4Cn376qf75z3+q\\\n",
       "oKBA2dnZSkxM1Pr163XzzTdLkvbs2aP9+/fzOyUM+vfvr8zMTK1fvz4YfH6/X++++25wdYjc3Fwd\\\n",
       "P35cW7ZsUXZ2tiSpuLhYgUBAOTk50Zo6wiHaZ6Egcj766CPz3nvvmQceeMB07drVvPfee+a9994z\\\n",
       "1dXVxhhjGhoazCWXXGJGjx5ttm3bZtatW2fS0tLMnDlzgo9RXl5ukpOTzcyZM82uXbvME088YRIS\\\n",
       "Esy6deui9bRi0qZNm8zSpUvNtm3bzD//+U/zm9/8xqSlpZnbb789OOb48eMmIyPDFBQUmB07dpjf\\\n",
       "/e53Jjk52Tz99NNRnHl8+N3vfmdcLpdZuXKl+eCDD8zUqVNNSkpKyBnwaB8zZswwJSUlZu/eveav\\\n",
       "f/2rycvLMz179jSHDx82xhhz5513mr59+5ri4mLzv//7vyY3N9fk5uZGedaxq7q6Ovi7XZJ55JFH\\\n",
       "zHvvvWc++ugjY4wxixYtMikpKeaVV14x27dvNzfeeKPp37+/qampCT7GddddZy677DLz7rvvmrff\\\n",
       "fttccMEF5vvf/360nhLChAC0yMSJE42kUy4bNmwIjtm3b5+5/vrrTZcuXUzPnj3NjBkzTH19fcjj\\\n",
       "bNiwwQwbNswkJSWZrKwss2LFisg+kTiwZcsWk5OTYzwej+ncubMZNGiQefjhh83nn38eMu799983\\\n",
       "V199tXG5XObcc881ixYtitKM48/jjz9u+vbta5KSksyVV15p3nnnnWhPKS6NHz/e9OrVyyQlJZlz\\\n",
       "zz3XjB8/3pSVlQVvr6mpMT/+8Y9NamqqSU5ONt/97nfNoUOHojjj2LZhw4YWf89PnDjRGNO0FMzP\\\n",
       "f/5zk5GRYVwul/nWt75l9uzZE/IYn3zyifn+979vunbtatxut7njjjuCOwoQPxzGGBOlnY8AAACI\\\n",
       "AtYBBAAAsAwBCAAAYBkCEAAAwDIEIAAAgGUIQAAAAMsQgAAAAJYhAAEAACxDAAIAAFiGAAQAALAM\\\n",
       "AQgAAGAZAhAAAMAyBCAAAIBlCEAAAADLEIAAAACWIQABAAAsQwACAABYhgAEAACwDAEIAABgGQIQ\\\n",
       "AADAMgQgAACAZQhAAAAAyxCAAAAAliEAAQAALEMAAgAAWIYABAAAsAwBCAAAYBkCEAAAwDIEIAAA\\\n",
       "gGUIQAAAAMsQgAAAAJYhAAEAACzz/wFNZhBeWPiYbQAAAABJRU5ErkJggg==\\\n",
       "\"\n",
       "  frames[1] = \"data:image/png;base64,iVBORw0KGgoAAAANSUhEUgAAAoAAAAHgCAYAAAA10dzkAAAAOXRFWHRTb2Z0d2FyZQBNYXRwbG90\\\n",
       "bGliIHZlcnNpb24zLjYuMCwgaHR0cHM6Ly9tYXRwbG90bGliLm9yZy89olMNAAAACXBIWXMAAA9h\\\n",
       "AAAPYQGoP6dpAAAqi0lEQVR4nO3de3SU5aHv8d9MSIZEmEmAXECGS8SiIKDGbYyIB7NTogustNSy\\\n",
       "1R3QTfHS2C6FBcLBzcVTDIVubOtCUc4pIHtbkeVRK7tQswlIlSjdCFJQ0DQgOcAE5JKJGHJ9zh8x\\\n",
       "owMhiZDJZOb5flzTOu/7zPDMJIv5+t7GYYwxAgAAgDWc4Z4AAAAAOhYBCAAAYBkCEAAAwDIEIAAA\\\n",
       "gGUIQAAAAMsQgAAAAJYhAAEAACxDAAIAAFiGAAQAALAMAQgAAGAZAhAAAMAyBCAAAIBlCEAAAADL\\\n",
       "EIAAAACWIQABAAAsQwACAABYhgAEAACwDAEIAABgGQIQAADAMgQgAACAZQhAAAAAyxCAAAAAliEA\\\n",
       "AQAALEMAAgAAWIYABAAAsAwBCAAAYBkCEAAAwDIEIAAAgGUIQAAAAMsQgAAAAJYhAAEAACxDAAIA\\\n",
       "AFiGAAQAALAMAQgAAGAZAhAAAMAyBCAAAIBlCEAAAADLEIAAAACWIQABAAAsQwACAABYhgAEAACw\\\n",
       "DAEIAABgGQIQAADAMgQgAACAZQhAAAAAyxCAAAAAliEAAQAALEMAAgAAWIYABAAAsAwBCAAAYBkC\\\n",
       "EAAAwDIEIAAAgGUIQAAAAMsQgAAAAJYhAAEAACxDAAIAAFimS7gnEMkaGhp05MgRde/eXQ6HI9zT\\\n",
       "AQAAbWCMUWVlpfr06SOn085tYQTgJThy5Ii8Xm+4pwEAAC5CWVmZ+vbtG+5phAUBeAm6d+8uqfEX\\\n",
       "yO12h3k2AACgLfx+v7xeb+Bz3EYE4CVo2u3rdrsJQAAAIozNh2/ZueMbAADAYgQgAACAZQhAAAAA\\\n",
       "yxCAAAAAliEAAQAALEMAAoAkVVWFdjwAdCIEIACsWCENHy6VlbVtfFlZ4/gVK0I7LwAIEQIQgN2q\\\n",
       "qqTFi6WSEmn06NYjsKyscVxJSePj2BIIIAIRgADsFh8vFRVJ6elSaWnLEdgUf6WljeOLihofDwAR\\\n",
       "hgAEAK9X2rKl5Qg8N/62bGl8HABEIAIQAKSWI5D4AxBlCEAAaNJcBG7bRvwBiDpdwj0BAOhUmiKw\\\n",
       "KfpGjmxcTvwBiCJsAQSAc3m90po1wcvWrCH+AEQNAhAAzlVWJuXlBS/Ly2v7dQIBoJNjFzAASPq3\\\n",
       "ieMkSd2/qtJPNr+vxDNfNe72XbOmMf6ajglkNzCAKMAWQADWay7+Tl+WoBeHDJBuvrn1S8QAQIQh\\\n",
       "AAFY7ULx9+ptN6kyIb5xfVuuEwgAEYQABGCt1uIvaBwRCCCKEIAArNalrl53b7lw/AU5NwKzs/ku\\\n",
       "YAARiQAEYLW6LjH66+ArdKpbK/HXpCkCBw2SZs7ku4ABRKSoDcCCggL9wz/8g7p3766UlBSNHz9e\\\n",
       "+/fvDxpz9uxZ5efnq2fPnurWrZsmTJig8vLyMM0YQLj87Yp+emnMra3HXxOvV9q9W5o6NbQTA4AQ\\\n",
       "idoAfOedd5Sfn6/3339fhYWFqq2t1ZgxY3TmzJnAmMcff1xvvfWW1q1bp3feeUdHjhzRj370ozDO\\\n",
       "GkC41HWJ+W4PYMsfgAjmMMaYcE+iIxw/flwpKSl65513dOutt6qiokLJycl6+eWX9eMf/1iStG/f\\\n",
       "Pl199dUqLi7WTTfd1Opz+v1+eTweVVRUyO12h/olAAiBphNBWjJ97foOmAmAjsLndxRvATxXRUWF\\\n",
       "JKlHjx6SpB07dqi2tlY5OTmBMVdddZX69eun4uLiZp+jurpafr8/6AYgsrUWd8QfgGhkRQA2NDTo\\\n",
       "scce08iRI3XNNddIknw+n+Li4pSYmBg0NjU1VT6fr9nnKSgokMfjCdy8fBsAEBUuFHnEH4BoZcVX\\\n",
       "weXn52vPnj169913L+l5Zs+erWnTpgXu+/1+IhCIEsQeAJtEfQA++uijWr9+vbZu3aq+ffsGlqel\\\n",
       "pammpkanT58O2gpYXl6utLS0Zp/L5XLJ5XKFesoAAAAhFbW7gI0xevTRR/X666+rqKhIAwcODFqf\\\n",
       "kZGh2NhYbdq0KbBs//79OnTokLKysjp6ugAAAB0marcA5ufn6+WXX9abb76p7t27B47r83g8io+P\\\n",
       "l8fj0ZQpUzRt2jT16NFDbrdbP//5z5WVldWmM4ABAAAiVdReBsbhcDS7fOXKlbr//vslNV4Ievr0\\\n",
       "6frDH/6g6upq5ebm6rnnnrvgLuBzcRo5AACRh8/vKA7AjsAvEAAAkYfP7yg+BhAAAADNIwABAAAs\\\n",
       "QwACAABYhgAEAACwDAEIAABgGQIQAADAMgQgAACAZQhAAAAAyxCAAAAAliEAAQAALEMAAgAAWIYA\\\n",
       "BAAAsAwBCAAAYBkCEAAAwDIEIAAAgGUIQAAAAMsQgAAAAJYhAAEAACxDAAIAAFiGAAQAALAMAQgA\\\n",
       "AGAZAhAAAMAyBCAAAIBlCEAAAADLEIAAAACWIQABAAAsQwACAABYhgAEAACwDAEIAABgGQIQAADA\\\n",
       "MgQgAACAZQhAAAAAyxCAAAAAliEAAQAALEMAAgAAWIYABAAAsAwBCAAAYBkCEAAAwDIEIAAAgGUI\\\n",
       "QAAAAMsQgAAAAJYhAAEAACxDAAIAAFiGAAQAALAMAQgAAGAZAhAAAMAyBCAAAIBlCEAAAADLEIAA\\\n",
       "AACWIQABAAAsQwACAABYhgAEAACwDAEIAABgGQIQAADAMtYH4LJlyzRgwAB17dpVmZmZ2r59e7in\\\n",
       "BAAAEFJWB+DatWs1bdo0zZs3Tx9++KFGjBih3NxcHTt2LNxTAwAACBmrA3Dp0qWaOnWqHnjgAQ0Z\\\n",
       "MkTLly9XQkKCfv/734d7agAAACFjbQDW1NRox44dysnJCSxzOp3KyclRcXFxs4+prq6W3+8PugEA\\\n",
       "AEQaawPwiy++UH19vVJTU4OWp6amyufzNfuYgoICeTyewM3r9XbEVAEAANqVtQF4MWbPnq2KiorA\\\n",
       "raysLNxTAgAA+M66hHsC4dKrVy/FxMSovLw8aHl5ebnS0tKafYzL5ZLL5eqI6QEAAISMtVsA4+Li\\\n",
       "lJGRoU2bNgWWNTQ0aNOmTcrKygrjzAAAAELL2i2AkjRt2jRNnjxZN9xwg2688Ub95je/0ZkzZ/TA\\\n",
       "Aw+Ee2oAAAAhY3UATpw4UcePH9fcuXPl8/l07bXXauPGjeedGAIAABBNHMYYE+5JRCq/3y+Px6OK\\\n",
       "igq53e5wTwcAALQBn98WHwMIAABgKwIQAADAMgQgAACAZQhAAAAAyxCAAAAAliEAAQAALEMAAgAA\\\n",
       "WIYABAAAsAwBCAAAYBkCEAAAwDIEIAAAgGUIQAAAAMsQgAAAAJYhAAEAACxDAAIAAFiGAAQAALAM\\\n",
       "AQgAAGAZAhAAAMAyBCAAAIBlCEAAAADLEIAAAACWIQABAAAsQwACAABYhgAEAACwDAEIAABgGQIQ\\\n",
       "AADAMgQgAACAZQhAAAAAyxCAAAAAliEAAQAALEMAAgAAWIYABAAAsAwBCCC6VVWFdjwARCACEED0\\\n",
       "WrFCGj5cKitr2/iyssbxK1aEdl4AEGYEIIDoVFUlLV4slZRIo0e3HoFlZY3jSkoaH8eWQABRjAAE\\\n",
       "EJ3i46WiIik9XSotbTkCm+KvtLRxfFFR4+MBIEoRgACil9crbdnScgSeG39btjQ+DgCiGAEIILq1\\\n",
       "FIHEHwBLEYAAol9zEbhtG/EHwFpdwj0BAOgQTRHYFH0jRzYuJ/4AWIgtgAA6Rme4Hp/XK61ZE7xs\\\n",
       "zRriD4B1CEAAoddZrsdXVibl5QUvy8tr+7wAIEoQgABCK8zX41v2cJGWPVyk1f/8iiquyfzmmL/3\\\n",
       "3mvbJWIAIAoRgABCK4zX41v2cJGMjLp9eUzj35omj/+oKty9tTproXTzza1fIgYAohQBCCD0wnA9\\\n",
       "vgvF3+t3/psquyVr2cNFbZsXAEQhAhBAx+jA6/F9O/5++Nb0QPy9cedSnemWKkkyMkQgAGsRgAA6\\\n",
       "Tgdej69LXY3GvzUjKP6+7JYiSXJ8/c8F55WdzXcBA4hqBCCAjnVubI0cGZKLMdd3cWnntRN12n15\\\n",
       "UPy1Oq9Bg6SZM/kuYABRjQtBA+h4Tdfja7oYsxSS6/F9fPVY7b8yR/VdXG2f1+7dxB+AqMcWQAAd\\\n",
       "rwOux2e+/qe5+Gta1yziD4AFCEAAHevcEz5CcD2+/OXZgWP8zg29pvsOOZS/PPuS/ywAiEQEIIAO\\\n",
       "U/N4d5kR/aXSUpkkh2p+cCxk1+P7dgSei/gDYDsCEECHqH+8u2JXn5HjlJGSHHJMvkyxbqfq53tC\\\n",
       "dimW5iKQ+AMAyWGMucCBMGiN3++Xx+NRRUWF3G53uKcDdFr1j3eX81vxp8mXSR6nmv72aXBIMfMr\\\n",
       "2v16gADQHD6/o3QL4MGDBzVlyhQNHDhQ8fHxuuKKKzRv3jzV1NQEjdu9e7dGjRqlrl27yuv1avHi\\\n",
       "xWGaMRC9aua45Xzpq/PiT5IcX2+ccxqpprktgVyPDwBCIiovA7Nv3z41NDTohRde0KBBg7Rnzx5N\\\n",
       "nTpVZ86c0a9//WtJjfU/ZswY5eTkaPny5frb3/6mf/mXf1FiYqIefPDBML8CIHrExDrkuDlO2lYj\\\n",
       "TUoIxF+TpgiMaVrQFIHZ2VyPDwBCxJpdwEuWLNHzzz+v0tJSSdLzzz+vOXPmyOfzKS4uTpI0a9Ys\\\n",
       "vfHGG9q3b1+bnpNNyEDrGuZ7Gnc11BoptvmTMiSpoUF6+yf7dPs1vRsXVFURfwBCgs/vKN0F3JyK\\\n",
       "igr16NEjcL+4uFi33nprIP4kKTc3V/v379epU6fCMUUgurUQf00WvPWx6hu+/m9S4g8AQsaKACwp\\\n",
       "KdGzzz6rhx56KLDM5/MpNTU1aFzTfZ/P1+zzVFdXy+/3B90AtKy+jeO21klHK85q+4GTIZ0PACDC\\\n",
       "AnDWrFlyOBwt3s7dfXv48GHdfvvtuvvuuzV16tRL+vMLCgrk8XgCNy9nJwKtip17UkbShQ42Mabx\\\n",
       "9rp+ppucH+uY/0yHzg8AbBRRxwAeP35cJ06caHFMenp6YLfukSNHNHr0aN10001atWqVnM5venfS\\\n",
       "pEny+/164403Ass2b96s7OxsnTx5UklJSec9d3V1taqrqwP3/X6/vF6v1ccQAG3y8R9lXs2TzDcn\\\n",
       "fUjfROG3l1UnpMk1bok05AcdO0cA1uAYwAg7Czg5OVnJycltGnv48GHddtttysjI0MqVK4PiT5Ky\\\n",
       "srI0Z84c1dbWKjY2VpJUWFiowYMHNxt/kuRyueRytfFL5QF8Y8gP1HD3S6peN0kJ56wyUtClmuO+\\\n",
       "KpdenST95CUiEABCJKJ2AbfV4cOHNXr0aPXr10+//vWvdfz4cfl8vqBj++69917FxcVpypQp2rt3\\\n",
       "r9auXavf/va3mjZtWhhnDkSvmKF3aeuEvfqnmif1WM3P9IXpLiPJec65IY6m7+7dOEtqaOsRhACA\\\n",
       "7yKitgC2VWFhoUpKSlRSUqK+ffsGrWva4+3xePT2228rPz9fGRkZ6tWrl+bOncs1AIEQun1YX8nx\\\n",
       "z/rjm6+qV21lCyON5D8sfb5NGjiqw+YHALaIqGMAOxuOIQAuTsPudXL+35+2PvDO56WMe9v+xFw7\\\n",
       "EEAb8PkdpbuAAXRuzu5pbRv4i9mN3w/cFmVl0vDh0ooVFz8xALAEAQig4/W/WXL3UfDpH98wcqjh\\\n",
       "S4dUfEhm9OjWI7CsTBo9WiopkRYv5vuDAaAVBCCAjueMkW7/1dd3giOwQY3H6v7P+gf0uSdNjtJS\\\n",
       "fXXzqAtHYFP8lZZK6elSURG7gQGgFQQggPAY8oPGS724ewct9pmeeqT2Mb3iytE/3VOgzxPTlPD/\\\n",
       "Pm8+As+Nvy1bJC7QDgCt4iSQS8BBpEA7aKhX/cH3tODlIn361WXa3nCVGuSUUw260blP36s6pJ8V\\\n",
       "rlXax8dlBqbL0RR5xB+Ai8Tnd5ReBgZABHHGaLsZqpe+/OayMLnO7Zof+5J6O05KcZJ+LNV/5VbM\\\n",
       "+kON0bdmjZSXR/wBwEUiAAGE3bHKs4F/z3Vu1/LY35w3JiZBMncnyPHeYWnkyMaFxB8AXBSOAQQQ\\\n",
       "dindu0qSnGpQQez/lhT8/cBBRsZJV3/9365r1hB/AHARCEAAYXfjwB7q7emqTOfH6uH48oLx53B8\\\n",
       "/T8/jG88eTgvr+3XCQQABBCAAMIuxunQvDuHKMv5cdseEOuQb2iPxmMA23KdQABAEAIQQKdw+zW9\\\n",
       "1b9HQpvHHxyX3ngMIBEIAN8ZAQig0+hyxf9o89j4LrWNJ4AQgQDwnRGAADqN798xQVUmpk1jd5kr\\\n",
       "Gk8AIQIB4DsjAAF0GnFxsZpe+5CMkS50ifqmdQvr/rlxwbkRmJ3NdwEDQCsIQACdynNPF2hXQ3qz\\\n",
       "65qi8O36DH266IffrGiKwEGDpJkz+S5gAGgFAQig07nuf+1UYf31zW4FfLs+Q7m/LDp/hdcr7d4t\\\n",
       "TZ0a+gkCQIQjAAF0SmN+uVmDq1dpdV2O3qkfptV1ORpcvar5+GvClj8AaBOHMRc60gat4cukAQCI\\\n",
       "PHx+swUQAADAOgQgAACAZQhAAAAAyxCAAAAAliEAAQAALEMAAgAAWIYABAAAsAwBCAAAYBkCEAAA\\\n",
       "wDIEIAAAgGUIQAAAAMsQgAAAAJYhAAEAACxDAAIAAFiGAAQAALAMAQgAAGAZAhAAAMAyBCAAAIBl\\\n",
       "CEAAAADLEIAAAACWIQABAAAsQwACAABYhgAEAACwDAEIAABgGQIQAADAMgQgAACAZQhAAAAAyxCA\\\n",
       "AAAAliEAAQAALEMAAgAAWIYABAAAsAwBCAAAYBkCEAAAwDIEIAAAgGUIQAAAAMsQgAAAAJaJ+gCs\\\n",
       "rq7WtddeK4fDoV27dgWt2717t0aNGqWuXbvK6/Vq8eLF4ZkkAABAB4r6AJw5c6b69Olz3nK/368x\\\n",
       "Y8aof//+2rFjh5YsWaL58+frxRdfDMMsAQAAOk6XcE8glDZs2KC3335br732mjZs2BC07j/+4z9U\\\n",
       "U1Oj3//+94qLi9PQoUO1a9cuLV26VA8++GCYZgwAABB6UbsFsLy8XFOnTtWaNWuUkJBw3vri4mLd\\\n",
       "euutiouLCyzLzc3V/v37derUqY6cKgAAQIeKygA0xuj+++/Xww8/rBtuuKHZMT6fT6mpqUHLmu77\\\n",
       "fL5mH1NdXS2/3x90AwAAiDQRFYCzZs2Sw+Fo8bZv3z49++yzqqys1OzZs9v1zy8oKJDH4wncvF5v\\\n",
       "uz4/AABAR3AYY0y4J9FWx48f14kTJ1ock56erp/85Cd666235HA4Asvr6+sVExOj++67T6tXr9ak\\\n",
       "SZPk9/v1xhtvBMZs3rxZ2dnZOnnypJKSks577urqalVXVwfu+/1+eb1eVVRUyO12X/oLBAAAIef3\\\n",
       "++XxeKz+/I6ok0CSk5OVnJzc6rjf/e53+uUvfxm4f+TIEeXm5mrt2rXKzMyUJGVlZWnOnDmqra1V\\\n",
       "bGysJKmwsFCDBw9uNv4kyeVyyeVytcMrAQAACJ+ICsC26tevX9D9bt26SZKuuOIK9e3bV5J07733\\\n",
       "asGCBZoyZYqeeOIJ7dmzR7/97W/1zDPPdPh8AQAAOlJUBmBbeDwevf3228rPz1dGRoZ69eqluXPn\\\n",
       "cgkYAAAQ9SLqGMDOhmMIAACIPHx+R9hZwAAAALh0BCAAAIBlCEAAAADLEIAAAACWIQABAAAsQwB2\\\n",
       "RlVVoR0PAACsRgB2NitWSMOHS2VlbRtfVtY4fsWK0M4LAABEDQKwM6mqkhYvlkpKpNGjW4/AsrLG\\\n",
       "cSUljY9jSyAAAGgDArAziY+Xioqk9HSptLTlCGyKv9LSxvFFRY2PBwAAaAUB2Nl4vdKWLS1H4Lnx\\\n",
       "t2VL4+MAAADagADsjFqKQOIPAABcIgKws2ouArdtI/4AAMAl6xLuCaAFTRHYFH0jRzYuJ/4AAMAl\\\n",
       "YAtgZ+f1SmvWBC9bs4b4AwAAF40A7OzKyqS8vOBleXltv04gAADAOQjATmjY6mEatnqYcpYOVlnG\\\n",
       "Fd8c8/fee227RAwAAEALCMBOZtjqYZKk1BM1WrnogLzHa1WWHKuc/C7SzTe3fokYAACAVhCAnciF\\\n",
       "4u+BWQNV3jOucX1brhMIAADQAgKwk2gt/oLGEYEAAOASEICdiKumQf9n8cELxl+QcyMwO5vvAgYA\\\n",
       "AG1CAHYi1XFOrbyjlz5PjWs5/po0ReCgQdLMmXwXMAAAaBMuBN3JvDa6h9bfnKjquDa2udcr7d5N\\\n",
       "/AEAgDZjC2An1Ob4a0L8AQCA74AA7CT+Nvlv7ToOAADgQgjATqS1uCP+AABAeyAAO5kLRR7xBwAA\\\n",
       "2gsngXRCxB4AAAgltgACAABYhgAEAACwDAEIAABgGQIQAADAMgQgAACAZQhAAAAAyxCAAAAAliEA\\\n",
       "AQAALEMAAgAAWIYABAAAsAwBCAAAYBkCEAAAwDIEIAAAgGUIQAAAAMsQgAAAAJYhAAEAACxDAAIA\\\n",
       "AFiGAAQAALAMAQgAAGAZAhAAAMAyBCAAAIBlCEAAAADLEIAAAACWIQABAAAsQwACAABYhgAEAACw\\\n",
       "DAEIAABgmagNwP/8z/9UZmam4uPjlZSUpPHjxwetP3TokMaOHauEhASlpKRoxowZqqurC89kAQAA\\\n",
       "OlCXcE8gFF577TVNnTpVTz/9tLKzs1VXV6c9e/YE1tfX12vs2LFKS0vTtm3bdPToUU2aNEmxsbF6\\\n",
       "+umnwzhzAACA0HMYY0y4J9Ge6urqNGDAAC1YsEBTpkxpdsyGDRs0btw4HTlyRKmpqZKk5cuX64kn\\\n",
       "ntDx48cVFxfXpj/L7/fL4/GooqJCbre73V4DAAAIHT6/o3AX8IcffqjDhw/L6XTquuuuU+/evXXH\\\n",
       "HXcEbQEsLi7WsGHDAvEnSbm5ufL7/dq7d284pg0AANBhoi4AS0tLJUnz58/Xk08+qfXr1yspKUmj\\\n",
       "R4/WyZMnJUk+ny8o/iQF7vt8vgs+d3V1tfx+f9ANAAAg0kRMAM6aNUsOh6PF2759+9TQ0CBJmjNn\\\n",
       "jiZMmKCMjAytXLlSDodD69atu6Q5FBQUyOPxBG5er7c9XhoAAECHipiTQKZPn67777+/xTHp6ek6\\\n",
       "evSoJGnIkCGB5S6XS+np6Tp06JAkKS0tTdu3bw96bHl5eWDdhcyePVvTpk0L3Pf7/UQgAACIOBET\\\n",
       "gMnJyUpOTm51XEZGhlwul/bv369bbrlFklRbW6uDBw+qf//+kqSsrCwtXLhQx44dU0pKiiSpsLBQ\\\n",
       "brc7KBzP5XK55HK52uHVAAAAhE/EBGBbud1uPfzww5o3b568Xq/69++vJUuWSJLuvvtuSdKYMWM0\\\n",
       "ZMgQ5eXlafHixfL5fHryySeVn59P4AEAgKgXdQEoSUuWLFGXLl2Ul5enqqoqZWZmqqioSElJSZKk\\\n",
       "mJgYrV+/Xo888oiysrJ02WWXafLkyXrqqafCPHMAAIDQi7rrAHYkriMEAEDk4fM7gs4CBgAAQPsg\\\n",
       "AAEAACxDAAIAAFiGAAQAALAMAQgAAGAZAhAAAMAyBCAAAIBlCEAAAADLEIAAAACWIQABAAAsQwAC\\\n",
       "AABYhgAEAACwDAEIAABgGQIQAADAMgQgAACAZQhAAAAAyxCAAAAAliEAAQAALEMAAgAAWIYABAAA\\\n",
       "sAwBCAAAYBkCEAAAwDIEIAAAgGUIQAAAAMsQgAAAAJYhAAEAACxDAAIAAFiGAAQAALAMAQgAAGAZ\\\n",
       "AhAAAMAyBCAAAIBlCEAAAADLEIAAAACWIQABAAAsQwACAABYhgAEAACwDAEIAABgGQIQAADAMgQg\\\n",
       "AACAZQhAAAAAyxCAAAAAliEAAQAALEMAAgAAWIYABAAA4VVVFdrxOA8BCAAAwmfFCmn4cKmsrG3j\\\n",
       "y8oax69YEdp5RTkCEAAAhEdVlbR4sVRSIo0e3XoElpU1jispaXwcWwIvGgEIAADCIz5eKiqS0tOl\\\n",
       "0tKWI7Ap/kpLG8cXFTU+HheFAAQAAOHj9UpbtrQcgefG35YtjY/DRSMAAQBAeLUUgcRfSBCAAAAg\\\n",
       "/JqLwG3biL8Q6RLuCQAAAEj6JgKbom/kyMblxF+7YwsgAADoPLxeac2a4GVr1hB/7YwtgAAAIOw+\\\n",
       "uepqSVKX2lr1LzukuG+vzMtjC2A7YwsgAAAIq/Pir7ZWNbGxOtivX9suEYPvLCoD8NNPP9Vdd92l\\\n",
       "Xr16ye1265ZbbtHmzZuDxhw6dEhjx45VQkKCUlJSNGPGDNXV1YVpxgAA2OlC8fe5t5+q4hP0mRxE\\\n",
       "YAhEZQCOGzdOdXV1Kioq0o4dOzRixAiNGzdOPp9PklRfX6+xY8eqpqZG27Zt0+rVq7Vq1SrNnTs3\\\n",
       "zDMHAMAeLcVfXWysJKkuNpYIDAGHMcaEexLt6YsvvlBycrK2bt2qUaNGSZIqKyvldrtVWFionJwc\\\n",
       "bdiwQePGjdORI0eUmpoqSVq+fLmeeOIJHT9+XHFxcS39EQF+v18ej0cVFRVyu90he00AAESjT666\\\n",
       "usX4+7arC99ut0vC8PkdhVsAe/bsqcGDB+ull17SmTNnVFdXpxdeeEEpKSnKyMiQJBUXF2vYsGGB\\\n",
       "+JOk3Nxc+f1+7d27N1xTBwDAKo6GhjbFn6TzrxOYnc13AV+CqDsL2OFw6L/+6780fvx4de/eXU6n\\\n",
       "UykpKdq4caOSkpIkST6fLyj+JAXuN+0mbk51dbWqq6sD9/1+fwheAQAAdjBOp0706KmeJ0+0HH9N\\\n",
       "miIwO1uaOZPvAr4EEbMFcNasWXI4HC3e9u3bJ2OM8vPzlZKSor/85S/avn27xo8frzvvvFNHjx69\\\n",
       "pDkUFBTI4/EEbl5ORwcA4JKcTkxU6YCBrcdfE69X2r1bmjo1tBOLchFzDODx48d14sSJFsekp6fr\\\n",
       "L3/5i8aMGaNTp04F7de/8sorNWXKFM2aNUtz587VH//4R+3atSuw/sCBA0pPT9eHH36o6667rtnn\\\n",
       "b24LoNfrtfoYAgAALkXTiSAtuXrfJ+36Z3IMYATtAk5OTlZycnKr47766itJktMZvHHT6XSqoaFB\\\n",
       "kpSVlaWFCxfq2LFjSklJkSQVFhbK7XZryJAhF3xul8sll8t1sS8BAACc4+p9n7QYge0df2gUMbuA\\\n",
       "2yorK0tJSUmaPHmyPvroI3366aeaMWOGDhw4oLFjx0qSxowZoyFDhigvL08fffSR/vznP+vJJ59U\\\n",
       "fn4+gQcAQAe7UOQRf6ETMVsA26pXr17auHGj5syZo+zsbNXW1mro0KF68803NWLECElSTEyM1q9f\\\n",
       "r0ceeURZWVm67LLLNHnyZD311FNhnj0AAHYi9jpWxBwD2BlxDAEAAJGHz+8o3AUMAACAlhGAAAAA\\\n",
       "liEAAQAALEMAAgAAWIYABAAAsAwBCAAAYBkCEAAAwDIEIAAAgGWi7ptAOlLTNbT9fn+YZwIAANqq\\\n",
       "6XPb5u/CIAAvQWVlpSTJ6/WGeSYAAOC7qqyslMfjCfc0woKvgrsEDQ0NOnLkiLp37y6HwxHu6VwU\\\n",
       "v98vr9ersrIya78OJ5x4/8OH9z68eP/Dy/b33xijyspK9enTR06nnUfDsQXwEjidTvXt2zfc02gX\\\n",
       "brfbyr8EOgve//DhvQ8v3v/wsvn9t3XLXxM7sxcAAMBiBCAAAIBlCEDLuVwuzZs3Ty6XK9xTsRLv\\\n",
       "f/jw3ocX73948f6Dk0AAAAAswxZAAAAAyxCAAAAAliEAAQAALEMAAgAAWIYAtMTChQt18803KyEh\\\n",
       "QYmJic2OOXTokMaOHauEhASlpKRoxowZqqurCxqzZcsWXX/99XK5XBo0aJBWrVoV+slHqQEDBsjh\\\n",
       "cATdFi1aFDRm9+7dGjVqlLp27Sqv16vFixeHabbRZ9myZRowYIC6du2qzMxMbd++PdxTikrz588/\\\n",
       "7/f8qquuCqw/e/as8vPz1bNnT3Xr1k0TJkxQeXl5GGccubZu3ao777xTffr0kcPh0BtvvBG03hij\\\n",
       "uXPnqnfv3oqPj1dOTo4+++yzoDEnT57UfffdJ7fbrcTERE2ZMkVffvllB74KdBQC0BI1NTW6++67\\\n",
       "9cgjjzS7vr6+XmPHjlVNTY22bdum1atXa9WqVZo7d25gzIEDBzR27Fjddttt2rVrlx577DH99Kc/\\\n",
       "1Z///OeOehlR56mnntLRo0cDt5///OeBdX6/X2PGjFH//v21Y8cOLVmyRPPnz9eLL74YxhlHh7Vr\\\n",
       "12ratGmaN2+ePvzwQ40YMUK5ubk6duxYuKcWlYYOHRr0e/7uu+8G1j3++ON66623tG7dOr3zzjs6\\\n",
       "cuSIfvSjH4VxtpHrzJkzGjFihJYtW9bs+sWLF+t3v/udli9frg8++ECXXXaZcnNzdfbs2cCY++67\\\n",
       "T3v37lVhYaHWr1+vrVu36sEHH+yol4COZGCVlStXGo/Hc97yP/3pT8bpdBqfzxdY9vzzzxu3222q\\\n",
       "q6uNMcbMnDnTDB06NOhxEydONLm5uSGdc7Tq37+/eeaZZy64/rnnnjNJSUmB998YY5544gkzePDg\\\n",
       "DphddLvxxhtNfn5+4H59fb3p06ePKSgoCOOsotO8efPMiBEjml13+vRpExsba9atWxdY9sknnxhJ\\\n",
       "pri4uINmGJ0kmddffz1wv6GhwaSlpZklS5YElp0+fdq4XC7zhz/8wRhjzMcff2wkmb/+9a+BMRs2\\\n",
       "bDAOh8McPny4w+aOjsEWQEiSiouLNWzYMKWmpgaW5ebmyu/3a+/evYExOTk5QY/Lzc1VcXFxh841\\\n",
       "mixatEg9e/bUddddpyVLlgTtci8uLtatt96quLi4wLLc3Fzt379fp06dCsd0o0JNTY127NgR9Lvs\\\n",
       "dDqVk5PD73KIfPbZZ+rTp4/S09N133336dChQ5KkHTt2qLa2NuhncdVVV6lfv378LNrZgQMH5PP5\\\n",
       "gt5rj8ejzMzMwHtdXFysxMRE3XDDDYExOTk5cjqd+uCDDzp8zgitLuGeADoHn88XFH+SAvd9Pl+L\\\n",
       "Y/x+v6qqqhQfH98xk40Sv/jFL3T99derR48e2rZtm2bPnq2jR49q6dKlkhrf74EDBwY95ts/k6Sk\\\n",
       "pA6fczT44osvVF9f3+zv8r59+8I0q+iVmZmpVatWafDgwTp69KgWLFigUaNGac+ePfL5fIqLizvv\\\n",
       "uOTU1NTA3ztoH03vZ3O/99/+Oz4lJSVofZcuXdSjRw9+HlGIAIxgs2bN0q9+9asWx3zyySdBB1wj\\\n",
       "tL7Lz2TatGmBZcOHD1dcXJweeughFRQU8PVMiBp33HFH4N+HDx+uzMxM9e/fX6+++ir/0QiEEQEY\\\n",
       "waZPn67777+/xTHp6elteq60tLTzzoJsOhMvLS0t8P/nnp1XXl4ut9vNX+Rfu5SfSWZmpurq6nTw\\\n",
       "4EENHjz4gu+39M3PBN9dr169FBMT0+x7y/saeomJifre976nkpISff/731dNTY1Onz4dtBWQn0X7\\\n",
       "a3o/y8vL1bt378Dy8vJyXXvttYEx554IVVdXp5MnT/LziEIEYARLTk5WcnJyuzxXVlaWFi5cqGPH\\\n",
       "jgV2ARQWFsrtdmvIkCGBMX/605+CHldYWKisrKx2mUM0uJSfya5du+R0OgPvf1ZWlubMmaPa2lrF\\\n",
       "xsZKany/Bw8ezO7fSxAXF6eMjAxt2rRJ48ePlyQ1NDRo06ZNevTRR8M7OQt8+eWX+vvf/668vDxl\\\n",
       "ZGQoNjZWmzZt0oQJEyRJ+/fv16FDh/h7pZ0NHDhQaWlp2rRpUyD4/H6/Pvjgg8DVIbKysnT69Gnt\\\n",
       "2LFDGRkZkqSioiI1NDQoMzMzXFNHqIT7LBR0jM8//9zs3LnTLFiwwHTr1s3s3LnT7Ny501RWVhpj\\\n",
       "jKmrqzPXXHONGTNmjNm1a5fZuHGjSU5ONrNnzw48R2lpqUlISDAzZswwn3zyiVm2bJmJiYkxGzdu\\\n",
       "DNfLiljbtm0zzzzzjNm1a5f5+9//bv793//dJCcnm0mTJgXGnD592qSmppq8vDyzZ88e88orr5iE\\\n",
       "hATzwgsvhHHm0eGVV14xLpfLrFq1ynz88cfmwQcfNImJiUFnwaN9TJ8+3WzZssUcOHDAvPfeeyYn\\\n",
       "J8f06tXLHDt2zBhjzMMPP2z69etnioqKzH//93+brKwsk5WVFeZZR6bKysrA3+2SzNKlS83OnTvN\\\n",
       "559/bowxZtGiRSYxMdG8+eabZvfu3eauu+4yAwcONFVVVYHnuP322811111nPvjgA/Puu++aK6+8\\\n",
       "0txzzz3hekkIIQLQEpMnTzaSzrtt3rw5MObgwYPmjjvuMPHx8aZXr15m+vTppra2Nuh5Nm/ebK69\\\n",
       "9loTFxdn0tPTzcqVKzv2hUSJHTt2mMzMTOPxeEzXrl3N1VdfbZ5++mlz9uzZoHEfffSRueWWW4zL\\\n",
       "5TKXX365WbRoUZhmHH2effZZ069fPxMXF2duvPFG8/7774d7SlFp4sSJpnfv3iYuLs5cfvnlZuLE\\\n",
       "iaakpCSwvqqqyvzsZz8zSUlJJiEhwfzwhz80R48eDeOMI9fmzZub/Xt+8uTJxpjGS8H867/+q0lN\\\n",
       "TTUul8v84z/+o9m/f3/Qc5w4ccLcc889plu3bsbtdpsHHnggsKEA0cVhjDFh2vgIAACAMOA6gAAA\\\n",
       "AJYhAAEAACxDAAIAAFiGAAQAALAMAQgAAGAZAhAAAMAyBCAAAIBlCEAAAADLEIAAAACWIQABAAAs\\\n",
       "QwACAABYhgAEAACwDAEIAABgGQIQAADAMgQgAACAZQhAAAAAyxCAAAAAliEAAQAALEMAAgAAWIYA\\\n",
       "BAAAsAwBCAAAYBkCEAAAwDIEIAAAgGUIQAAAAMsQgAAAAJYhAAEAACxDAAIAAFiGAAQAALAMAQgA\\\n",
       "AGAZAhAAAMAyBCAAAIBl/j+C/QJ7oznhgAAAAABJRU5ErkJggg==\\\n",
       "\"\n",
       "  frames[2] = \"data:image/png;base64,iVBORw0KGgoAAAANSUhEUgAAAoAAAAHgCAYAAAA10dzkAAAAOXRFWHRTb2Z0d2FyZQBNYXRwbG90\\\n",
       "bGliIHZlcnNpb24zLjYuMCwgaHR0cHM6Ly9tYXRwbG90bGliLm9yZy89olMNAAAACXBIWXMAAA9h\\\n",
       "AAAPYQGoP6dpAAAqFUlEQVR4nO3de3TU9YH38c9MSIYEmEmAXECGS8RFUUAb1xgRD2azpB50S+ta\\\n",
       "ntYnoEuxuLF7KhwQDpaLuxoW+uC2HirK8xQo3VbL8aiFLdQsAa0majeKFARqDEgOYQJyyUQacv0+\\\n",
       "f0wzOpCbJpPJzPf98szR+f2+M3xnksO8/d3GYYwxAgAAgDWckZ4AAAAA+hYBCAAAYBkCEAAAwDIE\\\n",
       "IAAAgGUIQAAAAMsQgAAAAJYhAAEAACxDAAIAAFiGAAQAALAMAQgAAGAZAhAAAMAyBCAAAIBlCEAA\\\n",
       "AADLEIAAAACWIQABAAAsQwACAABYhgAEAACwDAEIAABgGQIQAADAMgQgAACAZQhAAAAAyxCAAAAA\\\n",
       "liEAAQAALEMAAgAAWIYABAAAsAwBCAAAYBkCEAAAwDIEIAAAgGUIQAAAAMsQgAAAAJYhAAEAACxD\\\n",
       "AAIAAFiGAAQAALAMAQgAAGAZAhAAAMAyBCAAAIBlCEAAAADLEIAAAACWIQABAAAsQwACAABYhgAE\\\n",
       "AACwDAEIAABgGQIQAADAMgQgAACAZQhAAAAAyxCAAAAAliEAAQAALEMAAgAAWIYABAAAsAwBCAAA\\\n",
       "YBkCEAAAwDIEIAAAgGUIQAAAAMsQgAAAAJYhAAEAACxDAAIAAFhmQKQnEM1aW1tVXV2tIUOGyOFw\\\n",
       "RHo6AACgG4wxqqur08iRI+V02rktjADsgerqanm93khPAwAAfAVVVVUaNWpUpKcREQRgDwwZMkRS\\\n",
       "4BfI7XZHeDYAAKA7/H6/vF5v8HPcRgRgD7Tt9nW73QQgAABRxubDt+zc8Q0AAGAxAhAAAMAyBCAA\\\n",
       "AIBlCEAAAADLEIAAAACWIQABQJLq68M7HgD6EQIQADZtkiZPlqqquje+qiowftOm8M4LAMKEAARg\\\n",
       "t/p6ae1aqaJCmj696wisqgqMq6gIPI4tgQCiEAEIwG6JiVJJiZSZKVVWdh6BbfFXWRkYX1ISeDwA\\\n",
       "RBkCEAC8Xmnfvs4j8PL427cv8DgAiEIEIABInUcg8QcgxhCAANCmvQgsLSX+AMScAZGeAAD0K20R\\\n",
       "2BZ9U6cGlhN/AGIIWwAB4HJer7RtW+iybduIPwAxgwAEgMtVVUkFBaHLCgq6f51AAOjn2AUMAJL+\\\n",
       "z+y7JUlD/lKvb+99W8kX/xLY7bttWyD+2o4JZDcwgBjAFkAA1msv/i4MStLzE8dKt93W9SViACDK\\\n",
       "EIAArNZR/P3mzltVl5QYWN+d6wQCQBQhAAFYq6v4CxlHBAKIIQQgAKsNaG7Rffs6jr8Ql0dgbi7f\\\n",
       "BQwgKhGAAKzWPCBOf5xwtc4P7iL+2rRF4Pjx0pIlfBcwgKgUswFYVFSkv/3bv9WQIUOUlpamWbNm\\\n",
       "6ejRoyFjLl26pMLCQg0bNkyDBw/Wvffeq5qamgjNGECk/Onq0frFjDu6jr82Xq904IA0f354JwYA\\\n",
       "YRKzAfj666+rsLBQb7/9toqLi9XU1KQZM2bo4sWLwTGPPvqoduzYoe3bt+v1119XdXW1vvWtb0Vw\\\n",
       "1gAipXlA3Jd7AFv+AEQxhzHGRHoSfeHMmTNKS0vT66+/rjvuuEO1tbVKTU3Vr371K/3jP/6jJOnI\\\n",
       "kSO67rrrVFZWpltvvbXL5/T7/fJ4PKqtrZXb7Q73SwAQBm0ngnRm0Ys7+2AmAPoKn98xvAXwcrW1\\\n",
       "tZKkoUOHSpLKy8vV1NSkvLy84Jhrr71Wo0ePVllZWbvP0dDQIL/fH3IDEN26ijviD0AssiIAW1tb\\\n",
       "9cMf/lBTp07VDTfcIEny+XxKSEhQcnJyyNj09HT5fL52n6eoqEgejyd48/JtAEBM6CjyiD8AscqK\\\n",
       "r4IrLCzUwYMH9eabb/boeZYtW6aFCxcG7/v9fiIQiBHEHgCbxHwAPvLII9q5c6feeOMNjRo1Krg8\\\n",
       "IyNDjY2NunDhQshWwJqaGmVkZLT7XC6XSy6XK9xTBgAACKuY3QVsjNEjjzyil19+WSUlJRo3blzI\\\n",
       "+qysLMXHx2vPnj3BZUePHtWJEyeUk5PT19MFAADoMzG7BbCwsFC/+tWv9Oqrr2rIkCHB4/o8Ho8S\\\n",
       "ExPl8Xg0b948LVy4UEOHDpXb7dYPfvAD5eTkdOsMYAAAgGgVs5eBcTgc7S7fvHmzHnjgAUmBC0Ev\\\n",
       "WrRIv/71r9XQ0KD8/Hz97Gc/63AX8OU4jRwAgOjD53cMB2Bf4BcIAIDow+d3DB8DCAAAgPYRgAAA\\\n",
       "AJYhAAEAACxDAAIAAFiGAAQAALAMAQgAAGAZAhAAAMAyBCAAAIBlCEAAAADLEIAAAACWIQABAAAs\\\n",
       "QwACAABYhgAEAACwDAEIAABgGQIQAADAMgQgAACAZQhAAAAAyxCAAAAAliEAAQAALEMAAgAAWIYA\\\n",
       "BAAAsAwBCAAAYBkCEAAAwDIEIAAAgGUIQAAAAMsQgAAAAJYhAAEAACxDAAIAAFiGAAQAALAMAQgA\\\n",
       "AGAZAhAAAMAyBCAAAIBlCEAAAADLEIAAAACWIQABAAAsQwACAABYhgAEAACwDAEIAABgGQIQAADA\\\n",
       "MgQgAACAZQhAAAAAyxCAAAAAliEAAQAALEMAAgAAWIYABAAAsAwBCAAAYBkCEAAAwDIEIAAAgGUI\\\n",
       "QAAAAMsQgAAAAJYhAAEAACxDAAIAAFiGAAQAALAMAQgAAGAZ6wNww4YNGjt2rAYOHKjs7Gy9++67\\\n",
       "kZ4SAABAWFkdgC+++KIWLlyolStX6r333tOUKVOUn5+v06dPR3pqAAAAYWN1AK5fv17z58/Xgw8+\\\n",
       "qIkTJ2rjxo1KSkrSz3/+80hPDQAAIGysDcDGxkaVl5crLy8vuMzpdCovL09lZWXtPqahoUF+vz/k\\\n",
       "BgAAEG2sDcBPP/1ULS0tSk9PD1menp4un8/X7mOKiork8XiCN6/X2xdTBQAA6FXWBuBXsWzZMtXW\\\n",
       "1gZvVVVVkZ4SAADAlzYg0hOIlOHDhysuLk41NTUhy2tqapSRkdHuY1wul1wuV19MDwAAIGys3QKY\\\n",
       "kJCgrKws7dmzJ7istbVVe/bsUU5OTgRnBgAAEF7WbgGUpIULF2ru3Lm6+eabdcstt+g//uM/dPHi\\\n",
       "RT344IORnhoAAEDYWB2As2fP1pkzZ7RixQr5fD7deOON2r179xUnhgAAAMQShzHGRHoS0crv98vj\\\n",
       "8ai2tlZutzvS0wEAAN3A57fFxwACAADYigAEAACwDAEIAABgGQIQAADAMgQgAACAZQhAAAAAyxCA\\\n",
       "AAAAliEAAQAALEMAAgAAWIYABAAAsAwBCAAAYBkCEAAAwDIEIAAAgGUIQAAAAMsQgAAAAJYhAAEA\\\n",
       "ACxDAAIAAFiGAAQAALAMAQgAAGAZAhAAAMAyBCAAAIBlCEAAAADLEIAAAACWIQABAAAsQwACAABY\\\n",
       "hgAEAACwDAEIAABgGQIQAADAMgQgAACAZQhAAAAAyxCAAAAAliEAAQAALEMAAoht9fXhHQ8AUYgA\\\n",
       "BBC7Nm2SJk+Wqqq6N76qKjB+06bwzgsAIowABBCb6uultWuligpp+vSuI7CqKjCuoiLwOLYEAohh\\\n",
       "BCCA2JSYKJWUSJmZUmVl5xHYFn+VlYHxJSWBxwNAjCIAAcQur1fat6/zCLw8/vbtCzwOAGIYAQgg\\\n",
       "tnUWgcQfAEsRgABiX3sRWFpK/AGw1oBITwAA+kRbBLZF39SpgeXEHwALsQUQQN/oD9fj83qlbdtC\\\n",
       "l23bRvwBsA4BCCD8+sv1+KqqpIKC0GUFBd2fFwDECAIQQHhF+Hp8GxaUaMOCEm393y+o9obsz4/5\\\n",
       "e+ut7l0iBgBiEAEIILwieD2+DQtKZGQ0+LPTmrVjoTz+U6p1j9DWnCel227r+hIxABCjCEAA4ReB\\\n",
       "6/F1FH8v3/N/VDc4VRsWlHRvXgAQgwhAAH2jD6/H98X4++aORcH4e+We9bo4OF2SZGSIQADWIgAB\\\n",
       "9J0+vB7fgOZGzdqxOCT+PhucJkly/PWfDueVm8t3AQOIaQQggL51eWxNnRqWizG3DHDp/Rtn64L7\\\n",
       "qpD463Je48dLS5bwXcAAYhoXggbQ99qux9d2MWYpLNfj+/C6mTp6TZ5aBri6P68DB4g/ADGPLYAA\\\n",
       "+l4fXI/P/PWf9uKvbV27iD8AFiAAAfSty0/4CMP1+Ao35gaP8bs89NruO+RQ4cbcHv9ZABCNCEAA\\\n",
       "febSo0NkpoyRKitlUhy69A+nw3Y9vi9G4OWIPwC2IwAB9ImWR4fItfWiHOeNlOKQY+4gudxOtazy\\\n",
       "hO1SLO1FIPEHAJLDGNPBgTDoit/vl8fjUW1trdxud6SnA/RbLY8OkfML8ae5gySPU21/+7Q6pLhV\\\n",
       "tb1+PUAAaA+f3zG6BfD48eOaN2+exo0bp8TERF199dVauXKlGhsbQ8YdOHBA06ZN08CBA+X1erV2\\\n",
       "7doIzRiIXfXL3XL+4i9XxJ8kOf66cc5ppPr2tgRyPT4ACIuYvAzMkSNH1Nraqueee07jx4/XwYMH\\\n",
       "NX/+fF28eFE//vGPJQXqf8aMGcrLy9PGjRv1pz/9Sf/0T/+k5ORkPfTQQxF+BUDsSIh3yHFbglTa\\\n",
       "KM1JCsZfm7YITGhb0BaBublcjw8AwsSaXcDr1q3Ts88+q8rKSknSs88+q+XLl8vn8ykhIfDRs3Tp\\\n",
       "Ur3yyis6cuRIt56TTchA11pXeQK7GpqMFN/+SRmS1CrJuar28wX19cQfgLDg8ztGdwG3p7a2VkOH\\\n",
       "Dg3eLysr0x133BGMP0nKz8/X0aNHdf78+UhMEYhJwf/D7CT+JAVO1fjwt58vIP4AIGysCMCKigo9\\\n",
       "88wz+v73vx9c5vP5lJ6eHjKu7b7P52v3eRoaGuT3+0NuADrXKMkYqVv7Gn4zJzQCAQBhEVUBuHTp\\\n",
       "Ujkcjk5vl+++PXnypL7+9a/rvvvu0/z583v05xcVFcnj8QRvXs5OBLqUuKpWrX/d+NdZBAa3D+5e\\\n",
       "KrW2hHtaAGC1qDoG8MyZMzp79mynYzIzM4O7daurqzV9+nTdeuut2rJli5zOz3t3zpw58vv9euWV\\\n",
       "V4LL9u7dq9zcXJ07d04pKSlXPHdDQ4MaGhqC9/1+v7xer9XHEADd1bLKI6f5/KSPTs3dKY2bFvY5\\\n",
       "AbATxwBG2VnAqampSk1N7dbYkydP6s4771RWVpY2b94cEn+SlJOTo+XLl6upqUnx8fGSpOLiYk2Y\\\n",
       "MKHd+JMkl8sll6ubXyoPIETcqlo1rvJ8frZvZz6rCfd0AMBqUbULuLtOnjyp6dOna/To0frxj3+s\\\n",
       "M2fOyOfzhRzb993vflcJCQmaN2+eDh06pBdffFE/+clPtHDhwgjOHIhtCXN3dm/g4PSuxwAAvrKo\\\n",
       "2gLYXcXFxaqoqFBFRYVGjRoVsq5tj7fH49Frr72mwsJCZWVlafjw4VqxYgXXAATCacxtknuk5D+l\\\n",
       "L5wf/AWOwPoxt/X1zADAKlF1DGB/wzEEwFfw4W8DZ/tKCo3Avx4c+O1fSBP/IfDfX/ZagFw7EEA3\\\n",
       "8Pkdo7uAAfRjE/8hEHnuEaHL3SND42/TJmny5MD3A3dHVVVg/KZNvTtfAIhBbAHsAf4PAuiB1hbp\\\n",
       "k9LACR+D0wO7fZ1xgXX19YGYq6gIfC/wvn2Br4jrSFWVNH164PuDx4+XDhxgSyCADvH5HaPHAAKI\\\n",
       "As64ji/1kpgolZR8HnXTp3ccgV+Mv8zMwOOIPwDoFLuAAfRPXm8g+jIzP4/Ay3cHXx5/XW0pBABI\\\n",
       "IgAB9GedRSDxBwBfGQEIoF9qaTUq+/isXj3rVPmWl2W+GIGlpcQfAPQAxwAC6Hd2Hzyl1Ts+VF3t\\\n",
       "p9oev1ppjgv6+H8NVvz/HaoxlZXS1KmBgcQfAHwlBCCAfmX3wVN6+JfvqSz+YaW7aoPfHTzMeVFm\\\n",
       "gaS6QdLTFwMLt20j/gDgK2AXMIB+o6XVaPWODwPx56xtf9AQp/TooMB/FxR0/zqBAIAgAhBAv/Hu\\\n",
       "sXOqq/00GH9tW//aOBySkUNmSJw+SRva8dnBAIBOEYAA+o3TdZe0PX61HI4r469N27qm7w3r/BIx\\\n",
       "AIAOEYAA+o20IQOV5rjQrbEpcZ91fZ1AAEC7CEAA/cYt44bqtEnu1tjTJrl7F4sGAFyBAATQb8Q5\\\n",
       "HbqvaaWMkTr6lvK2dfc1rQwsuDwCc3MD3yUMAOgQAQigXzm4ZrZqWj2SrozAtvs1rR4dXDP78xVt\\\n",
       "ETh+vLRkCd8FDABd4DqAAPqdjH89Id+PRrd7KZiaVo8y/vXElQ/yeqUDB4g/AOgGtgAC6Jcy/vWE\\\n",
       "JjU8r8MtV+ls6yAdbrlKkxqebz/+2hB/ANAtDmM6OtIGXfH7/fJ4PKqtrZXb7Y70dAAAQDfw+c0W\\\n",
       "QAAAAOsQgAAAAJYhAAEAACxDAAIAAFiGAAQAALAMAQgAAGAZAhAAAMAyBCAAAIBlCEAAAADLEIAA\\\n",
       "AACWIQABAAAsQwACAABYhgAEAACwDAEIAABgGQIQAADAMgQgAACAZQhAAAAAyxCAAAAAliEAAQAA\\\n",
       "LEMAAgAAWIYABAAAsAwBCAAAYBkCEAAAwDIEIAAAgGUIQAAAAMsQgAAAAJYhAAEAACxDAAIAAFiG\\\n",
       "AAQAALAMAQgAAGAZAhAAAMAyBCAAAIBlCEAAAADLEIAAAACWIQABAAAsQwACAABYJuYDsKGhQTfe\\\n",
       "eKMcDof2798fsu7AgQOaNm2aBg4cKK/Xq7Vr10ZmkgAAAH0o5gNwyZIlGjly5BXL/X6/ZsyYoTFj\\\n",
       "xqi8vFzr1q3TqlWr9Pzzz0dglgAAAH1nQKQnEE67du3Sa6+9ppdeekm7du0KWfef//mfamxs1M9/\\\n",
       "/nMlJCTo+uuv1/79+7V+/Xo99NBDEZoxAABA+MXsFsCamhrNnz9f27ZtU1JS0hXry8rKdMcddygh\\\n",
       "ISG4LD8/X0ePHtX58+f7cqoAAAB9KiYD0BijBx54QAsWLNDNN9/c7hifz6f09PSQZW33fT5fu49p\\\n",
       "aGiQ3+8PuQEAAESbqArApUuXyuFwdHo7cuSInnnmGdXV1WnZsmW9+ucXFRXJ4/EEb16vt1efHwAA\\\n",
       "oC84jDEm0pPorjNnzujs2bOdjsnMzNS3v/1t7dixQw6HI7i8paVFcXFxuv/++7V161bNmTNHfr9f\\\n",
       "r7zySnDM3r17lZubq3PnziklJeWK525oaFBDQ0Pwvt/vl9frVW1trdxud89fIAAACDu/3y+Px2P1\\\n",
       "53dUnQSSmpqq1NTULsf99Kc/1b/9278F71dXVys/P18vvviisrOzJUk5OTlavny5mpqaFB8fL0kq\\\n",
       "Li7WhAkT2o0/SXK5XHK5XL3wSgAAACInqgKwu0aPHh1yf/DgwZKkq6++WqNGjZIkffe739Xq1as1\\\n",
       "b948PfbYYzp48KB+8pOf6Omnn+7z+QIAAPSlmAzA7vB4PHrttddUWFiorKwsDR8+XCtWrOASMAAA\\\n",
       "IOZF1TGA/Q3HEAAAEH34/I6ys4ABAADQcwQgAACAZQhAAAAAyxCAAAAAliEAAQAALEMA9kf19eEd\\\n",
       "DwAArEYA9jebNkmTJ0tVVd0bX1UVGL9pU3jnBQAAYgYB2J/U10tr10oVFdL06V1HYFVVYFxFReBx\\\n",
       "bAkEAADdQAD2J4mJUkmJlJkpVVZ2HoFt8VdZGRhfUhJ4PAAAQBcIwP7G65X27es8Ai+Pv337Ao8D\\\n",
       "AADoBgKwP+osAok/AADQQwRgf9VeBJaWEn8AAKDHBkR6AuhEWwS2Rd/UqYHlxB8AAOgBtgD2d16v\\\n",
       "tG1b6LJt24g/AADwlRGA/V1VlVRQELqsoKD71wkEAAC4DAHYD03aOkmTtk5S3voJqsq6+vNj/t56\\\n",
       "q3uXiAEAAOgEAdjPTNo6SZKUfrZRm9cck/dMk6pS45VXOEC67bauLxEDAADQBQKwH+ko/h5cOk41\\\n",
       "wxIC67tznUAAAIBOEID9RFfxFzKOCAQAAD1AAPYjrsZW/b+1xzuMvxCXR2BuLt8FDAAAuoUA7Eca\\\n",
       "EpzafNdwfZKe0Hn8tWmLwPHjpSVL+C5gAADQLVwIup95afpQ7bwtWQ0J3Wxzr1c6cID4AwAA3cYW\\\n",
       "wH6o2/HXhvgDAABfAgHYT/xp7p96dRwAAEBHCMB+pKu4I/4AAEBvIAD7mY4ij/gDAAC9hZNA+iFi\\\n",
       "DwAAhBNbAAEAACxDAAIAAFiGAAQAALAMAQgAAGAZAhAAAMAyBCAAAIBlCEAAAADLEIAAAACWIQAB\\\n",
       "AAAsQwACAABYhgAEAACwDAEIAABgGQIQAADAMgQgAACAZQhAAAAAyxCAAAAAliEAAQAALEMAAgAA\\\n",
       "WIYABAAAsAwBCAAAYBkCEAAAwDIEIAAAgGUIQAAAAMsQgAAAAJYhAAEAACxDAAIAAFiGAAQAALBM\\\n",
       "zAbgf/3Xfyk7O1uJiYlKSUnRrFmzQtafOHFCM2fOVFJSktLS0rR48WI1NzdHZrIAAAB9aECkJxAO\\\n",
       "L730kubPn6+nnnpKubm5am5u1sGDB4PrW1paNHPmTGVkZKi0tFSnTp3SnDlzFB8fr6eeeiqCMwcA\\\n",
       "AAg/hzHGRHoSvam5uVljx47V6tWrNW/evHbH7Nq1S3fffbeqq6uVnp4uSdq4caMee+wxnTlzRgkJ\\\n",
       "Cd36s/x+vzwej2pra+V2u3vtNQAAgPDh8zsGdwG/9957OnnypJxOp2666SaNGDFCd911V8gWwLKy\\\n",
       "Mk2aNCkYf5KUn58vv9+vQ4cORWLaAAAAfSbmArCyslKStGrVKj3++OPauXOnUlJSNH36dJ07d06S\\\n",
       "5PP5QuJPUvC+z+fr8LkbGhrk9/tDbgAAANEmagJw6dKlcjgcnd6OHDmi1tZWSdLy5ct17733Kisr\\\n",
       "S5s3b5bD4dD27dt7NIeioiJ5PJ7gzev19sZLAwAA6FNRcxLIokWL9MADD3Q6JjMzU6dOnZIkTZw4\\\n",
       "Mbjc5XIpMzNTJ06ckCRlZGTo3XffDXlsTU1NcF1Hli1bpoULFwbv+/1+IhAAAESdqAnA1NRUpaam\\\n",
       "djkuKytLLpdLR48e1e233y5Jampq0vHjxzVmzBhJUk5Ojp588kmdPn1aaWlpkqTi4mK53e6QcLyc\\\n",
       "y+WSy+XqhVcDAAAQOVETgN3ldru1YMECrVy5Ul6vV2PGjNG6deskSffdd58kacaMGZo4caIKCgq0\\\n",
       "du1a+Xw+Pf744yosLCTwAABAzIu5AJSkdevWacCAASooKFB9fb2ys7NVUlKilJQUSVJcXJx27typ\\\n",
       "hx9+WDk5ORo0aJDmzp2rJ554IsIzBwAACL+Yuw5gX+I6QgAARB8+v6PoLGAAAAD0DgIQAADAMgQg\\\n",
       "AACAZQhAAAAAyxCAAAAAliEAAQAALEMAAgAAWIYABAAAsAwBCAAAYBkCEAAAwDIEIAAAgGUIQAAA\\\n",
       "AMsQgAAAAJYhAAEAACxDAAIAAFiGAAQAALAMAQgAAGAZAhAAAMAyBCAAAIBlCEAAAADLEIAAAACW\\\n",
       "IQABAAAsQwACAABYhgAEAACwDAEIAABgGQIQAADAMgQgAACAZQhAAAAAyxCAAAAAliEAAQAALEMA\\\n",
       "AgAAWIYABAAAsAwBCAAAYBkCEAAAwDIEIAAAgGUIQAAAAMsQgAAAAJYhAAEAACxDAAIAAFiGAAQA\\\n",
       "ALAMAQgAAGAZAhAAAMAyBCAAAIBlCEAAABBZ9fXhHY8rEIAAACByNm2SJk+Wqqq6N76qKjB+06bw\\\n",
       "zivGEYAAACAy6uultWuligpp+vSuI7CqKjCuoiLwOLYEfmUEIAAAiIzERKmkRMrMlCorO4/Atvir\\\n",
       "rAyMLykJPB5fCQEIAAAix+uV9u3rPAIvj799+wKPw1dGAAIAgMjqLAKJv7AgAAEAQOS1F4GlpcRf\\\n",
       "mAyI9AQAAAAkfR6BbdE3dWpgOfHX69gCCAAA+g+vV9q2LXTZtm3EXy9jCyAAAIi4w9deJ0ka0NSk\\\n",
       "MVUnlPDFlQUFbAHsZWwBBAAAEXVF/DU1qTE+XsdHj+7eJWLwpcVkAP75z3/WN77xDQ0fPlxut1u3\\\n",
       "33679u7dGzLmxIkTmjlzppKSkpSWlqbFixerubk5QjMGAMBOHcXfJ97Rqk9M0kdyEIFhEJMBePfd\\\n",
       "d6u5uVklJSUqLy/XlClTdPfdd8vn80mSWlpaNHPmTDU2Nqq0tFRbt27Vli1btGLFigjPHAAAe3QW\\\n",
       "f83x8ZKk5vh4IjAMHMYYE+lJ9KZPP/1UqampeuONNzRt2jRJUl1dndxut4qLi5WXl6ddu3bp7rvv\\\n",
       "VnV1tdLT0yVJGzdu1GOPPaYzZ84oISGhsz8iyO/3y+PxqLa2Vm63O2yvCQCAWHT42us6jb8vuq74\\\n",
       "tV67JAyf3zG4BXDYsGGaMGGCfvGLX+jixYtqbm7Wc889p7S0NGVlZUmSysrKNGnSpGD8SVJ+fr78\\\n",
       "fr8OHToUqakDAGAVR2trt+JP0pXXCczN5buAeyDmzgJ2OBz67//+b82aNUtDhgyR0+lUWlqadu/e\\\n",
       "rZSUFEmSz+cLiT9Jwfttu4nb09DQoIaGhuB9v98fhlcAAIAdjNOps0OHadi5s53HX5u2CMzNlZYs\\\n",
       "4buAeyBqtgAuXbpUDoej09uRI0dkjFFhYaHS0tL0hz/8Qe+++65mzZqle+65R6dOnerRHIqKiuTx\\\n",
       "eII3L6ejAwDQIxeSk1U5dlzX8dfG65UOHJDmzw/vxGJc1BwDeObMGZ09e7bTMZmZmfrDH/6gGTNm\\\n",
       "6Pz58yH79a+55hrNmzdPS5cu1YoVK/Tb3/5W+/fvD64/duyYMjMz9d577+mmm25q9/nb2wLo9Xqt\\\n",
       "PoYAAICeaDsRpDPXHTncq38mxwBG0S7g1NRUpaamdjnuL3/5iyTJ6QzduOl0OtXa2ipJysnJ0ZNP\\\n",
       "PqnTp08rLS1NklRcXCy3262JEyd2+Nwul0sul+urvgQAAHCZ644c7jQCezv+EBA1u4C7KycnRykp\\\n",
       "KZo7d64++OAD/fnPf9bixYt17NgxzZw5U5I0Y8YMTZw4UQUFBfrggw/0+9//Xo8//rgKCwsJPAAA\\\n",
       "+lhHkUf8hU/UbAHsruHDh2v37t1avny5cnNz1dTUpOuvv16vvvqqpkyZIkmKi4vTzp079fDDDysn\\\n",
       "J0eDBg3S3Llz9cQTT0R49gAA2InY61tRcwxgf8QxBAAARB8+v2NwFzAAAAA6RwACAABYhgAEAACw\\\n",
       "DAEIAABgGQIQAADAMgQgAACAZQhAAAAAyxCAAAAAlom5bwLpS23X0Pb7/RGeCQAA6K62z22bvwuD\\\n",
       "AOyBuro6SZLX643wTAAAwJdVV1cnj8cT6WlEBF8F1wOtra2qrq7WkCFD5HA4Ij2dr8Tv98vr9aqq\\\n",
       "qsrar8OJJN7/yOG9jyze/8iy/f03xqiurk4jR46U02nn0XBsAewBp9OpUaNGRXoavcLtdlv5l0B/\\\n",
       "wfsfObz3kcX7H1k2v/+2bvlrY2f2AgAAWIwABAAAsAwBaDmXy6WVK1fK5XJFeipW4v2PHN77yOL9\\\n",
       "jyzef3ASCAAAgGXYAggAAGAZAhAAAMAyBCAAAIBlCEAAAADLEICWePLJJ3XbbbcpKSlJycnJ7Y45\\\n",
       "ceKEZs6cqaSkJKWlpWnx4sVqbm4OGbNv3z597Wtfk8vl0vjx47Vly5bwTz5GjR07Vg6HI+S2Zs2a\\\n",
       "kDEHDhzQtGnTNHDgQHm9Xq1duzZCs409GzZs0NixYzVw4EBlZ2fr3XffjfSUYtKqVauu+D2/9tpr\\\n",
       "g+svXbqkwsJCDRs2TIMHD9a9996rmpqaCM44er3xxhu65557NHLkSDkcDr3yyish640xWrFihUaM\\\n",
       "GKHExETl5eXpo48+Chlz7tw53X///XK73UpOTta8efP02Wef9eGrQF8hAC3R2Nio++67Tw8//HC7\\\n",
       "61taWjRz5kw1NjaqtLRUW7du1ZYtW7RixYrgmGPHjmnmzJm68847tX//fv3whz/U9773Pf3+97/v\\\n",
       "q5cRc5544gmdOnUqePvBD34QXOf3+zVjxgyNGTNG5eXlWrdunVatWqXnn38+gjOODS+++KIWLlyo\\\n",
       "lStX6r333tOUKVOUn5+v06dPR3pqMen6668P+T1/8803g+seffRR7dixQ9u3b9frr7+u6upqfetb\\\n",
       "34rgbKPXxYsXNWXKFG3YsKHd9WvXrtVPf/pTbdy4Ue+8844GDRqk/Px8Xbp0KTjm/vvv16FDh1Rc\\\n",
       "XKydO3fqjTfe0EMPPdRXLwF9ycAqmzdvNh6P54rlv/vd74zT6TQ+ny+47NlnnzVut9s0NDQYY4xZ\\\n",
       "smSJuf7660MeN3v2bJOfnx/WOceqMWPGmKeffrrD9T/72c9MSkpK8P03xpjHHnvMTJgwoQ9mF9tu\\\n",
       "ueUWU1hYGLzf0tJiRo4caYqKiiI4q9i0cuVKM2XKlHbXXbhwwcTHx5vt27cHlx0+fNhIMmVlZX00\\\n",
       "w9gkybz88svB+62trSYjI8OsW7cuuOzChQvG5XKZX//618YYYz788EMjyfzxj38Mjtm1a5dxOBzm\\\n",
       "5MmTfTZ39A22AEKSVFZWpkmTJik9PT24LD8/X36/X4cOHQqOycvLC3lcfn6+ysrK+nSusWTNmjUa\\\n",
       "NmyYbrrpJq1bty5kl3tZWZnuuOMOJSQkBJfl5+fr6NGjOn/+fCSmGxMaGxtVXl4e8rvsdDqVl5fH\\\n",
       "73KYfPTRRxo5cqQyMzN1//3368SJE5Kk8vJyNTU1hfwsrr32Wo0ePZqfRS87duyYfD5fyHvt8XiU\\\n",
       "nZ0dfK/LysqUnJysm2++OTgmLy9PTqdT77zzTp/PGeE1INITQP/g8/lC4k9S8L7P5+t0jN/vV319\\\n",
       "vRITE/tmsjHiX/7lX/S1r31NQ4cOVWlpqZYtW6ZTp05p/fr1kgLv97hx40Ie88WfSUpKSp/PORZ8\\\n",
       "+umnamlpafd3+ciRIxGaVezKzs7Wli1bNGHCBJ06dUqrV6/WtGnTdPDgQfl8PiUkJFxxXHJ6enrw\\\n",
       "7x30jrb3s73f+y/+HZ+WlhayfsCAARo6dCg/jxhEAEaxpUuX6t///d87HXP48OGQA64RXl/mZ7Jw\\\n",
       "4cLgssmTJyshIUHf//73VVRUxNczIWbcddddwf+ePHmysrOzNWbMGP3mN7/hfxqBCCIAo9iiRYv0\\\n",
       "wAMPdDomMzOzW8+VkZFxxVmQbWfiZWRkBP99+dl5NTU1crvd/EX+Vz35mWRnZ6u5uVnHjx/XhAkT\\\n",
       "Ony/pc9/Jvjyhg8frri4uHbfW97X8EtOTtbf/M3fqKKiQn//93+vxsZGXbhwIWQrID+L3tf2ftbU\\\n",
       "1GjEiBHB5TU1NbrxxhuDYy4/Eaq5uVnnzp3j5xGDCMAolpqaqtTU1F55rpycHD355JM6ffp0cBdA\\\n",
       "cXGx3G63Jk6cGBzzu9/9LuRxxcXFysnJ6ZU5xIKe/Ez2798vp9MZfP9zcnK0fPlyNTU1KT4+XlLg\\\n",
       "/Z4wYQK7f3sgISFBWVlZ2rNnj2bNmiVJam1t1Z49e/TII49EdnIW+Oyzz/Txxx+roKBAWVlZio+P\\\n",
       "1549e3TvvfdKko4ePaoTJ07w90ovGzdunDIyMrRnz55g8Pn9fr3zzjvBq0Pk5OTowoULKi8vV1ZW\\\n",
       "liSppKREra2tys7OjtTUES6RPgsFfeOTTz4x77//vlm9erUZPHiwef/99837779v6urqjDHGNDc3\\\n",
       "mxtuuMHMmDHD7N+/3+zevdukpqaaZcuWBZ+jsrLSJCUlmcWLF5vDhw+bDRs2mLi4OLN79+5Ivayo\\\n",
       "VVpaap5++mmzf/9+8/HHH5tf/vKXJjU11cyZMyc45sKFCyY9Pd0UFBSYgwcPmhdeeMEkJSWZ5557\\\n",
       "LoIzjw0vvPCCcblcZsuWLebDDz80Dz30kElOTg45Cx69Y9GiRWbfvn3m2LFj5q233jJ5eXlm+PDh\\\n",
       "5vTp08YYYxYsWGBGjx5tSkpKzP/8z/+YnJwck5OTE+FZR6e6urrg3+2SzPr16837779vPvnkE2OM\\\n",
       "MWvWrDHJycnm1VdfNQcOHDDf+MY3zLhx40x9fX3wOb7+9a+bm266ybzzzjvmzTffNNdcc435zne+\\\n",
       "E6mXhDAiAC0xd+5cI+mK2969e4Njjh8/bu666y6TmJhohg8fbhYtWmSamppCnmfv3r3mxhtvNAkJ\\\n",
       "CSYzM9Ns3ry5b19IjCgvLzfZ2dnG4/GYgQMHmuuuu8489dRT5tKlSyHjPvjgA3P77bcbl8tlrrrq\\\n",
       "KrNmzZoIzTj2PPPMM2b06NEmISHB3HLLLebtt9+O9JRi0uzZs82IESNMQkKCueqqq8zs2bNNRUVF\\\n",
       "cH19fb3553/+Z5OSkmKSkpLMN7/5TXPq1KkIzjh67d27t92/5+fOnWuMCVwK5kc/+pFJT083LpfL\\\n",
       "/N3f/Z05evRoyHOcPXvWfOc73zGDBw82brfbPPjgg8ENBYgtDmOMidDGRwAAAEQA1wEEAACwDAEI\\\n",
       "AABgGQIQAADAMgQgAACAZQhAAAAAyxCAAAAAliEAAQAALEMAAgAAWIYABAAAsAwBCAAAYBkCEAAA\\\n",
       "wDIEIAAAgGUIQAAAAMsQgAAAAJYhAAEAACxDAAIAAFiGAAQAALAMAQgAAGAZAhAAAMAyBCAAAIBl\\\n",
       "CEAAAADLEIAAAACWIQABAAAsQwACAABYhgAEAACwDAEIAABgGQIQAADAMgQgAACAZQhAAAAAyxCA\\\n",
       "AAAAliEAAQAALPP/AUV944KJ4O43AAAAAElFTkSuQmCC\\\n",
       "\"\n",
       "  frames[3] = \"data:image/png;base64,iVBORw0KGgoAAAANSUhEUgAAAoAAAAHgCAYAAAA10dzkAAAAOXRFWHRTb2Z0d2FyZQBNYXRwbG90\\\n",
       "bGliIHZlcnNpb24zLjYuMCwgaHR0cHM6Ly9tYXRwbG90bGliLm9yZy89olMNAAAACXBIWXMAAA9h\\\n",
       "AAAPYQGoP6dpAAApe0lEQVR4nO3de3TU5YH/8c8kJEMCzCRALiLDJeKiKBcb1xgRD2azST1oS+ta\\\n",
       "fl1/ES3F4sbuqXC4HSwXdzEs7OK2HirK/gqU3VbL8aiVLdQsIVpN1G4EEQVqGpAcwgTkkok05Pr8\\\n",
       "/khndCAkUTIzmXneL88cne/3meGZSQ7z9jvzfcZhjDECAACANeIiPQEAAACEFwEIAABgGQIQAADA\\\n",
       "MgQgAACAZQhAAAAAyxCAAAAAliEAAQAALEMAAgAAWIYABAAAsAwBCAAAYBkCEAAAwDIEIAAAgGUI\\\n",
       "QAAAAMsQgAAAAJYhAAEAACxDAAIAAFiGAAQAALAMAQgAAGAZAhAAAMAyBCAAAIBlCEAAAADLEIAA\\\n",
       "AACWIQABAAAsQwACAABYhgAEAACwDAEIAABgGQIQAADAMgQgAACAZQhAAAAAyxCAAAAAliEAAQAA\\\n",
       "LEMAAgAAWIYABAAAsAwBCAAAYBkCEAAAwDIEIAAAgGUIQAAAAMsQgAAAAJYhAAEAACxDAAIAAFiG\\\n",
       "AAQAALAMAQgAAGAZAhAAAMAyBCAAAIBlCEAAAADLEIAAAACWIQABAAAsQwACAABYhgAEAACwDAEI\\\n",
       "AABgGQIQAADAMgQgAACAZQhAAAAAyxCAAAAAliEAAQAALEMAAgAAWGZApCcQzTo6OlRXV6chQ4bI\\\n",
       "4XBEejoAAKAXjDFqbGzUiBEjFBdn57EwAvAK1NXVyePxRHoaAADgK6itrdXIkSMjPY2IIACvwJAh\\\n",
       "QyR1/gK5XK4IzwYAAPSGz+eTx+MJvI7biAC8Av63fV0uFwEIAECUsfnjW3a+8Q0AAGAxAhAAAMAy\\\n",
       "BCAAAIBlCEAAAADLEIAAAACWIQABQJKamkI7HgD6EQIQADZtkiZNkmpreze+trZz/KZNoZ0XAIQI\\\n",
       "AQjAbk1N0tq1UnW1NH16zxFYW9s5rrq683YcCQQQhQhAAHZLSpLKyqSsLKmmpvsI9MdfTU3n+LKy\\\n",
       "ztsDQJQhAAHA45HKy7uPwIvjr7y883YAEIUIQACQuo9A4g9AjCEAAcCvqwisqCD+AMScAZGeAAD0\\\n",
       "K/4I9Eff1Kmd24k/ADGEI4AAcDGPR9q2LXjbtm3EH4CYQQACwMVqa6WiouBtRUW9XycQAPo53gIG\\\n",
       "AEn/NutuSdKQPzfpO3veVsr5P3e+7bttW2f8+T8TyNvAAGIARwABWK+r+Ds3KFnPTRgj3XZbz0vE\\\n",
       "AECUIQABWO1y8ffrO29VY3JS5/7erBMIAFGEAARgrZ7iL2gcEQgghhCAAKw2oK1d95VfPv6CXByB\\\n",
       "eXl8FzCAqEQAArBa24B4/WH8NTo7uIf48/NH4Lhx0qJFfBcwgKgUswFYUlKiv/7rv9aQIUOUnp6u\\\n",
       "mTNn6vDhw0FjLly4oOLiYg0bNkyDBw/Wvffeq/r6+gjNGECkfHDNKP2i4I6e48/P45H275fmzg3t\\\n",
       "xAAgRGI2AF9//XUVFxfr7bffVmlpqVpbW1VQUKDz588Hxjz22GN69dVXtX37dr3++uuqq6vTt7/9\\\n",
       "7QjOGkCktA2I/3I34MgfgCjmMMaYSE8iHE6dOqX09HS9/vrruuOOO9TQ0KC0tDT98pe/1N/93d9J\\\n",
       "kg4dOqTrr79elZWVuvXWW3u8T5/PJ7fbrYaGBrlcrlA/BAAh4D8RpDsLXtgRhpkACBdev2P4CODF\\\n",
       "GhoaJElDhw6VJFVVVam1tVX5+fmBMdddd51GjRqlysrKLu+jublZPp8v6AIguvUUd8QfgFhkRQB2\\\n",
       "dHToRz/6kaZOnaobb7xRkuT1epWYmKiUlJSgsRkZGfJ6vV3eT0lJidxud+Di4dsAgJhwucgj/gDE\\\n",
       "Kiu+Cq64uFgHDhzQm2++eUX3s3TpUs2fPz9w3efzEYFAjCD2ANgk5gPw0Ucf1Y4dO/TGG29o5MiR\\\n",
       "ge2ZmZlqaWnRuXPngo4C1tfXKzMzs8v7cjqdcjqdoZ4yAABASMXsW8DGGD366KN66aWXVFZWprFj\\\n",
       "xwbtz87OVkJCgnbv3h3YdvjwYR07dky5ubnhni4AAEDYxOwRwOLiYv3yl7/UK6+8oiFDhgQ+1+d2\\\n",
       "u5WUlCS32605c+Zo/vz5Gjp0qFwul374wx8qNze3V2cAAwAARKuYXQbG4XB0uX3z5s168MEHJXUu\\\n",
       "BL1gwQL96le/UnNzswoLC/Wzn/3ssm8BX4zTyAEAiD68fsdwAIYDv0AAAEQfXr9j+DOAAAAA6BoB\\\n",
       "CAAAYBkCEAAAwDIEIAAAgGUIQAAAAMsQgAAAAJYhAAEAACxDAAIAAFiGAAQAALAMAQgAAGAZAhAA\\\n",
       "AMAyBCAAAIBlCEAAAADLEIAAAACWIQABAAAsQwACAABYhgAEAACwDAEIAABgGQIQAADAMgQgAACA\\\n",
       "ZQhAAAAAyxCAAAAAliEAAQAALEMAAgAAWIYABAAAsAwBCAAAYBkCEAAAwDIEIAAAgGUIQAAAAMsQ\\\n",
       "gAAAAJYhAAEAACxDAAIAAFiGAAQAALAMAQgAAGAZAhAAAMAyBCAAAIBlCEAAAADLEIAAAACWIQAB\\\n",
       "AAAsQwACAABYhgAEAACwDAEIAABgGQIQAADAMgQgAACAZQhAAAAAyxCAAAAAliEAAQAALEMAAgAA\\\n",
       "WIYABAAAsAwBCAAAYBkCEAAAwDIEIAAAgGUIQAAAAMsQgAAAAJaxPgA3bNigMWPGaODAgcrJydG7\\\n",
       "774b6SkBAACElNUB+MILL2j+/PlasWKF3nvvPU2ePFmFhYU6efJkpKcGAAAQMlYH4Pr16zV37lw9\\\n",
       "9NBDmjBhgjZu3Kjk5GT9/Oc/j/TUAAAAQsbaAGxpaVFVVZXy8/MD2+Li4pSfn6/Kysoub9Pc3Cyf\\\n",
       "zxd0AQAAiDbWBuCnn36q9vZ2ZWRkBG3PyMiQ1+vt8jYlJSVyu92Bi8fjCcdUAQAA+pS1AfhVLF26\\\n",
       "VA0NDYFLbW1tpKcEAADwpQ2I9AQiZfjw4YqPj1d9fX3Q9vr6emVmZnZ5G6fTKafTGY7pAQAAhIy1\\\n",
       "RwATExOVnZ2t3bt3B7Z1dHRo9+7dys3NjeDMAAAAQsvaI4CSNH/+fM2ePVs333yzbrnlFv37v/+7\\\n",
       "zp8/r4ceeijSUwMAAAgZqwNw1qxZOnXqlJYvXy6v16spU6Zo165dl5wYAgAAEEscxhgT6UlEK5/P\\\n",
       "J7fbrYaGBrlcrkhPBwAA9AKv3xZ/BhAAAMBWBCAAAIBlCEAAAADLEIAAAACWIQABAAAsQwACAABY\\\n",
       "hgAEAACwDAEIAABgGQIQAADAMgQgAACAZQhAAAAAyxCAAAAAliEAAQAALEMAAgAAWIYABAAAsAwB\\\n",
       "CAAAYBkCEAAAwDIEIAAAgGUIQAAAAMsQgAAAAJYhAAEAACxDAAIAAFiGAAQAALAMAQgAAGAZAhAA\\\n",
       "AMAyBCAAAIBlCEAAAADLEIAAAACWIQABAAAsQwACAABYhgAEAACwDAEIAABgGQIQQGxragrteACI\\\n",
       "QgQggNi1aZM0aZJUW9u78bW1neM3bQrtvAAgwghAALGpqUlau1aqrpamT+85AmtrO8dVV3fejiOB\\\n",
       "AGIYAQggNiUlSWVlUlaWVFPTfQT646+mpnN8WVnn7QEgRhGAAGKXxyOVl3cfgRfHX3l55+0AIIYR\\\n",
       "gABiW3cRSPwBsBQBCCD2dRWBFRXEHwBrDYj0BAAgLPwR6I++qVM7txN/ACzEEUAA4dEf1uPzeKRt\\\n",
       "24K3bdtG/AGwDgEIIPT6y3p8tbVSUVHwtqKi3s8LAGIEAQggtCK8Ht+GeWXaMK9MW//v82q4Mefz\\\n",
       "z/y99VbvlogBgBhEAAIIrQiux7dhXpmMjAZ/dlIzX50vt++EGlxXaWvuaum223peIgYAYhQBCCD0\\\n",
       "IrAe3+Xi76V7/k2Ng9O0YV5Z7+YFADGIAAQQHmFcj++L8fetVxcE4u/le9br/OAMSZKRIQIBWIsA\\\n",
       "BBA+YVyPb0Bbi2a+ujAo/j4bnC5Jcvzln8vOKy+P7wIGENMIQADhdXFsTZ0aksWY2wc4tXfKLJ1z\\\n",
       "XR0Ufz3Oa9w4adEivgsYQExjIWgA4edfj8+/GLMUkvX4Prp+hg5fm6/2Ac7ez2v/fuIPQMzjCCCA\\\n",
       "8AvDenzmL/90FX/+fV0i/gBYgAAEEF4Xn/ARgvX4ijfmBT7jd3Ho+a875FDxxrwr/rMAIBoRgADC\\\n",
       "5sJjQ2Qmj5ZqamRSHbrwjZMhW4/vixF4MeIPgO0IQABh0f7YEDm3npfjrJFSHXLMHiSnK07tK90h\\\n",
       "W4qlqwgk/gBAchhjLvNBGPTE5/PJ7XaroaFBLpcr0tMB+q32x4Yo7gvxp9mDJHec/H/7dDik+JUN\\\n",
       "fb4eIAB0hdfvGD0CePToUc2ZM0djx45VUlKSrrnmGq1YsUItLS1B4/bv369p06Zp4MCB8ng8Wrt2\\\n",
       "bYRmDMSupmUuxf3iz5fEnyQ5/nJwLs5ITV0dCWQ9PgAIiZhcBubQoUPq6OjQs88+q3HjxunAgQOa\\\n",
       "O3euzp8/r3/913+V1Fn/BQUFys/P18aNG/XBBx/oe9/7nlJSUvTwww9H+BEAsSMxwSHHbYlSRYv0\\\n",
       "QHIg/vz8EZjo3+CPwLw81uMDgBCx5i3gdevW6ZlnnlFNTY0k6ZlnntGyZcvk9XqVmNj50rNkyRK9\\\n",
       "/PLLOnToUK/uk0PIQM86Vro732poNVJC1ydlSFKHpLiVDZ9vaGoi/gCEBK/fMfoWcFcaGho0dOjQ\\\n",
       "wPXKykrdcccdgfiTpMLCQh0+fFhnz56NxBSB2NZN/HWJ+AOAkLEiAKurq/X000/rBz/4QWCb1+tV\\\n",
       "RkZG0Dj/da/X2+X9NDc3y+fzBV0AdK+1j8cBAK5cVAXgkiVL5HA4ur1c/Pbt8ePH9fWvf1333Xef\\\n",
       "5s6de0V/fklJidxud+Di4exEoEfO5WdkJF3uwybGSOYv4wAA4RFVnwE8deqUTp8+3e2YrKyswNu6\\\n",
       "dXV1mj59um699VZt2bJFcXGf9+4DDzwgn8+nl19+ObBtz549ysvL05kzZ5SamnrJfTc3N6u5uTlw\\\n",
       "3efzyePxWP0ZAqBXPvqNzK+LJPP5SR/SX6LQITm+s02a8I2ITQ+AXfgMYJSdBZyWlqa0tLRejT1+\\\n",
       "/LjuvPNOZWdna/PmzUHxJ0m5ublatmyZWltblZCQIEkqLS3V+PHju4w/SXI6nXI6e/ml8gA+N+Eb\\\n",
       "cnxnmzp+XRS0LLNxSHHEHwCEXVQdAeyt48ePa/r06Ro9erS2bt2q+Pj4wL7MzExJnSeFjB8/XgUF\\\n",
       "BVq8eLEOHDig733ve3rqqad6vQwM/wcBfEkd7dInFdJn9dLgDGn0bVJcfM+3A4A+xOt3lB0B7K3S\\\n",
       "0lJVV1erurpaI0eODNrn7123263XXntNxcXFys7O1vDhw7V8+XLWAARCKS5eGjst0rMAAOvF5BHA\\\n",
       "cOH/IIAQ+7JrAbJ2IIBe4PU7ys4CBmCRTZukSZM6vx+4N2prO8dv2hTaeQFADCAAAfQ/TU3S2rVS\\\n",
       "dbU0fXrPEVhb2zmuurrzdnx/MAB0iwAE0P8kJUllZVJWllRT030E+uOvpqZzfFkZbwMDQA8IQAD9\\\n",
       "k8cjlZd3H4EXx195eeftAADdIgAB9F/dRSDxBwBfGQEIoH/rKgIrKog/ALgCMbkOIIDYcOOSF7Q9\\\n",
       "YZXSHed09v8MVsJ/DNXomhpp6tTOAcQfAHwlBCCAfsn741H6wNkQ+O7gYXHnZeZJahwkPXW+c+O2\\\n",
       "bcQfAHwFvAUMoN/x/niUMuIaut45JE56bFDnfxcV9X6dQABAAAEIoF+5cckLgfjzH/3zczgkI4fM\\\n",
       "kHh9kj605yViAABdIgAB9CvbE1bJ4bg0/vz8+1q/P6x36wQCAC5BAALoV9Id53o1LjX+s57XCQQA\\\n",
       "dIkABNCvnDQpvR/Xm8WiAQCXIAAB9Cv3ta6QMZIxXe/377uvdUXnhosjMC+P7wIGgB4QgAD6lQNr\\\n",
       "Zqm+wy3p0gj0X6/vcOvAmlmf7/BH4Lhx0qJFfBcwAPSAdQAB9DuZ/3TsskvB1He4lflPxy69kccj\\\n",
       "7d9P/AFAL3AEEEC/lPlPxzSx+TkdbL9apzsG6WD71ZrY/FzX8edH/AFArziMudwnbdATn88nt9ut\\\n",
       "hoYGuVyuSE8HAAD0Aq/fHAEEAACwDgEIAABgGQIQAADAMgQgAACAZQhAAAAAyxCAAAAAliEAAQAA\\\n",
       "LEMAAgAAWIYABAAAsAwBCAAAYBkCEAAAwDIEIAAAgGUIQAAAAMsQgAAAAJYhAAEAACxDAAIAAFiG\\\n",
       "AAQAALAMAQgAAGAZAhAAAMAyBCAAAIBlCEAAAADLEIAAAACWIQABAAAsQwACAABYhgAEAACwDAEI\\\n",
       "AABgGQIQAADAMgQgAACAZQhAAAAAyxCAAAAAliEAAQAALEMAAgAAWIYABAAAsAwBCAAAYBkCEAAA\\\n",
       "wDIEIAAAgGViPgCbm5s1ZcoUORwO7du3L2jf/v37NW3aNA0cOFAej0dr166NzCQBAADCKOYDcNGi\\\n",
       "RRoxYsQl230+nwoKCjR69GhVVVVp3bp1WrlypZ577rkIzBIAACB8BkR6AqG0c+dOvfbaa3rxxRe1\\\n",
       "c+fOoH3/9V//pZaWFv385z9XYmKibrjhBu3bt0/r16/Xww8/HKEZAwAAhF7MHgGsr6/X3LlztW3b\\\n",
       "NiUnJ1+yv7KyUnfccYcSExMD2woLC3X48GGdPXs2nFMFAAAIq5gMQGOMHnzwQc2bN08333xzl2O8\\\n",
       "Xq8yMjKCtvmve73eLm/T3Nwsn88XdAEAAIg2URWAS5YskcPh6PZy6NAhPf3002psbNTSpUv79M8v\\\n",
       "KSmR2+0OXDweT5/ePwAAQDg4jDEm0pPorVOnTun06dPdjsnKytJ3vvMdvfrqq3I4HIHt7e3tio+P\\\n",
       "1/3336+tW7fqgQcekM/n08svvxwYs2fPHuXl5enMmTNKTU295L6bm5vV3NwcuO7z+eTxeNTQ0CCX\\\n",
       "y3XlDxAAAIScz+eT2+22+vU7qk4CSUtLU1paWo/jfvrTn+qf//mfA9fr6upUWFioF154QTk5OZKk\\\n",
       "3NxcLVu2TK2trUpISJAklZaWavz48V3GnyQ5nU45nc4+eCQAAACRE1UB2FujRo0Kuj548GBJ0jXX\\\n",
       "XKORI0dKkv7+7/9eq1at0pw5c7R48WIdOHBAP/nJT/TUU0+Ffb4AAADhFJMB2Btut1uvvfaaiouL\\\n",
       "lZ2dreHDh2v58uUsAQMAAGJeVH0GsL/hMwQAAEQfXr+j7CxgAAAAXDkCEAAAwDIEIAAAgGUIQAAA\\\n",
       "AMsQgAAAAJYhAPujpqbQjgcAAFYjAPubTZukSZOk2treja+t7Ry/aVNo5wUAAGIGAdifNDVJa9dK\\\n",
       "1dXS9Ok9R2Btbee46urO23EkEAAA9AIB2J8kJUllZVJWllRT030E+uOvpqZzfFlZ5+0BAAB6QAD2\\\n",
       "Nx6PVF7efQReHH/l5Z23AwAA6AUCsD/qLgKJPwAAcIUIwP6qqwisqCD+AADAFRsQ6QmgG/4I9Eff\\\n",
       "1Kmd24k/AABwBTgC2N95PNK2bcHbtm0j/gAAwFdGAPZ3tbVSUVHwtqKi3q8TCAAAcBECsB+auHWi\\\n",
       "Jm6dqPz141Wbfc3nn/l7663eLREDAADQDQKwn5m4daIkKeN0izavOSLPqVbVpiUov3iAdNttPS8R\\\n",
       "AwAA0AMCsB+5XPw9tGSs6ocldu7vzTqBAAAA3SAA+4me4i9oHBEIAACuAAHYjzhbOvT/1h69bPwF\\\n",
       "uTgC8/L4LmAAANArBGA/0pwYp813DdcnGYndx5+fPwLHjZMWLeK7gAEAQK+wEHQ/8+L0odpxW4qa\\\n",
       "E3vZ5h6PtH8/8QcAAHqNI4D9UK/jz4/4AwAAXwIB2E98MPuDPh0HAABwOQRgP9JT3BF/AACgLxCA\\\n",
       "/czlIo/4AwAAfYWTQPohYg8AAIQSRwABAAAsQwACAABYhgAEAACwDAEIAABgGQIQAADAMgQgAACA\\\n",
       "ZQhAAAAAyxCAAAAAliEAAQAALEMAAgAAWIYABAAAsAwBCAAAYBkCEAAAwDIEIAAAgGUIQAAAAMsQ\\\n",
       "gAAAAJYhAAEAACxDAAIAAFiGAAQAALAMAQgAAGAZAhAAAMAyBCAAAIBlCEAAAADLEIAAAACWIQAB\\\n",
       "AAAsQwACAABYhgAEAACwTMwG4H//938rJydHSUlJSk1N1cyZM4P2Hzt2TDNmzFBycrLS09O1cOFC\\\n",
       "tbW1RWayAAAAYTQg0hMIhRdffFFz587Vk08+qby8PLW1tenAgQOB/e3t7ZoxY4YyMzNVUVGhEydO\\\n",
       "6IEHHlBCQoKefPLJCM4cAAAg9BzGGBPpSfSltrY2jRkzRqtWrdKcOXO6HLNz507dfffdqqurU0ZG\\\n",
       "hiRp48aNWrx4sU6dOqXExMRe/Vk+n09ut1sNDQ1yuVx99hgAAEDo8Podg28Bv/feezp+/Lji4uJ0\\\n",
       "00036aqrrtJdd90VdASwsrJSEydODMSfJBUWFsrn8+nDDz+MxLQBAADCJuYCsKamRpK0cuVKPf74\\\n",
       "49qxY4dSU1M1ffp0nTlzRpLk9XqD4k9S4LrX673sfTc3N8vn8wVdAAAAok3UBOCSJUvkcDi6vRw6\\\n",
       "dEgdHR2SpGXLlunee+9Vdna2Nm/eLIfDoe3bt1/RHEpKSuR2uwMXj8fTFw8NAAAgrKLmJJAFCxbo\\\n",
       "wQcf7HZMVlaWTpw4IUmaMGFCYLvT6VRWVpaOHTsmScrMzNS7774bdNv6+vrAvstZunSp5s+fH7ju\\\n",
       "8/mIQAAAEHWiJgDT0tKUlpbW47js7Gw5nU4dPnxYt99+uySptbVVR48e1ejRoyVJubm5Wr16tU6e\\\n",
       "PKn09HRJUmlpqVwuV1A4XszpdMrpdPbBowEAAIicqAnA3nK5XJo3b55WrFghj8ej0aNHa926dZKk\\\n",
       "++67T5JUUFCgCRMmqKioSGvXrpXX69Xjjz+u4uJiAg8AAMS8mAtASVq3bp0GDBigoqIiNTU1KScn\\\n",
       "R2VlZUpNTZUkxcfHa8eOHXrkkUeUm5urQYMGafbs2XriiSciPHMAAIDQi7l1AMOJdYQAAIg+vH5H\\\n",
       "0VnAAAAA6BsEIAAAgGUIQAAAAMsQgAAAAJYhAAEAACxDAAIAAFiGAAQAALAMAQgAAGAZAhAAAMAy\\\n",
       "BCAAAIBlCEAAAADLEIAAAACWIQABAAAsQwACAABYhgAEAACwDAEIAABgGQIQAADAMgQgAACAZQhA\\\n",
       "AAAAyxCAAAAAliEAAQAALEMAAgAAWIYABAAAsAwBCAAAYBkCEAAAwDIEIAAAgGUIQAAAAMsQgAAA\\\n",
       "AJYhAAEAACxDAAIAAFiGAAQAALAMAQgAAGAZAhAAAMAyBCAAAIBlCEAAAADLEIAAAACWIQABAAAs\\\n",
       "QwACAABYhgAEAACwDAEIAABgGQIQAADAMgQgAACAZQhAAAAAyxCAAAAgspqaQjselyAAAQBA5Gza\\\n",
       "JE2aJNXW9m58bW3n+E2bQjuvGEcAAgCAyGhqktaulaqrpenTe47A2trOcdXVnbfjSOBXRgACAIDI\\\n",
       "SEqSysqkrCyppqb7CPTHX01N5/iyss7b4yshAAEAQOR4PFJ5efcReHH8lZd33g5fGQEIAAAiq7sI\\\n",
       "JP5CggAEAACR11UEVlQQfyEyINITAAAAkPR5BPqjb+rUzu3EX5/jCCAAAOg/PB5p27bgbdu2EX99\\\n",
       "jCOAAAAg4g5ed70kaUBrq0bXHlPiF3cWFXEEsI9xBBAAAETUJfHX2qqWhAQdHTWqd0vE4EuLyQD8\\\n",
       "4x//qG9+85saPny4XC6Xbr/9du3ZsydozLFjxzRjxgwlJycrPT1dCxcuVFtbW4RmDACAnS4Xf594\\\n",
       "RqkpKVkfy0EEhkBMBuDdd9+ttrY2lZWVqaqqSpMnT9bdd98tr9crSWpvb9eMGTPU0tKiiooKbd26\\\n",
       "VVu2bNHy5csjPHMAAOzRXfy1JSRIktoSEojAEHAYY0ykJ9GXPv30U6WlpemNN97QtGnTJEmNjY1y\\\n",
       "uVwqLS1Vfn6+du7cqbvvvlt1dXXKyMiQJG3cuFGLFy/WqVOnlJiY2N0fEeDz+eR2u9XQ0CCXyxWy\\\n",
       "xwQAQCw6eN313cbfF11f+lqfLQnD63cMHgEcNmyYxo8fr1/84hc6f/682tra9Oyzzyo9PV3Z2dmS\\\n",
       "pMrKSk2cODEQf5JUWFgon8+nDz/8MFJTBwDAKo6Ojl7Fn6RL1wnMy+O7gK9AzJ0F7HA49D//8z+a\\\n",
       "OXOmhgwZori4OKWnp2vXrl1KTU2VJHm93qD4kxS47n+buCvNzc1qbm4OXPf5fCF4BAAA2MHExen0\\\n",
       "0GEaduZ09/Hn54/AvDxp0SK+C/gKRM0RwCVLlsjhcHR7OXTokIwxKi4uVnp6un7/+9/r3Xff1cyZ\\\n",
       "M3XPPffoxIkTVzSHkpISud3uwMXD6egAAFyRcykpqhkztuf48/N4pP37pblzQzuxGBc1nwE8deqU\\\n",
       "Tp8+3e2YrKws/f73v1dBQYHOnj0b9L7+tddeqzlz5mjJkiVavny5fvOb32jfvn2B/UeOHFFWVpbe\\\n",
       "e+893XTTTV3ef1dHAD0ej9WfIQAA4Er4TwTpzvWHDvbpn8lnAKPoLeC0tDSlpaX1OO7Pf/6zJCku\\\n",
       "LvjgZlxcnDo6OiRJubm5Wr16tU6ePKn09HRJUmlpqVwulyZMmHDZ+3Y6nXI6nV/1IQAAgItcf+hg\\\n",
       "txHY1/GHTlHzFnBv5ebmKjU1VbNnz9b777+vP/7xj1q4cKGOHDmiGTNmSJIKCgo0YcIEFRUV6f33\\\n",
       "39fvfvc7Pf744youLibwAAAIs8tFHvEXOlFzBLC3hg8frl27dmnZsmXKy8tTa2urbrjhBr3yyiua\\\n",
       "PHmyJCk+Pl47duzQI488otzcXA0aNEizZ8/WE088EeHZAwBgJ2IvvKLmM4D9EZ8hAAAg+vD6HYNv\\\n",
       "AQMAAKB7BCAAAIBlCEAAAADLEIAAAACWIQABAAAsQwACAABYhgAEAACwDAEIAABgmZj7JpBw8q+h\\\n",
       "7fP5IjwTAADQW/7XbZu/C4MAvAKNjY2SJI/HE+GZAACAL6uxsVFutzvS04gIvgruCnR0dKiurk5D\\\n",
       "hgyRw+GI9HS+Ep/PJ4/Ho9raWmu/DieSeP4jh+c+snj+I8v2598Yo8bGRo0YMUJxcXZ+Go4jgFcg\\\n",
       "Li5OI0eOjPQ0+oTL5bLyL4H+guc/cnjuI4vnP7Jsfv5tPfLnZ2f2AgAAWIwABAAAsAwBaDmn06kV\\\n",
       "K1bI6XRGeipW4vmPHJ77yOL5jyyef3ASCAAAgGU4AggAAGAZAhAAAMAyBCAAAIBlCEAAAADLEICW\\\n",
       "WL16tW677TYlJycrJSWlyzHHjh3TjBkzlJycrPT0dC1cuFBtbW1BY8rLy/W1r31NTqdT48aN05Yt\\\n",
       "W0I/+Rg1ZswYORyOoMuaNWuCxuzfv1/Tpk3TwIED5fF4tHbt2gjNNvZs2LBBY8aM0cCBA5WTk6N3\\\n",
       "33030lOKSStXrrzk9/y6664L7L9w4YKKi4s1bNgwDR48WPfee6/q6+sjOOPo9cYbb+iee+7RiBEj\\\n",
       "5HA49PLLLwftN8Zo+fLluuqqq5SUlKT8/Hx9/PHHQWPOnDmj+++/Xy6XSykpKZozZ44+++yzMD4K\\\n",
       "hAsBaImWlhbdd999euSRR7rc397erhkzZqilpUUVFRXaunWrtmzZouXLlwfGHDlyRDNmzNCdd96p\\\n",
       "ffv26Uc/+pG+//3v63e/+124HkbMeeKJJ3TixInA5Yc//GFgn8/nU0FBgUaPHq2qqiqtW7dOK1eu\\\n",
       "1HPPPRfBGceGF154QfPnz9eKFSv03nvvafLkySosLNTJkycjPbWYdMMNNwT9nr/55puBfY899phe\\\n",
       "ffVVbd++Xa+//rrq6ur07W9/O4KzjV7nz5/X5MmTtWHDhi73r127Vj/96U+1ceNGvfPOOxo0aJAK\\\n",
       "Cwt14cKFwJj7779fH374oUpLS7Vjxw698cYbevjhh8P1EBBOBlbZvHmzcbvdl2z/7W9/a+Li4ozX\\\n",
       "6w1se+aZZ4zL5TLNzc3GGGMWLVpkbrjhhqDbzZo1yxQWFoZ0zrFq9OjR5qmnnrrs/p/97GcmNTU1\\\n",
       "8PwbY8zixYvN+PHjwzC72HbLLbeY4uLiwPX29nYzYsQIU1JSEsFZxaYVK1aYyZMnd7nv3LlzJiEh\\\n",
       "wWzfvj2w7eDBg0aSqaysDNMMY5Mk89JLLwWud3R0mMzMTLNu3brAtnPnzhmn02l+9atfGWOM+eij\\\n",
       "j4wk84c//CEwZufOncbhcJjjx4+Hbe4ID44AQpJUWVmpiRMnKiMjI7CtsLBQPp9PH374YWBMfn5+\\\n",
       "0O0KCwtVWVkZ1rnGkjVr1mjYsGG66aabtG7duqC33CsrK3XHHXcoMTExsK2wsFCHDx/W2bNnIzHd\\\n",
       "mNDS0qKqqqqg3+W4uDjl5+fzuxwiH3/8sUaMGKGsrCzdf//9OnbsmCSpqqpKra2tQT+L6667TqNG\\\n",
       "jeJn0ceOHDkir9cb9Fy73W7l5OQEnuvKykqlpKTo5ptvDozJz89XXFyc3nnnnbDPGaE1INITQP/g\\\n",
       "9XqD4k9S4LrX6+12jM/nU1NTk5KSksIz2Rjxj//4j/ra176moUOHqqKiQkuXLtWJEye0fv16SZ3P\\\n",
       "99ixY4Nu88WfSWpqatjnHAs+/fRTtbe3d/m7fOjQoQjNKnbl5ORoy5YtGj9+vE6cOKFVq1Zp2rRp\\\n",
       "OnDggLxerxITEy/5XHJGRkbg7x30Df/z2dXv/Rf/jk9PTw/aP2DAAA0dOpSfRwwiAKPYkiVL9C//\\\n",
       "8i/djjl48GDQB64RWl/mZzJ//vzAtkmTJikxMVE/+MEPVFJSwtczIWbcddddgf+eNGmScnJyNHr0\\\n",
       "aP3617/mfxqBCCIAo9iCBQv04IMPdjsmKyurV/eVmZl5yVmQ/jPxMjMzA/+++Oy8+vp6uVwu/iL/\\\n",
       "iyv5meTk5KitrU1Hjx7V+PHjL/t8S5//TPDlDR8+XPHx8V0+tzyvoZeSkqK/+qu/UnV1tf72b/9W\\\n",
       "LS0tOnfuXNBRQH4Wfc//fNbX1+uqq64KbK+vr9eUKVMCYy4+EaqtrU1nzpzh5xGDCMAolpaWprS0\\\n",
       "tD65r9zcXK1evVonT54MvAVQWloql8ulCRMmBMb89re/DbpdaWmpcnNz+2QOseBKfib79u1TXFxc\\\n",
       "4PnPzc3VsmXL1NraqoSEBEmdz/f48eN5+/cKJCYmKjs7W7t379bMmTMlSR0dHdq9e7ceffTRyE7O\\\n",
       "Ap999pn+9Kc/qaioSNnZ2UpISNDu3bt17733SpIOHz6sY8eO8fdKHxs7dqwyMzO1e/fuQPD5fD69\\\n",
       "8847gdUhcnNzde7cOVVVVSk7O1uSVFZWpo6ODuXk5ERq6giVSJ+FgvD45JNPzN69e82qVavM4MGD\\\n",
       "zd69e83evXtNY2OjMcaYtrY2c+ONN5qCggKzb98+s2vXLpOWlmaWLl0auI+amhqTnJxsFi5caA4e\\\n",
       "PGg2bNhg4uPjza5duyL1sKJWRUWFeeqpp8y+ffvMn/70J/Of//mfJi0tzTzwwAOBMefOnTMZGRmm\\\n",
       "qKjIHDhwwDz//PMmOTnZPPvssxGceWx4/vnnjdPpNFu2bDEfffSRefjhh01KSkrQWfDoGwsWLDDl\\\n",
       "5eXmyJEj5q233jL5+flm+PDh5uTJk8YYY+bNm2dGjRplysrKzP/+7/+a3Nxck5ubG+FZR6fGxsbA\\\n",
       "3+2SzPr1683evXvNJ598YowxZs2aNSYlJcW88sorZv/+/eab3/ymGTt2rGlqagrcx9e//nVz0003\\\n",
       "mXfeece8+eab5tprrzXf/e53I/WQEEIEoCVmz55tJF1y2bNnT2DM0aNHzV133WWSkpLM8OHDzYIF\\\n",
       "C0xra2vQ/ezZs8dMmTLFJCYmmqysLLN58+bwPpAYUVVVZXJycozb7TYDBw40119/vXnyySfNhQsX\\\n",
       "gsa9//775vbbbzdOp9NcffXVZs2aNRGacex5+umnzahRo0xiYqK55ZZbzNtvvx3pKcWkWbNmmauu\\\n",
       "usokJiaaq6++2syaNctUV1cH9jc1NZl/+Id/MKmpqSY5Odl861vfMidOnIjgjKPXnj17uvx7fvbs\\\n",
       "2caYzqVgfvzjH5uMjAzjdDrN3/zN35jDhw8H3cfp06fNd7/7XTN48GDjcrnMQw89FDhQgNjiMMaY\\\n",
       "CB18BAAAQASwDiAAAIBlCEAAAADLEIAAAACWIQABAAAsQwACAABYhgAEAACwDAEIAABgGQIQAADA\\\n",
       "MgQgAACAZQhAAAAAyxCAAAAAliEAAQAALEMAAgAAWIYABAAAsAwBCAAAYBkCEAAAwDIEIAAAgGUI\\\n",
       "QAAAAMsQgAAAAJYhAAEAACxDAAIAAFiGAAQAALAMAQgAAGAZAhAAAMAyBCAAAIBlCEAAAADLEIAA\\\n",
       "AACWIQABAAAsQwACAABYhgAEAACwDAEIAABgmf8PFdmy06yQ4bkAAAAASUVORK5CYII=\\\n",
       "\"\n",
       "  frames[4] = \"data:image/png;base64,iVBORw0KGgoAAAANSUhEUgAAAoAAAAHgCAYAAAA10dzkAAAAOXRFWHRTb2Z0d2FyZQBNYXRwbG90\\\n",
       "bGliIHZlcnNpb24zLjYuMCwgaHR0cHM6Ly9tYXRwbG90bGliLm9yZy89olMNAAAACXBIWXMAAA9h\\\n",
       "AAAPYQGoP6dpAAApZklEQVR4nO3de3TU9YH38c8kJEMCzCRALiLDJeKiKBcb1xgRD2azST3oU1rX\\\n",
       "8nR9AlqKxY3dU+FwO1gu7mpY2MXdeqgoz1Og7LZajkdd2ULNEqJVonajiChQ04DkECYgl0ykIdfv\\\n",
       "88d0RgdCEiUzk5nv++WZ087v953hO5Mc5s1v5vcdhzHGCAAAANZIiPYEAAAAEFkEIAAAgGUIQAAA\\\n",
       "AMsQgAAAAJYhAAEAACxDAAIAAFiGAAQAALAMAQgAAGAZAhAAAMAyBCAAAIBlCEAAAADLEIAAAACW\\\n",
       "IQABAAAsQwACAABYhgAEAACwDAEIAABgGQIQAADAMgQgAACAZQhAAAAAyxCAAAAAliEAAQAALEMA\\\n",
       "AgAAWIYABAAAsAwBCAAAYBkCEAAAwDIEIAAAgGUIQAAAAMsQgAAAAJYhAAEAACxDAAIAAFiGAAQA\\\n",
       "ALAMAQgAAGAZAhAAAMAyBCAAAIBlCEAAAADLEIAAAACWIQABAAAsQwACAABYhgAEAACwDAEIAABg\\\n",
       "GQIQAADAMgQgAACAZQhAAAAAyxCAAAAAliEAAQAALEMAAgAAWIYABAAAsAwBCAAAYBkCEAAAwDIE\\\n",
       "IAAAgGUIQAAAAMsQgAAAAJYhAAEAACxDAAIAAFiGAAQAALAMAQgAAGCZAdGeQCzr7OxUfX29hgwZ\\\n",
       "IofDEe3pAACAXjDGqKmpSSNGjFBCgp3HwgjAK1BfXy+PxxPtaQAAgK+hrq5OI0eOjPY0ooIAvAJD\\\n",
       "hgyR5P8FcrlcUZ4NAADoDZ/PJ4/HE3wdtxEBeAUCb/u6XC4CEACAGGPzx7fsfOMbAADAYgQgAACA\\\n",
       "ZQhAAAAAyxCAAAAAliEAAQAALEMAAoAkNTeHdzwA9CMEIABs2iRNmiTV1fVufF2df/ymTeGdFwCE\\\n",
       "CQEIwG7NzdLatVJNjTR9es8RWFfnH1dT478dRwIBxCACEIDdUlKkigopJ0eqre0+AgPxV1vrH19R\\\n",
       "4b89AMQYAhAAPB6psrL7CLw4/ior/bcDgBhEAAKA1H0EEn8A4gwBCAABXUXg3r3EH4C4MyDaEwCA\\\n",
       "fiUQgYHomzrVv534AxBHOAIIABfzeKRt20K3bdtG/AGIGwQgAFysrk4qKQndVlLS+3UCAaCf4y1g\\\n",
       "AJD0L7PuliQN+VOzvrvnbaWd/5P/bd9t2/zxF/hMIG8DA4gDHAEEYL2u4u/coFQ9N2GMdNttPS8R\\\n",
       "AwAxhgAEYLXLxd+v77xVTakp/v29WScQAGIIAQjAWj3FX8g4IhBAHCEAAVhtQHuH7qu8fPyFuDgC\\\n",
       "Cwr4LmAAMYkABGC19gGJ+v34a3R2cA/xFxCIwHHjpMWL+S5gADEpbgOwrKxMf/mXf6khQ4YoMzNT\\\n",
       "M2fO1OHDh0PGXLhwQaWlpRo2bJgGDx6se++9Vw0NDVGaMYBo+fCaUfpF0R09x1+AxyPt3y/Nmxfe\\\n",
       "iQFAmMRtAL7++usqLS3V22+/rfLycrW1tamoqEjnz58Pjnn00Uf16quvavv27Xr99ddVX1+v73zn\\\n",
       "O1GcNYBoaR+Q+NVuwJE/ADHMYYwx0Z5EJJw6dUqZmZl6/fXXdccdd6ixsVEZGRn65S9/qb/5m7+R\\\n",
       "JB06dEjXX3+9qqqqdOutt/Z4nz6fT263W42NjXK5XOF+CADCIHAiSHcWvrAjAjMBECm8fsfxEcCL\\\n",
       "NTY2SpKGDh0qSaqurlZbW5sKCwuDY6677jqNGjVKVVVVXd5HS0uLfD5fyAVAbOsp7og/APHIigDs\\\n",
       "7OzUj3/8Y02dOlU33nijJMnr9So5OVlpaWkhY7OysuT1eru8n7KyMrnd7uDFw7cBAHHhcpFH/AGI\\\n",
       "V1Z8FVxpaakOHDigN99884ruZ9myZVqwYEHwus/nIwKBOEHsAbBJ3AfgI488oh07duiNN97QyJEj\\\n",
       "g9uzs7PV2tqqc+fOhRwFbGhoUHZ2dpf35XQ65XQ6wz1lAACAsIrbt4CNMXrkkUf00ksvqaKiQmPH\\\n",
       "jg3Zn5ubq6SkJO3evTu47fDhwzp27Jjy8/MjPV0AAICIidsjgKWlpfrlL3+pV155RUOGDAl+rs/t\\\n",
       "dislJUVut1tz587VggULNHToULlcLv3oRz9Sfn5+r84ABgAAiFVxuwyMw+HocvvmzZv1wAMPSPIv\\\n",
       "BL1w4UL96le/UktLi4qLi/Wzn/3ssm8BX4zTyAEAiD28fsdxAEYCv0AAAMQeXr/j+DOAAAAA6BoB\\\n",
       "CAAAYBkCEAAAwDIEIAAAgGUIQAAAAMsQgAAAAJYhAAEAACxDAAIAAFiGAAQAALAMAQgAAGAZAhAA\\\n",
       "AMAyBCAAAIBlCEAAAADLEIAAAACWIQABAAAsQwACAABYhgAEAACwDAEIAABgGQIQAADAMgQgAACA\\\n",
       "ZQhAAAAAyxCAAAAAliEAAQAALEMAAgAAWIYABAAAsAwBCAAAYBkCEAAAwDIEIAAAgGUIQAAAAMsQ\\\n",
       "gAAAAJYhAAEAACxDAAIAAFiGAAQAALAMAQgAAGAZAhAAAMAyBCAAAIBlCEAAAADLEIAAAACWIQAB\\\n",
       "AAAsQwACAABYhgAEAACwDAEIAABgGQIQAADAMgQgAACAZQhAAAAAyxCAAAAAliEAAQAALEMAAgAA\\\n",
       "WIYABAAAsAwBCAAAYBkCEAAAwDIEIAAAgGUIQAAAAMsQgAAAAJaxPgA3bNigMWPGaODAgcrLy9O7\\\n",
       "774b7SkBAACEldUB+MILL2jBggVauXKl3nvvPU2ePFnFxcU6efJktKcGAAAQNlYH4Pr16zVv3jw9\\\n",
       "+OCDmjBhgjZu3KjU1FT9/Oc/j/bUAAAAwsbaAGxtbVV1dbUKCwuD2xISElRYWKiqqqoub9PS0iKf\\\n",
       "zxdyAQAAiDXWBuBnn32mjo4OZWVlhWzPysqS1+vt8jZlZWVyu93Bi8fjicRUAQAA+pS1Afh1LFu2\\\n",
       "TI2NjcFLXV1dtKcEAADwlQ2I9gSiZfjw4UpMTFRDQ0PI9oaGBmVnZ3d5G6fTKafTGYnpAQAAhI21\\\n",
       "RwCTk5OVm5ur3bt3B7d1dnZq9+7dys/Pj+LMAAAAwsvaI4CStGDBAs2ZM0c333yzbrnlFv3rv/6r\\\n",
       "zp8/rwcffDDaUwMAAAgbqwNw1qxZOnXqlFasWCGv16spU6Zo165dl5wYAgAAEE8cxhgT7UnEKp/P\\\n",
       "J7fbrcbGRrlcrmhPBwAA9AKv3xZ/BhAAAMBWBCAAAIBlCEAAAADLEIAAAACWIQABAAAsQwACAABY\\\n",
       "hgAEAACwDAEIAABgGQIQAADAMgQgAACAZQhAAAAAyxCAAAAAliEAAQAALEMAAgAAWIYABAAAsAwB\\\n",
       "CAAAYBkCEAAAwDIEIAAAgGUIQAAAAMsQgAAAAJYhAAEAACxDAAIAAFiGAAQAALAMAQgAAGAZAhAA\\\n",
       "AMAyBCAAAIBlCEAAAADLEIAAAACWIQABAAAsQwACAABYhgAEAACwDAEIAABgGQIQQHxrbg7veACI\\\n",
       "QQQggPi1aZM0aZJUV9e78XV1/vGbNoV3XgAQZQQggPjU3CytXSvV1EjTp/ccgXV1/nE1Nf7bcSQQ\\\n",
       "QBwjAAHEp5QUqaJCysmRamu7j8BA/NXW+sdXVPhvDwBxigAEEL88HqmysvsIvDj+Kiv9twOAOEYA\\\n",
       "Aohv3UUg8QfAUgQggPjXVQTu3Uv8AbDWgGhPAAAiIhCBgeibOtW/nfgDYCGOAAKIjP6wHp/HI23b\\\n",
       "Frpt2zbiD4B1CEAA4ddf1uOrq5NKSkK3lZT0fl4AECcIQADhFeX1+DbMr9CG+RXa+n+eV+ONeV98\\\n",
       "5u+tt3q3RAwAxCECEEB4RXE9vg3zK2RkNPjzk5r56gK5fSfU6LpKW/OfkG67reclYgAgThGAAMIv\\\n",
       "CuvxXS7+XrrnX9Q0OEMb5lf0bl4AEIcIQACREcH1+L4cf99+dWEw/l6+Z73OD86SJBkZIhCAtQhA\\\n",
       "AJETwfX4BrS3auari0Li7/PBmZIkx5//u+y8Cgr4LmAAcY0ABBBZF8fW1KlhWYy5Y4BT70+ZpXOu\\\n",
       "q0Pir8d5jRsnLV7MdwEDiGssBA0g8gLr8QUWY5bCsh7fx9fP0OFrC9UxwNn7ee3fT/wBiHscAQQQ\\\n",
       "eRFYj8/8+b+u4i+wr0vEHwALEIAAIuviEz7CsB5f6caC4Gf8Lg69wHWHHCrdWHDFfxYAxCICEEDE\\\n",
       "XHh0iMzk0VJtrUy6Qxf+18mwrcf35Qi8GPEHwHYEIICI6Hh0iJxbz8tx1kjpDjnmDJLTlaCOVe6w\\\n",
       "LcXSVQQSfwAgOYwxl/kgDHri8/nkdrvV2Ngol8sV7ekA/VbHo0OU8KX405xBkjtBgb99Oh1S4qrG\\\n",
       "Pl8PEAC6wut3nB4BPHr0qObOnauxY8cqJSVF11xzjVauXKnW1taQcfv379e0adM0cOBAeTwerV27\\\n",
       "NkozBuJX83KXEn7xp0viT5Icfz44l2Ck5q6OBLIeHwCERVwuA3Po0CF1dnbq2Wef1bhx43TgwAHN\\\n",
       "mzdP58+f1z//8z9L8td/UVGRCgsLtXHjRn344Yf6/ve/r7S0ND300ENRfgRA/EhOcshxW7K0t1Wa\\\n",
       "nRqMv4BABCYHNgQisKCA9fgAIEyseQt43bp1euaZZ1RbWytJeuaZZ7R8+XJ5vV4lJ/tfepYuXaqX\\\n",
       "X35Zhw4d6tV9cggZ6FnnKrf/rYY2IyV1fVKGJHVKSljV+MWG5mbiD0BY8Podp28Bd6WxsVFDhw4N\\\n",
       "Xq+qqtIdd9wRjD9JKi4u1uHDh3X27NloTBGIS8F/YXYTfyHjAog/AAgbKwKwpqZGTz/9tH74wx8G\\\n",
       "t3m9XmVlZYWMC1z3er1d3k9LS4t8Pl/IBUD3WiUZI13uvYbAvtaudwMAwiCmAnDp0qVyOBzdXi5+\\\n",
       "+/b48eP65je/qfvuu0/z5s27oj+/rKxMbrc7ePFwdiLQo5RVjer888G/iyPwy2cBp3z57V8AQFjF\\\n",
       "1GcAT506pdOnT3c7JicnJ/i2bn19vaZPn65bb71VW7ZsUULCF707e/Zs+Xw+vfzyy8Fte/bsUUFB\\\n",
       "gc6cOaP09PRL7rulpUUtLS3B6z6fTx6Px+rPEAC91bHKrQTzxUkfkj8Ag0vAAECE8BnAGDsLOCMj\\\n",
       "QxkZGb0ae/z4cd15553Kzc3V5s2bQ+JPkvLz87V8+XK1tbUpKSlJklReXq7x48d3GX+S5HQ65XT2\\\n",
       "8kvlAYRIXNWo5lVuJUtyyP+Zv1aO/AFAVMTUEcDeOn78uKZPn67Ro0dr69atSkxMDO7Lzs6W5D8p\\\n",
       "ZPz48SoqKtKSJUt04MABff/739dTTz3V62Vg+BcEAACxh9fvGDsC2Fvl5eWqqalRTU2NRo4cGbIv\\\n",
       "0Ltut1uvvfaaSktLlZubq+HDh2vFihWsAQgAAOJeXB4BjBT+BQGE2VddC5C1AwH0Aq/fMXYWMACL\\\n",
       "bNokTZrk/37g3qir84/ftCm88wKAOEAAAuh/mpultWulmhpp+vSeI7Cuzj+upsZ/O74/GAC6RQAC\\\n",
       "6H9SUqSKCiknR6qt7T4CA/FXW+sfX1HB28AA0AMCEED/5PFIlZXdR+DF8VdZ6b8dAKBbBCCA/qu7\\\n",
       "CCT+AOBrIwAB9G9dReDevcQfAFyBuFwHEEB8uHHpC9qetFqZjnM6+78HK+n/DtXo2lpp6lT/AOIP\\\n",
       "AL4WAhBAv+T9ySh96GwMfnfwsITzMvMlNQ2Snjrv37htG/EHAF8DbwED6He8PxmlrITLfEfwkATp\\\n",
       "0UH+/19S0vt1AgEAQQQggH7lxqUvBOMvcPQvwOGQjBwyQxL1aebQnpeIAQB0iQAE0K9sT1oth+PS\\\n",
       "+AsI7Gv7wbDerRMIALgEAQigX8l0nOvVuPTEz3teJxAA0CUCEEC/ctKk9X5cbxaLBgBcggAE0K/c\\\n",
       "17ZSxkjGdL0/sO++tpX+DRdHYEEB3wUMAD0gAAH0KwfWzFJDp1vSpREYuN7Q6daBNbO+2BGIwHHj\\\n",
       "pMWL+S5gAOgB6wAC6Hey/+HYZZeCaeh0K/sfjl16I49H2r+f+AOAXuAIIIB+Kfsfjmliy3M62HG1\\\n",
       "TncO0sGOqzWx5bmu4y+A+AOAXnEYc7lP2qAnPp9PbrdbjY2Ncrlc0Z4OAADoBV6/OQIIAABgHQIQ\\\n",
       "AADAMgQgAACAZQhAAAAAyxCAAAAAliEAAQAALEMAAgAAWIYABAAAsAwBCAAAYBkCEAAAwDIEIAAA\\\n",
       "gGUIQAAAAMsQgAAAAJYhAAEAACxDAAIAAFiGAAQAALAMAQgAAGAZAhAAAMAyBCAAAIBlCEAAAADL\\\n",
       "EIAAAACWIQABAAAsQwACAABYhgAEAACwDAEIAABgGQIQAADAMgQgAACAZQhAAAAAyxCAAAAAliEA\\\n",
       "AQAALEMAAgAAWIYABAAAsAwBCAAAYBkCEAAAwDIEIAAAgGUIQAAAAMvEfQC2tLRoypQpcjgc2rdv\\\n",
       "X8i+/fv3a9q0aRo4cKA8Ho/Wrl0bnUkCAABEUNwH4OLFizVixIhLtvt8PhUVFWn06NGqrq7WunXr\\\n",
       "tGrVKj333HNRmCUAAEDkDIj2BMJp586deu211/Tiiy9q586dIfv+4z/+Q62trfr5z3+u5ORk3XDD\\\n",
       "Ddq3b5/Wr1+vhx56KEozBgAACL+4PQLY0NCgefPmadu2bUpNTb1kf1VVle644w4lJycHtxUXF+vw\\\n",
       "4cM6e/ZsJKcKAAAQUXEZgMYYPfDAA5o/f75uvvnmLsd4vV5lZWWFbAtc93q9Xd6mpaVFPp8v5AIA\\\n",
       "ABBrYioAly5dKofD0e3l0KFDevrpp9XU1KRly5b16Z9fVlYmt9sdvHg8nj69fwAAgEhwGGNMtCfR\\\n",
       "W6dOndLp06e7HZOTk6Pvfve7evXVV+VwOILbOzo6lJiYqPvvv19bt27V7Nmz5fP59PLLLwfH7Nmz\\\n",
       "RwUFBTpz5ozS09Mvue+Wlha1tLQEr/t8Pnk8HjU2Nsrlcl35AwQAAGHn8/nkdrutfv2OqZNAMjIy\\\n",
       "lJGR0eO4n/70p/rHf/zH4PX6+noVFxfrhRdeUF5eniQpPz9fy5cvV1tbm5KSkiRJ5eXlGj9+fJfx\\\n",
       "J0lOp1NOp7MPHgkAAED0xFQA9taoUaNCrg8ePFiSdM0112jkyJGSpL/927/V6tWrNXfuXC1ZskQH\\\n",
       "DhzQv/3bv+mpp56K+HwBAAAiKS4DsDfcbrdee+01lZaWKjc3V8OHD9eKFStYAgYAAMS9mPoMYH/D\\\n",
       "ZwgAAIg9vH7H2FnAAAAAuHIEIAAAgGUIQAAAAMsQgAAAAJYhAAEAACxDAPZHzc3hHQ8AAKxGAPY3\\\n",
       "mzZJkyZJdXW9G19X5x+/aVN45wUAAOIGAdifNDdLa9dKNTXS9Ok9R2BdnX9cTY3/dhwJBAAAvUAA\\\n",
       "9icpKVJFhZSTI9XWdh+BgfirrfWPr6jw3x4AAKAHBGB/4/FIlZXdR+DF8VdZ6b8dAABALxCA/VF3\\\n",
       "EUj8AQCAK0QA9lddReDevcQfAAC4YgOiPQF0IxCBgeibOtW/nfgDAABXgCOA/Z3HI23bFrpt2zbi\\\n",
       "DwAAfG0EYH9XVyeVlIRuKynp/TqBAAAAFyEA+6GJWydq4taJKlw/XnW513zxmb+33urdEjEAAADd\\\n",
       "IAD7mYlbJ0qSsk63avOaI/KcalNdRpIKSwdIt93W8xIxAAAAPSAA+5HLxd+DS8eqYViyf39v1gkE\\\n",
       "AADoBgHYT/QUfyHjiEAAAHAFCMB+xNnaqf+39uhl4y/ExRFYUMB3AQMAgF4hAPuRluQEbb5ruD7N\\\n",
       "Su4+/gICEThunLR4Md8FDAAAeoWFoPuZF6cP1Y7b0tSS3Ms293ik/fuJPwAA0GscAeyHeh1/AcQf\\\n",
       "AAD4CgjAfuLDOR/26TgAAIDLIQD7kZ7ijvgDAAB9gQDsZy4XecQfAADoK5wE0g8RewAAIJw4AggA\\\n",
       "AGAZAhAAAMAyBCAAAIBlCEAAAADLEIAAAACWIQABAAAsQwACAABYhgAEAACwDAEIAABgGQIQAADA\\\n",
       "MgQgAACAZQhAAAAAyxCAAAAAliEAAQAALEMAAgAAWIYABAAAsAwBCAAAYBkCEAAAwDIEIAAAgGUI\\\n",
       "QAAAAMsQgAAAAJYhAAEAACxDAAIAAFiGAAQAALAMAQgAAGAZAhAAAMAyBCAAAIBl4jYA/+u//kt5\\\n",
       "eXlKSUlRenq6Zs6cGbL/2LFjmjFjhlJTU5WZmalFixapvb09OpMFAACIoAHRnkA4vPjii5o3b56e\\\n",
       "fPJJFRQUqL29XQcOHAju7+jo0IwZM5Sdna29e/fqxIkTmj17tpKSkvTkk09GceYAAADh5zDGmGhP\\\n",
       "oi+1t7drzJgxWr16tebOndvlmJ07d+ruu+9WfX29srKyJEkbN27UkiVLdOrUKSUnJ/fqz/L5fHK7\\\n",
       "3WpsbJTL5eqzxwAAAMKH1+84fAv4vffe0/Hjx5WQkKCbbrpJV111le66666QI4BVVVWaOHFiMP4k\\\n",
       "qbi4WD6fTx999FE0pg0AABAxcReAtbW1kqRVq1bpscce044dO5Senq7p06frzJkzkiSv1xsSf5KC\\\n",
       "171e72Xvu6WlRT6fL+QCAAAQa2ImAJcuXSqHw9Ht5dChQ+rs7JQkLV++XPfee69yc3O1efNmORwO\\\n",
       "bd++/YrmUFZWJrfbHbx4PJ6+eGgAAAARFTMngSxcuFAPPPBAt2NycnJ04sQJSdKECROC251Op3Jy\\\n",
       "cnTs2DFJUnZ2tt59992Q2zY0NAT3Xc6yZcu0YMGC4HWfz0cEAgCAmBMzAZiRkaGMjIwex+Xm5srp\\\n",
       "dOrw4cO6/fbbJUltbW06evSoRo8eLUnKz8/XE088oZMnTyozM1OSVF5eLpfLFRKOF3M6nXI6nX3w\\\n",
       "aAAAAKInZgKwt1wul+bPn6+VK1fK4/Fo9OjRWrdunSTpvvvukyQVFRVpwoQJKikp0dq1a+X1evXY\\\n",
       "Y4+ptLSUwAMAAHEv7gJQktatW6cBAwaopKREzc3NysvLU0VFhdLT0yVJiYmJ2rFjhx5++GHl5+dr\\\n",
       "0KBBmjNnjh5//PEozxwAACD84m4dwEhiHSEAAGIPr98xdBYwAAAA+gYBCAAAYBkCEAAAwDIEIAAA\\\n",
       "gGUIQAAAAMsQgAAAAJYhAAEAACxDAAIAAFiGAAQAALAMAQgAAGAZAhAAAMAyBCAAAIBlCEAAAADL\\\n",
       "EIAAAACWIQABAAAsQwACAABYhgAEAACwDAEIAABgGQIQAADAMgQgAACAZQhAAAAAyxCAAAAAliEA\\\n",
       "AQAALEMAAgAAWIYABAAAsAwBCAAAYBkCEAAAwDIEIAAAgGUIQAAAAMsQgAAAAJYhAAEAACxDAAIA\\\n",
       "AFiGAAQAALAMAQgAAGAZAhAAAMAyBCAAAIBlCEAAAADLEIAAAACWIQABAAAsQwACAABYhgAEAACw\\\n",
       "DAEIAABgGQIQAADAMgQgAACIrubm8I7HJQhAAAAQPZs2SZMmSXV1vRtfV+cfv2lTeOcV5whAAAAQ\\\n",
       "Hc3N0tq1Uk2NNH16zxFYV+cfV1Pjvx1HAr82AhAAAERHSopUUSHl5Ei1td1HYCD+amv94ysq/LfH\\\n",
       "10IAAgCA6PF4pMrK7iPw4virrPTfDl8bAQgAAKKruwgk/sKCAAQAANHXVQTu3Uv8hcmAaE8AAABA\\\n",
       "0hcRGIi+qVP924m/PscRQAAA0H94PNK2baHbtm0j/voYRwABAEDUHbzueknSgLY2ja47puQv7ywp\\\n",
       "4QhgH+MIIAAAiKpL4q+tTa1JSTo6alTvlojBVxaXAfiHP/xB3/rWtzR8+HC5XC7dfvvt2rNnT8iY\\\n",
       "Y8eOacaMGUpNTVVmZqYWLVqk9vb2KM0YAAA7XS7+PvWMUnNKqj6RgwgMg7gMwLvvvlvt7e2qqKhQ\\\n",
       "dXW1Jk+erLvvvlter1eS1NHRoRkzZqi1tVV79+7V1q1btWXLFq1YsSLKMwcAwB7dxV97UpIkqT0p\\\n",
       "iQgMA4cxxkR7En3ps88+U0ZGht544w1NmzZNktTU1CSXy6Xy8nIVFhZq586duvvuu1VfX6+srCxJ\\\n",
       "0saNG7VkyRKdOnVKycnJ3f0RQT6fT263W42NjXK5XGF7TAAAxKOD113fbfx92fXlr/XZkjC8fsfh\\\n",
       "EcBhw4Zp/Pjx+sUvfqHz58+rvb1dzz77rDIzM5WbmytJqqqq0sSJE4PxJ0nFxcXy+Xz66KOPojV1\\\n",
       "AACs4ujs7FX8Sbp0ncCCAr4L+ArE3VnADodD//3f/62ZM2dqyJAhSkhIUGZmpnbt2qX09HRJktfr\\\n",
       "DYk/ScHrgbeJu9LS0qKWlpbgdZ/PF4ZHAACAHUxCgk4PHaZhZ053H38BgQgsKJAWL+a7gK9AzBwB\\\n",
       "XLp0qRwOR7eXQ4cOyRij0tJSZWZm6ne/+53effddzZw5U/fcc49OnDhxRXMoKyuT2+0OXjycjg4A\\\n",
       "wBU5l5am2jFje46/AI9H2r9fmjcvvBOLczHzGcBTp07p9OnT3Y7JycnR7373OxUVFens2bMh7+tf\\\n",
       "e+21mjt3rpYuXaoVK1boP//zP7Vv377g/iNHjignJ0fvvfeebrrppi7vv6sjgB6Px+rPEAAAcCUC\\\n",
       "J4J05/pDB/v0z+QzgDH0FnBGRoYyMjJ6HPenP/1JkpSQEHpwMyEhQZ2dnZKk/Px8PfHEEzp58qQy\\\n",
       "MzMlSeXl5XK5XJowYcJl79vpdMrpdH7dhwAAAC5y/aGD3UZgX8cf/GLmLeDeys/PV3p6uubMmaMP\\\n",
       "PvhAf/jDH7Ro0SIdOXJEM2bMkCQVFRVpwoQJKikp0QcffKDf/va3euyxx1RaWkrgAQAQYZeLPOIv\\\n",
       "fGLmCGBvDR8+XLt27dLy5ctVUFCgtrY23XDDDXrllVc0efJkSVJiYqJ27Nihhx9+WPn5+Ro0aJDm\\\n",
       "zJmjxx9/PMqzBwDATsReZMXMZwD7Iz5DAABA7OH1Ow7fAgYAAED3CEAAAADLEIAAAACWIQABAAAs\\\n",
       "QwACAABYhgAEAACwDAEIAABgGQIQAADAMnH3TSCRFFhD2+fzRXkmAACgtwKv2zZ/FwYBeAWampok\\\n",
       "SR6PJ8ozAQAAX1VTU5Pcbne0pxEVfBXcFejs7FR9fb2GDBkih8MR7el8LT6fTx6PR3V1ddZ+HU40\\\n",
       "8fxHD899dPH8R5ftz78xRk1NTRoxYoQSEuz8NBxHAK9AQkKCRo4cGe1p9AmXy2XlXwL9Bc9/9PDc\\\n",
       "RxfPf3TZ/PzbeuQvwM7sBQAAsBgBCAAAYBkC0HJOp1MrV66U0+mM9lSsxPMfPTz30cXzH108/+Ak\\\n",
       "EAAAAMtwBBAAAMAyBCAAAIBlCEAAAADLEIAAAACWIQAt8cQTT+i2225Tamqq0tLSuhxz7NgxzZgx\\\n",
       "Q6mpqcrMzNSiRYvU3t4eMqayslLf+MY35HQ6NW7cOG3ZsiX8k49TY8aMkcPhCLmsWbMmZMz+/fs1\\\n",
       "bdo0DRw4UB6PR2vXro3SbOPPhg0bNGbMGA0cOFB5eXl69913oz2luLRq1apLfs+vu+664P4LFy6o\\\n",
       "tLRUw4YN0+DBg3XvvfeqoaEhijOOXW+88YbuuecejRgxQg6HQy+//HLIfmOMVqxYoauuukopKSkq\\\n",
       "LCzUJ598EjLmzJkzuv/+++VyuZSWlqa5c+fq888/j+CjQKQQgJZobW3Vfffdp4cffrjL/R0dHZox\\\n",
       "Y4ZaW1u1d+9ebd26VVu2bNGKFSuCY44cOaIZM2bozjvv1L59+/TjH/9YP/jBD/Tb3/42Ug8j7jz+\\\n",
       "+OM6ceJE8PKjH/0ouM/n86moqEijR49WdXW11q1bp1WrVum5556L4ozjwwsvvKAFCxZo5cqVeu+9\\\n",
       "9zR58mQVFxfr5MmT0Z5aXLrhhhtCfs/ffPPN4L5HH31Ur776qrZv367XX39d9fX1+s53vhPF2cau\\\n",
       "8+fPa/LkydqwYUOX+9euXauf/vSn2rhxo9555x0NGjRIxcXFunDhQnDM/fffr48++kjl5eXasWOH\\\n",
       "3njjDT300EORegiIJAOrbN682bjd7ku2/+Y3vzEJCQnG6/UGtz3zzDPG5XKZlpYWY4wxixcvNjfc\\\n",
       "cEPI7WbNmmWKi4vDOud4NXr0aPPUU09ddv/PfvYzk56eHnz+jTFmyZIlZvz48RGYXXy75ZZbTGlp\\\n",
       "afB6R0eHGTFihCkrK4virOLTypUrzeTJk7vcd+7cOZOUlGS2b98e3Hbw4EEjyVRVVUVohvFJknnp\\\n",
       "pZeC1zs7O012drZZt25dcNu5c+eM0+k0v/rVr4wxxnz88cdGkvn9738fHLNz507jcDjM8ePHIzZ3\\\n",
       "RAZHACFJqqqq0sSJE5WVlRXcVlxcLJ/Pp48++ig4prCwMOR2xcXFqqqqiuhc48maNWs0bNgw3XTT\\\n",
       "TVq3bl3IW+5VVVW64447lJycHNxWXFysw4cP6+zZs9GYblxobW1VdXV1yO9yQkKCCgsL+V0Ok08+\\\n",
       "+UQjRoxQTk6O7r//fh07dkySVF1drba2tpCfxXXXXadRo0bxs+hjR44ckdfrDXmu3W638vLygs91\\\n",
       "VVWV0tLSdPPNNwfHFBYWKiEhQe+8807E54zwGhDtCaB/8Hq9IfEnKXjd6/V2O8bn86m5uVkpKSmR\\\n",
       "mWyc+Pu//3t94xvf0NChQ7V3714tW7ZMJ06c0Pr16yX5n++xY8eG3ObLP5P09PSIzzkefPbZZ+ro\\\n",
       "6Ojyd/nQoUNRmlX8ysvL05YtWzR+/HidOHFCq1ev1rRp03TgwAF5vV4lJydf8rnkrKys4N876BuB\\\n",
       "57Or3/sv/x2fmZkZsn/AgAEaOnQoP484RADGsKVLl+qf/umfuh1z8ODBkA9cI7y+ys9kwYIFwW2T\\\n",
       "Jk1ScnKyfvjDH6qsrIyvZ0LcuOuuu4L/f9KkScrLy9Po0aP161//mn80AlFEAMawhQsX6oEHHuh2\\\n",
       "TE5OTq/uKzs7+5KzIANn4mVnZwf/9+Kz8xoaGuRyufiL/M+u5GeSl5en9vZ2HT16VOPHj7/s8y19\\\n",
       "8TPBVzd8+HAlJiZ2+dzyvIZfWlqa/uIv/kI1NTX667/+a7W2turcuXMhRwH5WfS9wPPZ0NCgq666\\\n",
       "Kri9oaFBU6ZMCY65+ESo9vZ2nTlzhp9HHCIAY1hGRoYyMjL65L7y8/P1xBNP6OTJk8G3AMrLy+Vy\\\n",
       "uTRhwoTgmN/85jchtysvL1d+fn6fzCEeXMnPZN++fUpISAg+//n5+Vq+fLna2tqUlJQkyf98jx8/\\\n",
       "nrd/r0BycrJyc3O1e/duzZw5U5LU2dmp3bt365FHHonu5Czw+eef649//KNKSkqUm5urpKQk7d69\\\n",
       "W/fee68k6fDhwzp27Bh/r/SxsWPHKjs7W7t37w4Gn8/n0zvvvBNcHSI/P1/nzp1TdXW1cnNzJUkV\\\n",
       "FRXq7OxUXl5etKaOcIn2WSiIjE8//dS8//77ZvXq1Wbw4MHm/fffN++//75pamoyxhjT3t5ubrzx\\\n",
       "RlNUVGT27dtndu3aZTIyMsyyZcuC91FbW2tSU1PNokWLzMGDB82GDRtMYmKi2bVrV7QeVszau3ev\\\n",
       "eeqpp8y+ffvMH//4R/Pv//7vJiMjw8yePTs45ty5cyYrK8uUlJSYAwcOmOeff96kpqaaZ599Nooz\\\n",
       "jw/PP/+8cTqdZsuWLebjjz82Dz30kElLSws5Cx59Y+HChaaystIcOXLEvPXWW6awsNAMHz7cnDx5\\\n",
       "0hhjzPz5882oUaNMRUWF+Z//+R+Tn59v8vPzozzr2NTU1BT8u12SWb9+vXn//ffNp59+aowxZs2a\\\n",
       "NSYtLc288sorZv/+/eZb3/qWGTt2rGlubg7exze/+U1z0003mXfeece8+eab5tprrzXf+973ovWQ\\\n",
       "EEYEoCXmzJljJF1y2bNnT3DM0aNHzV133WVSUlLM8OHDzcKFC01bW1vI/ezZs8dMmTLFJCcnm5yc\\\n",
       "HLN58+bIPpA4UV1dbfLy8ozb7TYDBw40119/vXnyySfNhQsXQsZ98MEH5vbbbzdOp9NcffXVZs2a\\\n",
       "NVGacfx5+umnzahRo0xycrK55ZZbzNtvvx3tKcWlWbNmmauuusokJyebq6++2syaNcvU1NQE9zc3\\\n",
       "N5u/+7u/M+np6SY1NdV8+9vfNidOnIjijGPXnj17uvx7fs6cOcYY/1IwP/nJT0xWVpZxOp3mr/7q\\\n",
       "r8zhw4dD7uP06dPme9/7nhk8eLBxuVzmwQcfDB4oQHxxGGNMlA4+AgAAIApYBxAAAMAyBCAAAIBl\\\n",
       "CEAAAADLEIAAAACWIQABAAAsQwACAABYhgAEAACwDAEIAABgGQIQAADAMgQgAACAZQhAAAAAyxCA\\\n",
       "AAAAliEAAQAALEMAAgAAWIYABAAAsAwBCAAAYBkCEAAAwDIEIAAAgGUIQAAAAMsQgAAAAJYhAAEA\\\n",
       "ACxDAAIAAFiGAAQAALAMAQgAAGAZAhAAAMAyBCAAAIBlCEAAAADLEIAAAACWIQABAAAsQwACAABY\\\n",
       "hgAEAACwzP8HaWy1/EZWjd4AAAAASUVORK5CYII=\\\n",
       "\"\n",
       "\n",
       "\n",
       "    /* set a timeout to make sure all the above elements are created before\n",
       "       the object is initialized. */\n",
       "    setTimeout(function() {\n",
       "        anim28fee7579ab64644bf487f8ebe764632 = new Animation(frames, img_id, slider_id, 500.0,\n",
       "                                 loop_select_id);\n",
       "    }, 0);\n",
       "  })()\n",
       "</script>\n"
      ],
      "text/plain": [
       "<IPython.core.display.HTML object>"
      ]
     },
     "execution_count": 112,
     "metadata": {},
     "output_type": "execute_result"
    }
   ],
   "source": [
    "X = data.clone()\n",
    "fig, ax = plt.subplots()\n",
    "ani = FuncAnimation(fig, do_one, frames=5, interval=500)\n",
    "plt.close()\n",
    "HTML(ani.to_jshtml())"
   ]
  },
  {
   "cell_type": "code",
   "execution_count": null,
   "metadata": {},
   "outputs": [],
   "source": [
    "#| hide\n",
    "from nbdev.showdoc import *"
   ]
  },
  {
   "cell_type": "code",
   "execution_count": null,
   "metadata": {},
   "outputs": [],
   "source": [
    "#| export\n",
    "def foo(): pass"
   ]
  },
  {
   "cell_type": "code",
   "execution_count": null,
   "metadata": {},
   "outputs": [],
   "source": [
    "#| hide\n",
    "import nbdev; nbdev.nbdev_export()"
   ]
  }
 ],
 "metadata": {
  "kernelspec": {
   "display_name": "Python 3.10.4 64-bit",
   "language": "python",
   "name": "python3"
  },
  "language_info": {
   "codemirror_mode": {
    "name": "ipython",
    "version": 3
   },
   "file_extension": ".py",
   "mimetype": "text/x-python",
   "name": "python",
   "nbconvert_exporter": "python",
   "pygments_lexer": "ipython3",
   "version": "3.10.4"
  },
  "vscode": {
   "interpreter": {
    "hash": "3ad933181bd8a04b432d3370b9dc3b0662ad032c4dfaa4e4f1596c548f763858"
   }
  }
 },
 "nbformat": 4,
 "nbformat_minor": 4
}
